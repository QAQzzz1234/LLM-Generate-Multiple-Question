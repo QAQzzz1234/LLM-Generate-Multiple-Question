{
 "cells": [
  {
   "cell_type": "code",
   "execution_count": 1,
   "id": "initial_id",
   "metadata": {
    "collapsed": true,
    "ExecuteTime": {
     "end_time": "2024-02-12T15:18:52.587807Z",
     "start_time": "2024-02-12T15:18:51.747028Z"
    }
   },
   "outputs": [],
   "source": [
    "import numpy as np\n",
    "import pandas as pd"
   ]
  },
  {
   "cell_type": "code",
   "outputs": [
    {
     "data": {
      "text/plain": "708"
     },
     "execution_count": 21,
     "metadata": {},
     "output_type": "execute_result"
    }
   ],
   "source": [
    "df = pd.read_csv(\"questions.csv\")\n",
    "df = df[~df['Question'].str.contains('img')]\n",
    "data = df['Question']\n",
    "data.to_excel(\"questions_modify.xlsx\")\n",
    "\n",
    "len(df)"
   ],
   "metadata": {
    "collapsed": false,
    "ExecuteTime": {
     "end_time": "2024-02-12T17:10:37.228178Z",
     "start_time": "2024-02-12T17:10:36.890871Z"
    }
   },
   "id": "bd586cfca1340282",
   "execution_count": 21
  },
  {
   "cell_type": "code",
   "outputs": [],
   "source": [
    "df.head()\n",
    "df.to_csv(\"31_questions.csv\")"
   ],
   "metadata": {
    "collapsed": false,
    "ExecuteTime": {
     "end_time": "2024-02-12T16:51:33.682665Z",
     "start_time": "2024-02-12T16:51:33.638253Z"
    }
   },
   "id": "1d619db73013d14e",
   "execution_count": 19
  },
  {
   "cell_type": "code",
   "outputs": [
    {
     "data": {
      "text/plain": "    Type      ID  Points                                           Question  \\\n203   MC  632247     NaN  \\n<p>The <code>StackADT</code>'s&nbsp;<code>po...   \n121   MC  633400     NaN  <p>You see the expression <code>n = 100000</co...   \n444   MC  635026     NaN  \\n<pre lang=\"text/x-java\">  public BallPanel e...   \n449   MC  635023     NaN  \\n<p>Suppose <code>s</code> is an instance of ...   \n711   MC  632254     NaN  <p>Suppose you are trying to choose between an...   \n\n    Correct Answer                                           Choice 1  \\\n203              C  <p>adds a new item at the bottom of the Stack</p>   \n121              B                                         <p>int</p>   \n444              B              <code>_balls[20] = new Ball();</code>   \n449              B                                   <p>\"Finland\"</p>   \n711              B                                    <p>an array</p>   \n\n                                              Choice 2  \\\n203  <p>returns without removing the top item on th...   \n121                                       <p>short</p>   \n444  <pre lang=\"text/x-java\">_balls[0] = _balls[15]...   \n449                                        <p>\"is\"</p>   \n711                               <p>a linked list</p>   \n\n                                              Choice 3  \\\n203  <p>removes and returns the top item on the Sta...   \n121                                       <p>float</p>   \n444                <code>_balls[10].getColor();</code>   \n449                                        <p>\"my\"</p>   \n711                                        <p>both</p>   \n\n                                           Choice 4  \\\n203  <p>adds a new item at the top of the Stack</p>   \n121                                   <p>double</p>   \n444                        <p>Both A and C work</p>   \n449                                   <p>\"home\"</p>   \n711                                  <p>neither</p>   \n\n                                              Choice 5  Choice 6  Choice 7  \\\n203  <p>returns true if the Stack is empty and&nbsp...       NaN       NaN   \n121                                        <p>long</p>       NaN       NaN   \n444                           <p>Both B and C work</p>       NaN       NaN   \n449                           <p>None of the above</p>       NaN       NaN   \n711                                                NaN       NaN       NaN   \n\n     Choice 8  Choice 9  Choice 10  \\\n203       NaN       NaN        NaN   \n121       NaN       NaN        NaN   \n444       NaN       NaN        NaN   \n449       NaN       NaN        NaN   \n711       NaN       NaN        NaN   \n\n                                           Explanation  \n203  <p>\"pop\" is the traditional term for removing ...  \n121  <p>Shorts can only hold values in [-32768, 327...  \n444  \\n<p>A doesn't work, since the possible range ...  \n449  \\n<p>After the three pushes the stack contents...  \n711  <p>When initializing a Java array, you must al...  ",
      "text/html": "<div>\n<style scoped>\n    .dataframe tbody tr th:only-of-type {\n        vertical-align: middle;\n    }\n\n    .dataframe tbody tr th {\n        vertical-align: top;\n    }\n\n    .dataframe thead th {\n        text-align: right;\n    }\n</style>\n<table border=\"1\" class=\"dataframe\">\n  <thead>\n    <tr style=\"text-align: right;\">\n      <th></th>\n      <th>Type</th>\n      <th>ID</th>\n      <th>Points</th>\n      <th>Question</th>\n      <th>Correct Answer</th>\n      <th>Choice 1</th>\n      <th>Choice 2</th>\n      <th>Choice 3</th>\n      <th>Choice 4</th>\n      <th>Choice 5</th>\n      <th>Choice 6</th>\n      <th>Choice 7</th>\n      <th>Choice 8</th>\n      <th>Choice 9</th>\n      <th>Choice 10</th>\n      <th>Explanation</th>\n    </tr>\n  </thead>\n  <tbody>\n    <tr>\n      <th>203</th>\n      <td>MC</td>\n      <td>632247</td>\n      <td>NaN</td>\n      <td>\\n&lt;p&gt;The &lt;code&gt;StackADT&lt;/code&gt;'s&amp;nbsp;&lt;code&gt;po...</td>\n      <td>C</td>\n      <td>&lt;p&gt;adds a new item at the bottom of the Stack&lt;/p&gt;</td>\n      <td>&lt;p&gt;returns without removing the top item on th...</td>\n      <td>&lt;p&gt;removes and returns the top item on the Sta...</td>\n      <td>&lt;p&gt;adds a new item at the top of the Stack&lt;/p&gt;</td>\n      <td>&lt;p&gt;returns true if the Stack is empty and&amp;nbsp...</td>\n      <td>NaN</td>\n      <td>NaN</td>\n      <td>NaN</td>\n      <td>NaN</td>\n      <td>NaN</td>\n      <td>&lt;p&gt;\"pop\" is the traditional term for removing ...</td>\n    </tr>\n    <tr>\n      <th>121</th>\n      <td>MC</td>\n      <td>633400</td>\n      <td>NaN</td>\n      <td>&lt;p&gt;You see the expression &lt;code&gt;n = 100000&lt;/co...</td>\n      <td>B</td>\n      <td>&lt;p&gt;int&lt;/p&gt;</td>\n      <td>&lt;p&gt;short&lt;/p&gt;</td>\n      <td>&lt;p&gt;float&lt;/p&gt;</td>\n      <td>&lt;p&gt;double&lt;/p&gt;</td>\n      <td>&lt;p&gt;long&lt;/p&gt;</td>\n      <td>NaN</td>\n      <td>NaN</td>\n      <td>NaN</td>\n      <td>NaN</td>\n      <td>NaN</td>\n      <td>&lt;p&gt;Shorts can only hold values in [-32768, 327...</td>\n    </tr>\n    <tr>\n      <th>444</th>\n      <td>MC</td>\n      <td>635026</td>\n      <td>NaN</td>\n      <td>\\n&lt;pre lang=\"text/x-java\"&gt;  public BallPanel e...</td>\n      <td>B</td>\n      <td>&lt;code&gt;_balls[20] = new Ball();&lt;/code&gt;</td>\n      <td>&lt;pre lang=\"text/x-java\"&gt;_balls[0] = _balls[15]...</td>\n      <td>&lt;code&gt;_balls[10].getColor();&lt;/code&gt;</td>\n      <td>&lt;p&gt;Both A and C work&lt;/p&gt;</td>\n      <td>&lt;p&gt;Both B and C work&lt;/p&gt;</td>\n      <td>NaN</td>\n      <td>NaN</td>\n      <td>NaN</td>\n      <td>NaN</td>\n      <td>NaN</td>\n      <td>\\n&lt;p&gt;A doesn't work, since the possible range ...</td>\n    </tr>\n    <tr>\n      <th>449</th>\n      <td>MC</td>\n      <td>635023</td>\n      <td>NaN</td>\n      <td>\\n&lt;p&gt;Suppose &lt;code&gt;s&lt;/code&gt; is an instance of ...</td>\n      <td>B</td>\n      <td>&lt;p&gt;\"Finland\"&lt;/p&gt;</td>\n      <td>&lt;p&gt;\"is\"&lt;/p&gt;</td>\n      <td>&lt;p&gt;\"my\"&lt;/p&gt;</td>\n      <td>&lt;p&gt;\"home\"&lt;/p&gt;</td>\n      <td>&lt;p&gt;None of the above&lt;/p&gt;</td>\n      <td>NaN</td>\n      <td>NaN</td>\n      <td>NaN</td>\n      <td>NaN</td>\n      <td>NaN</td>\n      <td>\\n&lt;p&gt;After the three pushes the stack contents...</td>\n    </tr>\n    <tr>\n      <th>711</th>\n      <td>MC</td>\n      <td>632254</td>\n      <td>NaN</td>\n      <td>&lt;p&gt;Suppose you are trying to choose between an...</td>\n      <td>B</td>\n      <td>&lt;p&gt;an array&lt;/p&gt;</td>\n      <td>&lt;p&gt;a linked list&lt;/p&gt;</td>\n      <td>&lt;p&gt;both&lt;/p&gt;</td>\n      <td>&lt;p&gt;neither&lt;/p&gt;</td>\n      <td>NaN</td>\n      <td>NaN</td>\n      <td>NaN</td>\n      <td>NaN</td>\n      <td>NaN</td>\n      <td>NaN</td>\n      <td>&lt;p&gt;When initializing a Java array, you must al...</td>\n    </tr>\n  </tbody>\n</table>\n</div>"
     },
     "execution_count": 15,
     "metadata": {},
     "output_type": "execute_result"
    }
   ],
   "source": [
    "df_50_question = df.sample(n=50,random_state=1)\n",
    "df_50_question.head()"
   ],
   "metadata": {
    "collapsed": false,
    "ExecuteTime": {
     "end_time": "2024-02-12T16:48:03.804564Z",
     "start_time": "2024-02-12T16:48:03.792101Z"
    }
   },
   "id": "4490238e1393b6c3",
   "execution_count": 15
  },
  {
   "cell_type": "code",
   "outputs": [],
   "source": [
    "df_50_question.to_csv(\"questions.csv\")"
   ],
   "metadata": {
    "collapsed": false,
    "ExecuteTime": {
     "end_time": "2024-02-12T16:48:05.573081Z",
     "start_time": "2024-02-12T16:48:05.554746Z"
    }
   },
   "id": "15b72fde6d9a2d4a",
   "execution_count": 16
  },
  {
   "cell_type": "code",
   "outputs": [
    {
     "ename": "NameError",
     "evalue": "name 'pd' is not defined",
     "output_type": "error",
     "traceback": [
      "\u001B[0;31m---------------------------------------------------------------------------\u001B[0m",
      "\u001B[0;31mNameError\u001B[0m                                 Traceback (most recent call last)",
      "Cell \u001B[0;32mIn[1], line 1\u001B[0m\n\u001B[0;32m----> 1\u001B[0m df \u001B[38;5;241m=\u001B[39m pd\u001B[38;5;241m.\u001B[39mread_csv(\u001B[38;5;124m\"\u001B[39m\u001B[38;5;124mdf_3model.csv.csv\u001B[39m\u001B[38;5;124m\"\u001B[39m)\n\u001B[1;32m      2\u001B[0m df\n",
      "\u001B[0;31mNameError\u001B[0m: name 'pd' is not defined"
     ]
    }
   ],
   "source": [],
   "metadata": {
    "collapsed": false,
    "ExecuteTime": {
     "end_time": "2024-04-24T11:52:31.641705Z",
     "start_time": "2024-04-24T11:52:31.180116Z"
    }
   },
   "id": "45bdf89b57bbf717",
   "execution_count": 1
  }
 ],
 "metadata": {
  "kernelspec": {
   "display_name": "Python 3",
   "language": "python",
   "name": "python3"
  },
  "language_info": {
   "codemirror_mode": {
    "name": "ipython",
    "version": 2
   },
   "file_extension": ".py",
   "mimetype": "text/x-python",
   "name": "python",
   "nbconvert_exporter": "python",
   "pygments_lexer": "ipython2",
   "version": "2.7.6"
  }
 },
 "nbformat": 4,
 "nbformat_minor": 5
}
