{
 "cells": [
  {
   "cell_type": "markdown",
   "source": [
    "#### Data Preprocessing"
   ],
   "metadata": {
    "collapsed": false
   },
   "id": "92d450978a0fd1af"
  },
  {
   "cell_type": "code",
   "execution_count": 3,
   "id": "30e6176e",
   "metadata": {
    "ExecuteTime": {
     "end_time": "2024-02-21T09:44:00.161543Z",
     "start_time": "2024-02-21T09:44:00.030805Z"
    }
   },
   "outputs": [],
   "source": [
    "import pandas as pd"
   ]
  },
  {
   "cell_type": "code",
   "execution_count": 4,
   "id": "c9ddfedb",
   "metadata": {
    "ExecuteTime": {
     "end_time": "2024-02-21T09:44:00.237352Z",
     "start_time": "2024-02-21T09:44:00.146598Z"
    }
   },
   "outputs": [],
   "source": [
    "df = pd.read_csv(\"questions.csv\")"
   ]
  },
  {
   "cell_type": "code",
   "execution_count": 5,
   "id": "e740f4a4",
   "metadata": {
    "ExecuteTime": {
     "end_time": "2024-02-21T09:44:00.425879Z",
     "start_time": "2024-02-21T09:44:00.218130Z"
    }
   },
   "outputs": [
    {
     "data": {
      "text/plain": "    Type      ID  Points                                           Question  \\\n0     MC  633573     NaN  <p>Suppose you try to perform a binary search ...   \n1     MC  632805     NaN  <p>Which data structure used to implement&nbsp...   \n2     MC  635053     NaN  \\n<p><img src=\"img/1.png\" alt=\"no description\"...   \n3     MC  633246     NaN  <p>For a graph with N nodes, what's the minimu...   \n4     MC  634254     NaN  \\n<p>Read the following method skeleton and ch...   \n..   ...     ...     ...                                                ...   \n751   MC  632565     NaN  <p>The worst-case time complexity of quicksort...   \n752   MC  632743     NaN  \\n<p>The following is a skeleton for a method ...   \n753   MC  632753     NaN  \\n<p>The following is a skeleton for a method ...   \n754   MC  632754     NaN  \\n<p>The following is a skeleton for a method ...   \n755   MC  632808     NaN  \\n<p>Suppose you have the following partial co...   \n\n    Correct Answer                                           Choice 1  \\\n0                C                                           <p>5</p>   \n1                B                          <p>Binary search tree</p>   \n2                D  \\n<p>Define a fly method in Crow by copying th...   \n3                D                                       <p>N + 1</p>   \n4                D                               <code>counter</code>   \n..             ...                                                ...   \n751              C                                        <p>O(1)</p>   \n752              E  <pre lang=\"text/x-java\">for (int i=last; i&gt;...   \n753              A  <pre lang=\"text/x-java\">for (int i=last; i&gt;...   \n754              B  <pre lang=\"text/x-java\">for (int i=last; i&gt;...   \n755              C  <pre lang=\"text/x-java\">for (int i = 0; i &lt;...   \n\n                                              Choice 2  \\\n0                                             <p>0</p>   \n1                                   <p>Linked list</p>   \n2    \\n<p>Define a fly method in Crow&nbsp; that ju...   \n3                                             <p>N</p>   \n4                                    <code>true</code>   \n..                                                 ...   \n751                                        <p>O(n)</p>   \n752  <pre lang=\"text/x-java\">for (int i=first+1; i&...   \n753  <pre lang=\"text/x-java\">for (int i=first+1; i&...   \n754  <pre lang=\"text/x-java\">for (int i=first+1; i&...   \n755  <pre lang=\"text/x-java\">for (int i : nums)\\n  ...   \n\n                                              Choice 3  \\\n0                                             <p>1</p>   \n1                                  <p>Sorted array</p>   \n2    \\n<p>Define a fly method in Crow that just con...   \n3                                         <p>N - 1</p>   \n4                                   <code>false</code>   \n..                                                 ...   \n751                                  <p>O(n log n)</p>   \n752  <pre lang=\"text/x-java\">for (int i=last; i&gt;...   \n753  <pre lang=\"text/x-java\">for (int i=last; i&gt;...   \n754  <pre lang=\"text/x-java\">for (int i=last; i&gt;...   \n755  <pre lang=\"text/x-java\">for (int i = nums.leng...   \n\n                                              Choice 4  \\\n0                                             <p>2</p>   \n1                                     <p>Hashtable</p>   \n2    \\n<p>Define a fly method in Crow that just con...   \n3                                             <p>1</p>   \n4                                  <code>totalA</code>   \n..                                                 ...   \n751                            <p>O(n<sup>2</sup>)</p>   \n752  <pre lang=\"text/x-java\">for (int i=last; i&gt;...   \n753  <pre lang=\"text/x-java\">for (int i=last; i&gt;...   \n754  <pre lang=\"text/x-java\">for (int i=last; i&gt;...   \n755  <pre lang=\"text/x-java\">int i = 0;\\nwhile (i &...   \n\n                                              Choice 5  Choice 6  Choice 7  \\\n0                                             <p>3</p>       NaN       NaN   \n1                                                  NaN       NaN       NaN   \n2    \\n<p>Define a fly method in Crow that just con...       NaN       NaN   \n3                                             <p>2</p>       NaN       NaN   \n4                                 <code>aString</code>       NaN       NaN   \n..                                                 ...       ...       ...   \n751                           <p>none of the above</p>       NaN       NaN   \n752  <pre lang=\"text/x-java\">for (int i=first+1; i&...       NaN       NaN   \n753  <pre lang=\"text/x-java\">for (int i=first+1; i&...       NaN       NaN   \n754  <pre lang=\"text/x-java\">for (int i=first+1; i&...       NaN       NaN   \n755                                                NaN       NaN       NaN   \n\n     Choice 8  Choice 9  Choice 10  \\\n0         NaN       NaN        NaN   \n1         NaN       NaN        NaN   \n2         NaN       NaN        NaN   \n3         NaN       NaN        NaN   \n4         NaN       NaN        NaN   \n..        ...       ...        ...   \n751       NaN       NaN        NaN   \n752       NaN       NaN        NaN   \n753       NaN       NaN        NaN   \n754       NaN       NaN        NaN   \n755       NaN       NaN        NaN   \n\n                                           Explanation  \n0    <p>Only the middle element will be found. The ...  \n1    <p>Implementing Set.contains involves a search...  \n2    \\n<p>D is the best: super.fly(place) invokes B...  \n3    <p>A vertex with an edge to itself is a cycle....  \n4    <p>The return type of the method is <code>int<...  \n..                                                 ...  \n751  \\n<p>In the worst case, every time we partitio...  \n752  <p>a)<br>INCORRECT<br>The loop starts at last ...  \n753  \\n<p>a)</p>\\n<p>CORRECT!</p>\\n<p>b)</p>\\n<p>IN...  \n754  \\n<p>a)</p>\\n<p>INCORRECT:</p>\\n<p><span style...  \n755  <p>It appears in this solution that we are ite...  \n\n[756 rows x 16 columns]",
      "text/html": "<div>\n<style scoped>\n    .dataframe tbody tr th:only-of-type {\n        vertical-align: middle;\n    }\n\n    .dataframe tbody tr th {\n        vertical-align: top;\n    }\n\n    .dataframe thead th {\n        text-align: right;\n    }\n</style>\n<table border=\"1\" class=\"dataframe\">\n  <thead>\n    <tr style=\"text-align: right;\">\n      <th></th>\n      <th>Type</th>\n      <th>ID</th>\n      <th>Points</th>\n      <th>Question</th>\n      <th>Correct Answer</th>\n      <th>Choice 1</th>\n      <th>Choice 2</th>\n      <th>Choice 3</th>\n      <th>Choice 4</th>\n      <th>Choice 5</th>\n      <th>Choice 6</th>\n      <th>Choice 7</th>\n      <th>Choice 8</th>\n      <th>Choice 9</th>\n      <th>Choice 10</th>\n      <th>Explanation</th>\n    </tr>\n  </thead>\n  <tbody>\n    <tr>\n      <th>0</th>\n      <td>MC</td>\n      <td>633573</td>\n      <td>NaN</td>\n      <td>&lt;p&gt;Suppose you try to perform a binary search ...</td>\n      <td>C</td>\n      <td>&lt;p&gt;5&lt;/p&gt;</td>\n      <td>&lt;p&gt;0&lt;/p&gt;</td>\n      <td>&lt;p&gt;1&lt;/p&gt;</td>\n      <td>&lt;p&gt;2&lt;/p&gt;</td>\n      <td>&lt;p&gt;3&lt;/p&gt;</td>\n      <td>NaN</td>\n      <td>NaN</td>\n      <td>NaN</td>\n      <td>NaN</td>\n      <td>NaN</td>\n      <td>&lt;p&gt;Only the middle element will be found. The ...</td>\n    </tr>\n    <tr>\n      <th>1</th>\n      <td>MC</td>\n      <td>632805</td>\n      <td>NaN</td>\n      <td>&lt;p&gt;Which data structure used to implement&amp;nbsp...</td>\n      <td>B</td>\n      <td>&lt;p&gt;Binary search tree&lt;/p&gt;</td>\n      <td>&lt;p&gt;Linked list&lt;/p&gt;</td>\n      <td>&lt;p&gt;Sorted array&lt;/p&gt;</td>\n      <td>&lt;p&gt;Hashtable&lt;/p&gt;</td>\n      <td>NaN</td>\n      <td>NaN</td>\n      <td>NaN</td>\n      <td>NaN</td>\n      <td>NaN</td>\n      <td>NaN</td>\n      <td>&lt;p&gt;Implementing Set.contains involves a search...</td>\n    </tr>\n    <tr>\n      <th>2</th>\n      <td>MC</td>\n      <td>635053</td>\n      <td>NaN</td>\n      <td>\\n&lt;p&gt;&lt;img src=\"img/1.png\" alt=\"no description\"...</td>\n      <td>D</td>\n      <td>\\n&lt;p&gt;Define a fly method in Crow by copying th...</td>\n      <td>\\n&lt;p&gt;Define a fly method in Crow&amp;nbsp; that ju...</td>\n      <td>\\n&lt;p&gt;Define a fly method in Crow that just con...</td>\n      <td>\\n&lt;p&gt;Define a fly method in Crow that just con...</td>\n      <td>\\n&lt;p&gt;Define a fly method in Crow that just con...</td>\n      <td>NaN</td>\n      <td>NaN</td>\n      <td>NaN</td>\n      <td>NaN</td>\n      <td>NaN</td>\n      <td>\\n&lt;p&gt;D is the best: super.fly(place) invokes B...</td>\n    </tr>\n    <tr>\n      <th>3</th>\n      <td>MC</td>\n      <td>633246</td>\n      <td>NaN</td>\n      <td>&lt;p&gt;For a graph with N nodes, what's the minimu...</td>\n      <td>D</td>\n      <td>&lt;p&gt;N + 1&lt;/p&gt;</td>\n      <td>&lt;p&gt;N&lt;/p&gt;</td>\n      <td>&lt;p&gt;N - 1&lt;/p&gt;</td>\n      <td>&lt;p&gt;1&lt;/p&gt;</td>\n      <td>&lt;p&gt;2&lt;/p&gt;</td>\n      <td>NaN</td>\n      <td>NaN</td>\n      <td>NaN</td>\n      <td>NaN</td>\n      <td>NaN</td>\n      <td>&lt;p&gt;A vertex with an edge to itself is a cycle....</td>\n    </tr>\n    <tr>\n      <th>4</th>\n      <td>MC</td>\n      <td>634254</td>\n      <td>NaN</td>\n      <td>\\n&lt;p&gt;Read the following method skeleton and ch...</td>\n      <td>D</td>\n      <td>&lt;code&gt;counter&lt;/code&gt;</td>\n      <td>&lt;code&gt;true&lt;/code&gt;</td>\n      <td>&lt;code&gt;false&lt;/code&gt;</td>\n      <td>&lt;code&gt;totalA&lt;/code&gt;</td>\n      <td>&lt;code&gt;aString&lt;/code&gt;</td>\n      <td>NaN</td>\n      <td>NaN</td>\n      <td>NaN</td>\n      <td>NaN</td>\n      <td>NaN</td>\n      <td>&lt;p&gt;The return type of the method is &lt;code&gt;int&lt;...</td>\n    </tr>\n    <tr>\n      <th>...</th>\n      <td>...</td>\n      <td>...</td>\n      <td>...</td>\n      <td>...</td>\n      <td>...</td>\n      <td>...</td>\n      <td>...</td>\n      <td>...</td>\n      <td>...</td>\n      <td>...</td>\n      <td>...</td>\n      <td>...</td>\n      <td>...</td>\n      <td>...</td>\n      <td>...</td>\n      <td>...</td>\n    </tr>\n    <tr>\n      <th>751</th>\n      <td>MC</td>\n      <td>632565</td>\n      <td>NaN</td>\n      <td>&lt;p&gt;The worst-case time complexity of quicksort...</td>\n      <td>C</td>\n      <td>&lt;p&gt;O(1)&lt;/p&gt;</td>\n      <td>&lt;p&gt;O(n)&lt;/p&gt;</td>\n      <td>&lt;p&gt;O(n log n)&lt;/p&gt;</td>\n      <td>&lt;p&gt;O(n&lt;sup&gt;2&lt;/sup&gt;)&lt;/p&gt;</td>\n      <td>&lt;p&gt;none of the above&lt;/p&gt;</td>\n      <td>NaN</td>\n      <td>NaN</td>\n      <td>NaN</td>\n      <td>NaN</td>\n      <td>NaN</td>\n      <td>\\n&lt;p&gt;In the worst case, every time we partitio...</td>\n    </tr>\n    <tr>\n      <th>752</th>\n      <td>MC</td>\n      <td>632743</td>\n      <td>NaN</td>\n      <td>\\n&lt;p&gt;The following is a skeleton for a method ...</td>\n      <td>E</td>\n      <td>&lt;pre lang=\"text/x-java\"&gt;for (int i=last; i&amp;gt;...</td>\n      <td>&lt;pre lang=\"text/x-java\"&gt;for (int i=first+1; i&amp;...</td>\n      <td>&lt;pre lang=\"text/x-java\"&gt;for (int i=last; i&amp;gt;...</td>\n      <td>&lt;pre lang=\"text/x-java\"&gt;for (int i=last; i&amp;gt;...</td>\n      <td>&lt;pre lang=\"text/x-java\"&gt;for (int i=first+1; i&amp;...</td>\n      <td>NaN</td>\n      <td>NaN</td>\n      <td>NaN</td>\n      <td>NaN</td>\n      <td>NaN</td>\n      <td>&lt;p&gt;a)&lt;br&gt;INCORRECT&lt;br&gt;The loop starts at last ...</td>\n    </tr>\n    <tr>\n      <th>753</th>\n      <td>MC</td>\n      <td>632753</td>\n      <td>NaN</td>\n      <td>\\n&lt;p&gt;The following is a skeleton for a method ...</td>\n      <td>A</td>\n      <td>&lt;pre lang=\"text/x-java\"&gt;for (int i=last; i&amp;gt;...</td>\n      <td>&lt;pre lang=\"text/x-java\"&gt;for (int i=first+1; i&amp;...</td>\n      <td>&lt;pre lang=\"text/x-java\"&gt;for (int i=last; i&amp;gt;...</td>\n      <td>&lt;pre lang=\"text/x-java\"&gt;for (int i=last; i&amp;gt;...</td>\n      <td>&lt;pre lang=\"text/x-java\"&gt;for (int i=first+1; i&amp;...</td>\n      <td>NaN</td>\n      <td>NaN</td>\n      <td>NaN</td>\n      <td>NaN</td>\n      <td>NaN</td>\n      <td>\\n&lt;p&gt;a)&lt;/p&gt;\\n&lt;p&gt;CORRECT!&lt;/p&gt;\\n&lt;p&gt;b)&lt;/p&gt;\\n&lt;p&gt;IN...</td>\n    </tr>\n    <tr>\n      <th>754</th>\n      <td>MC</td>\n      <td>632754</td>\n      <td>NaN</td>\n      <td>\\n&lt;p&gt;The following is a skeleton for a method ...</td>\n      <td>B</td>\n      <td>&lt;pre lang=\"text/x-java\"&gt;for (int i=last; i&amp;gt;...</td>\n      <td>&lt;pre lang=\"text/x-java\"&gt;for (int i=first+1; i&amp;...</td>\n      <td>&lt;pre lang=\"text/x-java\"&gt;for (int i=last; i&amp;gt;...</td>\n      <td>&lt;pre lang=\"text/x-java\"&gt;for (int i=last; i&amp;gt;...</td>\n      <td>&lt;pre lang=\"text/x-java\"&gt;for (int i=first+1; i&amp;...</td>\n      <td>NaN</td>\n      <td>NaN</td>\n      <td>NaN</td>\n      <td>NaN</td>\n      <td>NaN</td>\n      <td>\\n&lt;p&gt;a)&lt;/p&gt;\\n&lt;p&gt;INCORRECT:&lt;/p&gt;\\n&lt;p&gt;&lt;span style...</td>\n    </tr>\n    <tr>\n      <th>755</th>\n      <td>MC</td>\n      <td>632808</td>\n      <td>NaN</td>\n      <td>\\n&lt;p&gt;Suppose you have the following partial co...</td>\n      <td>C</td>\n      <td>&lt;pre lang=\"text/x-java\"&gt;for (int i = 0; i &amp;lt;...</td>\n      <td>&lt;pre lang=\"text/x-java\"&gt;for (int i : nums)\\n  ...</td>\n      <td>&lt;pre lang=\"text/x-java\"&gt;for (int i = nums.leng...</td>\n      <td>&lt;pre lang=\"text/x-java\"&gt;int i = 0;\\nwhile (i &amp;...</td>\n      <td>NaN</td>\n      <td>NaN</td>\n      <td>NaN</td>\n      <td>NaN</td>\n      <td>NaN</td>\n      <td>NaN</td>\n      <td>&lt;p&gt;It appears in this solution that we are ite...</td>\n    </tr>\n  </tbody>\n</table>\n<p>756 rows × 16 columns</p>\n</div>"
     },
     "execution_count": 5,
     "metadata": {},
     "output_type": "execute_result"
    }
   ],
   "source": [
    "df"
   ]
  },
  {
   "cell_type": "code",
   "execution_count": 6,
   "id": "b24df538",
   "metadata": {
    "ExecuteTime": {
     "end_time": "2024-02-21T09:44:00.917898Z",
     "start_time": "2024-02-21T09:44:00.298418Z"
    }
   },
   "outputs": [],
   "source": [
    "from bs4 import BeautifulSoup"
   ]
  },
  {
   "cell_type": "code",
   "execution_count": 7,
   "id": "42b90774",
   "metadata": {
    "ExecuteTime": {
     "end_time": "2024-02-21T09:44:01.349835Z",
     "start_time": "2024-02-21T09:44:00.644995Z"
    }
   },
   "outputs": [],
   "source": [
    "def my_get_text(html_code):\n",
    "    soup = BeautifulSoup(html_code)\n",
    "    return soup.get_text().strip()\n",
    "    \n",
    "    \n",
    "question_cleaned = df['Question'].apply(my_get_text)"
   ]
  },
  {
   "cell_type": "code",
   "execution_count": 8,
   "id": "ff1deeff",
   "metadata": {
    "ExecuteTime": {
     "end_time": "2024-02-21T09:44:01.358190Z",
     "start_time": "2024-02-21T09:44:01.232058Z"
    }
   },
   "outputs": [
    {
     "data": {
      "text/plain": "0      Suppose you try to perform a binary search on ...\n1      Which data structure used to implement Set yie...\n2      The simplified UML diagram above shows the rel...\n3      For a graph with N nodes, what's the minimum n...\n4      Read the following method skeleton and choose ...\n                             ...                        \n751      The worst-case time complexity of quicksort is:\n752    The following is a skeleton for a method calle...\n753    The following is a skeleton for a method calle...\n754    The following is a skeleton for a method calle...\n755    Suppose you have the following partial code to...\nName: Question, Length: 756, dtype: object"
     },
     "execution_count": 8,
     "metadata": {},
     "output_type": "execute_result"
    }
   ],
   "source": [
    "question_cleaned"
   ]
  },
  {
   "cell_type": "code",
   "execution_count": 11,
   "id": "390955e6",
   "metadata": {
    "ExecuteTime": {
     "end_time": "2024-02-21T09:46:29.983597Z",
     "start_time": "2024-02-21T09:46:29.945758Z"
    }
   },
   "outputs": [],
   "source": [
    "df_noimage_mask = df[~df['Question'].str.contains(\"img\")]"
   ]
  },
  {
   "cell_type": "code",
   "execution_count": 13,
   "id": "3a23b9a3",
   "metadata": {
    "ExecuteTime": {
     "end_time": "2024-02-21T09:47:25.644073Z",
     "start_time": "2024-02-21T09:47:25.098755Z"
    }
   },
   "outputs": [],
   "source": [
    "question_cleaned_noimg = df_noimage_mask['Question'].apply(my_get_text)"
   ]
  },
  {
   "cell_type": "markdown",
   "source": [
    "#### Open Router Question Maker"
   ],
   "metadata": {
    "collapsed": false
   },
   "id": "dcbc49e8d27a9b58"
  },
  {
   "cell_type": "code",
   "execution_count": 18,
   "id": "a4a0a66b",
   "metadata": {
    "ExecuteTime": {
     "end_time": "2024-02-21T09:52:44.543915Z",
     "start_time": "2024-02-21T09:52:41.410471Z"
    }
   },
   "outputs": [],
   "source": [
    "import requests\n",
    "import json\n",
    "api_key = \"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\""
   ]
  },
  {
   "cell_type": "code",
   "outputs": [
    {
     "data": {
      "text/plain": "0                         The StackADT's pop operation:\n1     You see the expression n = 100000 in some code...\n2     public BallPanel extends javax.swing.JPanel {\\...\n3     Suppose s is an instance of a stack that can s...\n4     Suppose you are trying to choose between an ar...\n5     What will be outputted?\\nclass A{\\n      int f...\n6     Consider the following Java implementation of ...\n7     What wil the following code print, assuming th...\n8     Read the following method skeleton and choose ...\n9     You've got an algorithm that is O(log N). On t...\n10    Two algorithms accomplish the same task on a c...\n11    What does the following Java code print?\\nint ...\n12    What abstract data type is best suited to help...\n13    Locating a new node's insertion point in a bin...\n14    If you did not have a base case in a recursive...\n15    William has the hash function: hash function h...\n16    What would the following line of code do with ...\n17    Which of the following abstract datatypes woul...\n18    Given the following Java class declaration:\\np...\n19    After the following syntactically correct code...\n20    The following method, called maxRow(), is inte...\n21    You know exactly how much data you need to sto...\n22    Which of the following recommendations for tes...\n23    What will be printed by this code?\\n      publ...\n24    You need to sort an array but have no extra me...\n25    What does the following Java code produce?\\nin...\n26    How many objects are created in the following ...\n27    Suppose you have a Java array of ints. What is...\n28    Suppose q is an instance of a queue that can s...\n29    You are writing a depth-first search on a plat...\n30    Suppose you've got a generic class:\\nclass Ros...\n31    Read the following method skeleton and choose ...\n32    The Fibonacci sequence is 0, 1, 1, 2, 3, 5, 8,...\n33    After the assignments x = 27 and y = 12, what ...\n34    The following method isSorted should return tr...\n35    Consider the following two simple Java classes...\n36                                             C++ uses\n37    Which of the following assertions about the ef...\n38    What will be outputted?\\nString input = \"Home ...\n39    Assume that an object of the following class h...\n40    Consider the following class for a Ninja:\\npub...\n41    Suppose you are writing software for a helpdes...\n42    Consider the following class definition:\\npubl...\n43    The following code for a method \"minVal\" conta...\n44             Which problem is not P (assuming P!=NP)?\n45    What effect does the statement Option Explicit...\n46    Suppose you try to perform a binary search on ...\n47    Which of the following is true of a Java inter...\n48                      Inserting a node into a heap is\n49    Consider the following:\\npublic void foo (int ...\nName: Question, dtype: object"
     },
     "execution_count": 84,
     "metadata": {},
     "output_type": "execute_result"
    }
   ],
   "source": [
    "df_50_question = question_cleaned_noimg.sample(n=50,random_state=1)\n",
    "df_50_question.reset_index(drop=True, inplace=True)\n",
    "df_50_question"
   ],
   "metadata": {
    "collapsed": false,
    "ExecuteTime": {
     "end_time": "2024-02-21T13:48:47.022561Z",
     "start_time": "2024-02-21T13:48:47.013809Z"
    }
   },
   "id": "b20be57969764df8",
   "execution_count": 84
  },
  {
   "cell_type": "code",
   "outputs": [],
   "source": [
    "def ask_question_gpt3(question):\n",
    "    response = requests.post(\n",
    "  url=\"https://openrouter.ai/api/v1/chat/completions\",\n",
    "  headers={\n",
    "    \"Authorization\": f\"Bearer {api_key}\"\n",
    "  },\n",
    "  data=json.dumps({\n",
    "    \"model\": \"openai/gpt-3.5-turbo\", \n",
    "    \"messages\": [\n",
    "      {\"role\": \"user\", \"content\": question }\n",
    "    ]\n",
    "  })\n",
    ")\n",
    "    response_data = response.json()\n",
    "    messages = [choice['message']['content'] for choice in response_data['choices']]\n",
    "    return messages"
   ],
   "metadata": {
    "collapsed": false,
    "ExecuteTime": {
     "end_time": "2024-02-21T10:38:28.099909Z",
     "start_time": "2024-02-21T10:38:28.079058Z"
    }
   },
   "id": "239fcab8e764564a",
   "execution_count": 63
  },
  {
   "cell_type": "markdown",
   "source": [
    "#### API request for specific model"
   ],
   "metadata": {
    "collapsed": false
   },
   "id": "c9fb03f21f9b31c7"
  },
  {
   "cell_type": "code",
   "outputs": [],
   "source": [
    "def ask_question_open_router(question,model):\n",
    "    response = requests.post(\n",
    "  url=\"https://openrouter.ai/api/v1/chat/completions\",\n",
    "  headers={\n",
    "    \"Authorization\": f\"Bearer {api_key}\"\n",
    "  },\n",
    "  data=json.dumps({\n",
    "    \"model\": model, \n",
    "    \"messages\": [\n",
    "      {\"role\": \"user\", \"content\": question }\n",
    "    ]\n",
    "  })\n",
    ")\n",
    "    response_data = response.json()\n",
    "    messages = [choice['message']['content'] for choice in response_data['choices']]\n",
    "    return messages"
   ],
   "metadata": {
    "collapsed": false,
    "ExecuteTime": {
     "end_time": "2024-02-21T13:22:15.680686Z",
     "start_time": "2024-02-21T13:22:15.655971Z"
    }
   },
   "id": "2169d96f4fcdd96b",
   "execution_count": 68
  },
  {
   "cell_type": "code",
   "outputs": [],
   "source": [
    "response_list = []\n",
    "for i in range(len(df_50_question)):\n",
    "    question = \"Is the question an unambiguous exam question that has only one answer? \" + df_50_question[i]\n",
    "    messages = ask_question_gpt3(question)\n",
    "    if \"YES\" in messages[0].upper():\n",
    "        response_list.append(\"Y\")\n",
    "    else:\n",
    "        response_list.append(\"N\")"
   ],
   "metadata": {
    "collapsed": false,
    "ExecuteTime": {
     "end_time": "2024-02-21T10:31:01.479915Z",
     "start_time": "2024-02-21T10:29:00.730234Z"
    }
   },
   "id": "75276e6a85e95e46",
   "execution_count": 52
  },
  {
   "cell_type": "code",
   "outputs": [],
   "source": [
    "response_list_gpt4 = []\n",
    "for i in range(50):\n",
    "    question = \"Is the question an unambiguous exam question that has only one answer? \" + df_50_question[i]\n",
    "    messages = ask_question_open_router(question,\"openai/gpt-4\")\n",
    "    if \"YES\" in messages[0].upper():\n",
    "        response_list_gpt4.append(\"Y\")\n",
    "    else:\n",
    "        response_list_gpt4.append(\"N\")"
   ],
   "metadata": {
    "collapsed": false,
    "ExecuteTime": {
     "end_time": "2024-02-21T13:39:23.552620Z",
     "start_time": "2024-02-21T13:37:05.885380Z"
    }
   },
   "id": "6d5b1b16555543b3",
   "execution_count": 76
  },
  {
   "cell_type": "code",
   "outputs": [
    {
     "name": "stdout",
     "output_type": "stream",
     "text": [
      "Percentage of GPT3 count: 0.28\n"
     ]
    }
   ],
   "source": [
    "count_Y_gpt3 = response_list.count(\"Y\")\n",
    "print(\"Percentage of GPT3 count: \" + str(count_Y_gpt3/50))"
   ],
   "metadata": {
    "collapsed": false,
    "ExecuteTime": {
     "end_time": "2024-02-21T13:32:33.277459Z",
     "start_time": "2024-02-21T13:32:33.259517Z"
    }
   },
   "id": "fe8c2bc7db8158fc",
   "execution_count": 72
  },
  {
   "cell_type": "code",
   "outputs": [
    {
     "name": "stdout",
     "output_type": "stream",
     "text": [
      "Percentage of GPT4 count: 0.58\n"
     ]
    },
    {
     "data": {
      "text/plain": "21"
     },
     "execution_count": 120,
     "metadata": {},
     "output_type": "execute_result"
    }
   ],
   "source": [
    "count_Y_gpt4 = response_list_gpt4.count(\"Y\")\n",
    "print(\"Percentage of GPT4 count: \" + str(count_Y_gpt4/50))"
   ],
   "metadata": {
    "collapsed": false,
    "ExecuteTime": {
     "end_time": "2024-02-21T14:41:33.109145Z",
     "start_time": "2024-02-21T14:41:33.079074Z"
    }
   },
   "id": "f3091e3c89bbd582",
   "execution_count": 120
  },
  {
   "cell_type": "code",
   "outputs": [
    {
     "data": {
      "text/plain": "                                             Question GPT3.5_unambiguous  \\\n0                       The StackADT's pop operation:                  N   \n1   You see the expression n = 100000 in some code...                  Y   \n2   public BallPanel extends javax.swing.JPanel {\\...                  N   \n3   Suppose s is an instance of a stack that can s...                  N   \n4   Suppose you are trying to choose between an ar...                  Y   \n5   What will be outputted?\\nclass A{\\n      int f...                  N   \n6   Consider the following Java implementation of ...                  N   \n7   What wil the following code print, assuming th...                  Y   \n8   Read the following method skeleton and choose ...                  N   \n9   You've got an algorithm that is O(log N). On t...                  Y   \n10  Two algorithms accomplish the same task on a c...                  N   \n11  What does the following Java code print?\\nint ...                  Y   \n12  What abstract data type is best suited to help...                  Y   \n13  Locating a new node's insertion point in a bin...                  N   \n14  If you did not have a base case in a recursive...                  N   \n15  William has the hash function: hash function h...                  Y   \n16  What would the following line of code do with ...                  N   \n17  Which of the following abstract datatypes woul...                  N   \n18  Given the following Java class declaration:\\np...                  Y   \n19  After the following syntactically correct code...                  Y   \n20  The following method, called maxRow(), is inte...                  N   \n21  You know exactly how much data you need to sto...                  N   \n22  Which of the following recommendations for tes...                  N   \n23  What will be printed by this code?\\n      publ...                  Y   \n24  You need to sort an array but have no extra me...                  N   \n25  What does the following Java code produce?\\nin...                  Y   \n26  How many objects are created in the following ...                  N   \n27  Suppose you have a Java array of ints. What is...                  Y   \n28  Suppose q is an instance of a queue that can s...                  N   \n29  You are writing a depth-first search on a plat...                  Y   \n30  Suppose you've got a generic class:\\nclass Ros...                  N   \n31  Read the following method skeleton and choose ...                  N   \n32  The Fibonacci sequence is 0, 1, 1, 2, 3, 5, 8,...                  N   \n33  After the assignments x = 27 and y = 12, what ...                  N   \n34  The following method isSorted should return tr...                  N   \n35  Consider the following two simple Java classes...                  N   \n36                                           C++ uses                  N   \n37  Which of the following assertions about the ef...                  N   \n38  What will be outputted?\\nString input = \"Home ...                  N   \n39  Assume that an object of the following class h...                  N   \n40  Consider the following class for a Ninja:\\npub...                  N   \n41  Suppose you are writing software for a helpdes...                  N   \n42  Consider the following class definition:\\npubl...                  N   \n43  The following code for a method \"minVal\" conta...                  N   \n44           Which problem is not P (assuming P!=NP)?                  N   \n45  What effect does the statement Option Explicit...                  Y   \n46  Suppose you try to perform a binary search on ...                  N   \n47  Which of the following is true of a Java inter...                  N   \n48                    Inserting a node into a heap is                  N   \n49  Consider the following:\\npublic void foo (int ...                  N   \n\n   GPT4_unambiguous  \n0                 N  \n1                 Y  \n2                 N  \n3                 Y  \n4                 Y  \n5                 Y  \n6                 Y  \n7                 Y  \n8                 N  \n9                 N  \n10                Y  \n11                Y  \n12                Y  \n13                N  \n14                Y  \n15                N  \n16                N  \n17                Y  \n18                N  \n19                N  \n20                N  \n21                Y  \n22                Y  \n23                Y  \n24                Y  \n25                N  \n26                N  \n27                Y  \n28                Y  \n29                Y  \n30                Y  \n31                N  \n32                N  \n33                Y  \n34                Y  \n35                N  \n36                N  \n37                Y  \n38                Y  \n39                Y  \n40                N  \n41                Y  \n42                N  \n43                Y  \n44                Y  \n45                Y  \n46                N  \n47                Y  \n48                N  \n49                N  ",
      "text/html": "<div>\n<style scoped>\n    .dataframe tbody tr th:only-of-type {\n        vertical-align: middle;\n    }\n\n    .dataframe tbody tr th {\n        vertical-align: top;\n    }\n\n    .dataframe thead th {\n        text-align: right;\n    }\n</style>\n<table border=\"1\" class=\"dataframe\">\n  <thead>\n    <tr style=\"text-align: right;\">\n      <th></th>\n      <th>Question</th>\n      <th>GPT3.5_unambiguous</th>\n      <th>GPT4_unambiguous</th>\n    </tr>\n  </thead>\n  <tbody>\n    <tr>\n      <th>0</th>\n      <td>The StackADT's pop operation:</td>\n      <td>N</td>\n      <td>N</td>\n    </tr>\n    <tr>\n      <th>1</th>\n      <td>You see the expression n = 100000 in some code...</td>\n      <td>Y</td>\n      <td>Y</td>\n    </tr>\n    <tr>\n      <th>2</th>\n      <td>public BallPanel extends javax.swing.JPanel {\\...</td>\n      <td>N</td>\n      <td>N</td>\n    </tr>\n    <tr>\n      <th>3</th>\n      <td>Suppose s is an instance of a stack that can s...</td>\n      <td>N</td>\n      <td>Y</td>\n    </tr>\n    <tr>\n      <th>4</th>\n      <td>Suppose you are trying to choose between an ar...</td>\n      <td>Y</td>\n      <td>Y</td>\n    </tr>\n    <tr>\n      <th>5</th>\n      <td>What will be outputted?\\nclass A{\\n      int f...</td>\n      <td>N</td>\n      <td>Y</td>\n    </tr>\n    <tr>\n      <th>6</th>\n      <td>Consider the following Java implementation of ...</td>\n      <td>N</td>\n      <td>Y</td>\n    </tr>\n    <tr>\n      <th>7</th>\n      <td>What wil the following code print, assuming th...</td>\n      <td>Y</td>\n      <td>Y</td>\n    </tr>\n    <tr>\n      <th>8</th>\n      <td>Read the following method skeleton and choose ...</td>\n      <td>N</td>\n      <td>N</td>\n    </tr>\n    <tr>\n      <th>9</th>\n      <td>You've got an algorithm that is O(log N). On t...</td>\n      <td>Y</td>\n      <td>N</td>\n    </tr>\n    <tr>\n      <th>10</th>\n      <td>Two algorithms accomplish the same task on a c...</td>\n      <td>N</td>\n      <td>Y</td>\n    </tr>\n    <tr>\n      <th>11</th>\n      <td>What does the following Java code print?\\nint ...</td>\n      <td>Y</td>\n      <td>Y</td>\n    </tr>\n    <tr>\n      <th>12</th>\n      <td>What abstract data type is best suited to help...</td>\n      <td>Y</td>\n      <td>Y</td>\n    </tr>\n    <tr>\n      <th>13</th>\n      <td>Locating a new node's insertion point in a bin...</td>\n      <td>N</td>\n      <td>N</td>\n    </tr>\n    <tr>\n      <th>14</th>\n      <td>If you did not have a base case in a recursive...</td>\n      <td>N</td>\n      <td>Y</td>\n    </tr>\n    <tr>\n      <th>15</th>\n      <td>William has the hash function: hash function h...</td>\n      <td>Y</td>\n      <td>N</td>\n    </tr>\n    <tr>\n      <th>16</th>\n      <td>What would the following line of code do with ...</td>\n      <td>N</td>\n      <td>N</td>\n    </tr>\n    <tr>\n      <th>17</th>\n      <td>Which of the following abstract datatypes woul...</td>\n      <td>N</td>\n      <td>Y</td>\n    </tr>\n    <tr>\n      <th>18</th>\n      <td>Given the following Java class declaration:\\np...</td>\n      <td>Y</td>\n      <td>N</td>\n    </tr>\n    <tr>\n      <th>19</th>\n      <td>After the following syntactically correct code...</td>\n      <td>Y</td>\n      <td>N</td>\n    </tr>\n    <tr>\n      <th>20</th>\n      <td>The following method, called maxRow(), is inte...</td>\n      <td>N</td>\n      <td>N</td>\n    </tr>\n    <tr>\n      <th>21</th>\n      <td>You know exactly how much data you need to sto...</td>\n      <td>N</td>\n      <td>Y</td>\n    </tr>\n    <tr>\n      <th>22</th>\n      <td>Which of the following recommendations for tes...</td>\n      <td>N</td>\n      <td>Y</td>\n    </tr>\n    <tr>\n      <th>23</th>\n      <td>What will be printed by this code?\\n      publ...</td>\n      <td>Y</td>\n      <td>Y</td>\n    </tr>\n    <tr>\n      <th>24</th>\n      <td>You need to sort an array but have no extra me...</td>\n      <td>N</td>\n      <td>Y</td>\n    </tr>\n    <tr>\n      <th>25</th>\n      <td>What does the following Java code produce?\\nin...</td>\n      <td>Y</td>\n      <td>N</td>\n    </tr>\n    <tr>\n      <th>26</th>\n      <td>How many objects are created in the following ...</td>\n      <td>N</td>\n      <td>N</td>\n    </tr>\n    <tr>\n      <th>27</th>\n      <td>Suppose you have a Java array of ints. What is...</td>\n      <td>Y</td>\n      <td>Y</td>\n    </tr>\n    <tr>\n      <th>28</th>\n      <td>Suppose q is an instance of a queue that can s...</td>\n      <td>N</td>\n      <td>Y</td>\n    </tr>\n    <tr>\n      <th>29</th>\n      <td>You are writing a depth-first search on a plat...</td>\n      <td>Y</td>\n      <td>Y</td>\n    </tr>\n    <tr>\n      <th>30</th>\n      <td>Suppose you've got a generic class:\\nclass Ros...</td>\n      <td>N</td>\n      <td>Y</td>\n    </tr>\n    <tr>\n      <th>31</th>\n      <td>Read the following method skeleton and choose ...</td>\n      <td>N</td>\n      <td>N</td>\n    </tr>\n    <tr>\n      <th>32</th>\n      <td>The Fibonacci sequence is 0, 1, 1, 2, 3, 5, 8,...</td>\n      <td>N</td>\n      <td>N</td>\n    </tr>\n    <tr>\n      <th>33</th>\n      <td>After the assignments x = 27 and y = 12, what ...</td>\n      <td>N</td>\n      <td>Y</td>\n    </tr>\n    <tr>\n      <th>34</th>\n      <td>The following method isSorted should return tr...</td>\n      <td>N</td>\n      <td>Y</td>\n    </tr>\n    <tr>\n      <th>35</th>\n      <td>Consider the following two simple Java classes...</td>\n      <td>N</td>\n      <td>N</td>\n    </tr>\n    <tr>\n      <th>36</th>\n      <td>C++ uses</td>\n      <td>N</td>\n      <td>N</td>\n    </tr>\n    <tr>\n      <th>37</th>\n      <td>Which of the following assertions about the ef...</td>\n      <td>N</td>\n      <td>Y</td>\n    </tr>\n    <tr>\n      <th>38</th>\n      <td>What will be outputted?\\nString input = \"Home ...</td>\n      <td>N</td>\n      <td>Y</td>\n    </tr>\n    <tr>\n      <th>39</th>\n      <td>Assume that an object of the following class h...</td>\n      <td>N</td>\n      <td>Y</td>\n    </tr>\n    <tr>\n      <th>40</th>\n      <td>Consider the following class for a Ninja:\\npub...</td>\n      <td>N</td>\n      <td>N</td>\n    </tr>\n    <tr>\n      <th>41</th>\n      <td>Suppose you are writing software for a helpdes...</td>\n      <td>N</td>\n      <td>Y</td>\n    </tr>\n    <tr>\n      <th>42</th>\n      <td>Consider the following class definition:\\npubl...</td>\n      <td>N</td>\n      <td>N</td>\n    </tr>\n    <tr>\n      <th>43</th>\n      <td>The following code for a method \"minVal\" conta...</td>\n      <td>N</td>\n      <td>Y</td>\n    </tr>\n    <tr>\n      <th>44</th>\n      <td>Which problem is not P (assuming P!=NP)?</td>\n      <td>N</td>\n      <td>Y</td>\n    </tr>\n    <tr>\n      <th>45</th>\n      <td>What effect does the statement Option Explicit...</td>\n      <td>Y</td>\n      <td>Y</td>\n    </tr>\n    <tr>\n      <th>46</th>\n      <td>Suppose you try to perform a binary search on ...</td>\n      <td>N</td>\n      <td>N</td>\n    </tr>\n    <tr>\n      <th>47</th>\n      <td>Which of the following is true of a Java inter...</td>\n      <td>N</td>\n      <td>Y</td>\n    </tr>\n    <tr>\n      <th>48</th>\n      <td>Inserting a node into a heap is</td>\n      <td>N</td>\n      <td>N</td>\n    </tr>\n    <tr>\n      <th>49</th>\n      <td>Consider the following:\\npublic void foo (int ...</td>\n      <td>N</td>\n      <td>N</td>\n    </tr>\n  </tbody>\n</table>\n</div>"
     },
     "execution_count": 89,
     "metadata": {},
     "output_type": "execute_result"
    }
   ],
   "source": [
    "df_50 = pd.DataFrame(df_50_question)\n",
    "df_50['GPT3.5_unambiguous'] = response_list\n",
    "df_50['GPT4_unambiguous'] = response_list_gpt4\n",
    "df_50"
   ],
   "metadata": {
    "collapsed": false,
    "ExecuteTime": {
     "end_time": "2024-02-21T13:53:27.864331Z",
     "start_time": "2024-02-21T13:53:27.846315Z"
    }
   },
   "id": "12d768bd4b257301",
   "execution_count": 89
  },
  {
   "cell_type": "markdown",
   "source": [
    "#### Revise to unambiguous question:"
   ],
   "metadata": {
    "collapsed": false
   },
   "id": "ea2bfd7a9c4e554c"
  },
  {
   "cell_type": "code",
   "outputs": [],
   "source": [
    "revised_question_gpt3_5 = []\n",
    "revised_question_gpt4 = []\n",
    "prompt = \"How would you rephrase the question to be unambiguous and suitable for a Multiple choice question on an exam? \"\n",
    "for i in range(len(df_50)):\n",
    "    if df_50['GPT3.5_unambiguous'][i] == 'N':\n",
    "        question = prompt+df_50['Question'][i]\n",
    "        messages = ask_question_open_router(question,\"openai/gpt-3.5-turbo\")\n",
    "        revised_question_gpt3_5.append(messages[0])\n",
    "    else:\n",
    "        revised_question_gpt3_5.append(\"None\")\n",
    "    if df_50['GPT4_unambiguous'][i] == 'N':\n",
    "        question = prompt+df_50['Question'][i]\n",
    "        messages = ask_question_open_router(question,\"openai/gpt-4\")\n",
    "        revised_question_gpt4.append(messages[0])\n",
    "    else:\n",
    "        revised_question_gpt4.append(\"None\")"
   ],
   "metadata": {
    "collapsed": false,
    "ExecuteTime": {
     "end_time": "2024-02-21T14:20:36.262748Z",
     "start_time": "2024-02-21T14:17:41.557080Z"
    }
   },
   "id": "d69afc677338c63c",
   "execution_count": 107
  },
  {
   "cell_type": "code",
   "outputs": [
    {
     "data": {
      "text/plain": "14"
     },
     "execution_count": 108,
     "metadata": {},
     "output_type": "execute_result"
    }
   ],
   "source": [
    "revised_question_gpt3_5.count(\"None\")"
   ],
   "metadata": {
    "collapsed": false,
    "ExecuteTime": {
     "end_time": "2024-02-21T14:20:56.090868Z",
     "start_time": "2024-02-21T14:20:56.069129Z"
    }
   },
   "id": "3fb5e28a8429818d",
   "execution_count": 108
  },
  {
   "cell_type": "code",
   "outputs": [
    {
     "data": {
      "text/plain": "29"
     },
     "execution_count": 110,
     "metadata": {},
     "output_type": "execute_result"
    }
   ],
   "source": [
    "revised_question_gpt4.count(\"None\")"
   ],
   "metadata": {
    "collapsed": false,
    "ExecuteTime": {
     "end_time": "2024-02-21T14:21:01.534320Z",
     "start_time": "2024-02-21T14:21:01.509572Z"
    }
   },
   "id": "f7851f91d9b6b096",
   "execution_count": 110
  },
  {
   "cell_type": "code",
   "outputs": [
    {
     "data": {
      "text/plain": "                                             Question GPT3.5_unambiguous  \\\n0                       The StackADT's pop operation:                  N   \n1   You see the expression n = 100000 in some code...                  Y   \n2   public BallPanel extends javax.swing.JPanel {\\...                  N   \n3   Suppose s is an instance of a stack that can s...                  N   \n4   Suppose you are trying to choose between an ar...                  Y   \n5   What will be outputted?\\nclass A{\\n      int f...                  N   \n6   Consider the following Java implementation of ...                  N   \n7   What wil the following code print, assuming th...                  Y   \n8   Read the following method skeleton and choose ...                  N   \n9   You've got an algorithm that is O(log N). On t...                  Y   \n10  Two algorithms accomplish the same task on a c...                  N   \n11  What does the following Java code print?\\nint ...                  Y   \n12  What abstract data type is best suited to help...                  Y   \n13  Locating a new node's insertion point in a bin...                  N   \n14  If you did not have a base case in a recursive...                  N   \n15  William has the hash function: hash function h...                  Y   \n16  What would the following line of code do with ...                  N   \n17  Which of the following abstract datatypes woul...                  N   \n18  Given the following Java class declaration:\\np...                  Y   \n19  After the following syntactically correct code...                  Y   \n20  The following method, called maxRow(), is inte...                  N   \n21  You know exactly how much data you need to sto...                  N   \n22  Which of the following recommendations for tes...                  N   \n23  What will be printed by this code?\\n      publ...                  Y   \n24  You need to sort an array but have no extra me...                  N   \n25  What does the following Java code produce?\\nin...                  Y   \n26  How many objects are created in the following ...                  N   \n27  Suppose you have a Java array of ints. What is...                  Y   \n28  Suppose q is an instance of a queue that can s...                  N   \n29  You are writing a depth-first search on a plat...                  Y   \n30  Suppose you've got a generic class:\\nclass Ros...                  N   \n31  Read the following method skeleton and choose ...                  N   \n32  The Fibonacci sequence is 0, 1, 1, 2, 3, 5, 8,...                  N   \n33  After the assignments x = 27 and y = 12, what ...                  N   \n34  The following method isSorted should return tr...                  N   \n35  Consider the following two simple Java classes...                  N   \n36                                           C++ uses                  N   \n37  Which of the following assertions about the ef...                  N   \n38  What will be outputted?\\nString input = \"Home ...                  N   \n39  Assume that an object of the following class h...                  N   \n40  Consider the following class for a Ninja:\\npub...                  N   \n41  Suppose you are writing software for a helpdes...                  N   \n42  Consider the following class definition:\\npubl...                  N   \n43  The following code for a method \"minVal\" conta...                  N   \n44           Which problem is not P (assuming P!=NP)?                  N   \n45  What effect does the statement Option Explicit...                  Y   \n46  Suppose you try to perform a binary search on ...                  N   \n47  Which of the following is true of a Java inter...                  N   \n48                    Inserting a node into a heap is                  N   \n49  Consider the following:\\npublic void foo (int ...                  N   \n\n   GPT4_unambiguous                            GPT3.5_revised_question  \\\n0                 N  What does the StackADT's pop operation do?\\n\\n...   \n1                 Y                                               None   \n2                 N  Which of the following Java statements, when e...   \n3                 Y  What is the value of variable z after the foll...   \n4                 Y                                               None   \n5                 Y  What is the output of the following Java code ...   \n6                 Y  What is the output of the following Java code ...   \n7                 Y                                               None   \n8                 N  Which expression correctly fills in the blank ...   \n9                 N                                               None   \n10                Y  Under what conditions does Algorithm A offer s...   \n11                Y                                               None   \n12                Y                                               None   \n13                N  At what point does the process of locating the...   \n14                Y  What is the likely outcome if a recursive func...   \n15                N                                               None   \n16                N  What would be the outcome of the following lin...   \n17                Y  Which abstract datatype would best support the...   \n18                N                                               None   \n19                N                                               None   \n20                N  How should the blank be filled on Line 3 and L...   \n21                Y  Which data structure is the most suitable for ...   \n22                Y  Which of the following recommendations would b...   \n23                Y                                               None   \n24                Y  Which of the following sorting algorithms is N...   \n25                N                                               None   \n26                N  A) One\\nB) Two\\nC) Three\\nD) None of the above...   \n27                Y                                               None   \n28                Y  After executing the following sequence of stat...   \n29                Y                                               None   \n30                Y  What is the erasure type of the following gene...   \n31                N  Which expression should fill in the blank on l...   \n32                N  Which statement correctly completes the loop h...   \n33                Y  A) True\\nB) False\\nC) Error\\nD) None of the ab...   \n34                Y  What code should be added to the method isSort...   \n35                N  Which of the following statements correctly id...   \n36                N  Which language uses C++ for programming? \\n\\nA...   \n37                Y  Which of the following statements accurately d...   \n38                Y  What will be printed as output of the followin...   \n39                Y  When an instance of the Unknown class is creat...   \n40                N  Which of the following best describes the resu...   \n41                Y  Which abstract datatype would best ensure that...   \n42                N  Should the variable \"i\" in the methods foo1, f...   \n43                Y  Which line in the code for the \"minVal\" method...   \n44                Y  Which of the following problems is not in the ...   \n45                Y                                               None   \n46                N  Which element in the unsorted array {1, 4, 3, ...   \n47                Y  A. It can contain both variable and method dec...   \n48                N  A) adding a new element to the heap\\nB) removi...   \n49                N  A. The parameter passed to the foo method\\nB. ...   \n\n                                GPT4_revised_question  \\\n0   What does the pop operation in the StackADT pe...   \n1                                                None   \n2   In the provided BallPanel class, which extends...   \n3                                                None   \n4                                                None   \n5                                                None   \n6                                                None   \n7                                                None   \n8   The following method is designed to count the ...   \n9   Assume you have an algorithm with a complexity...   \n10                                               None   \n11                                               None   \n12                                               None   \n13  \"When performing an insertion operation in a b...   \n14                                               None   \n15  William implemented a hash function h(k) = (su...   \n16  What action will the following line of code pe...   \n17                                               None   \n18  Consider the Java class T2int and the method c...   \n19  After the execution of the given code block, w...   \n20  In this maxRow() method intended to find the i...   \n21                                               None   \n22                                               None   \n23                                               None   \n24                                               None   \n25  \"What will be the output of the following Java...   \n26  How many objects are generated by the given de...   \n27                                               None   \n28                                               None   \n29                                               None   \n30                                               None   \n31  Given the provided method skeleton that takes ...   \n32  What is the correct code to fill in the loop s...   \n33                                               None   \n34                                               None   \n35  In the context of the provided Java classes: B...   \n36                       Which language utilizes C++?   \n37                                               None   \n38                                               None   \n39                                               None   \n40  \"Considering two objects, Ninja n1 = new Ninja...   \n41                                               None   \n42  \"Should 'i' be changed to an instance variable...   \n43                                               None   \n44                                               None   \n45                                               None   \n46  If a binary search is attempted on the unsorte...   \n47                                               None   \n48  What is the process involved in inserting a no...   \n49  In the context of the function 'public void fo...   \n\n   GPT3.5_revised_question_unambiguous GPT4_revised_question_unambiguous  \n0                                    N                                 N  \n1                                    N                                 N  \n2                                    N                                 N  \n3                                    N                                 Y  \n4                                    N                                 N  \n5                                    N                                 Y  \n6                                    N                                 Y  \n7                                    N                                 N  \n8                                    N                                 N  \n9                                    N                                 N  \n10                                   N                                 Y  \n11                                   N                                 Y  \n12                                   N                                 Y  \n13                                   N                                 N  \n14                                   N                                 Y  \n15                                   N                                 N  \n16                                   N                                 N  \n17                                   N                                 Y  \n18                                   N                                 N  \n19                                   N                                 N  \n20                                   N                                 N  \n21                                   N                                 N  \n22                                   N                                 Y  \n23                                   N                                 Y  \n24                                   N                                 Y  \n25                                   N                                 N  \n26                                   N                                 N  \n27                                   N                                 Y  \n28                                   N                                 Y  \n29                                   N                                 Y  \n30                                   N                                 Y  \n31                                   N                                 N  \n32                                   N                                 N  \n33                                   N                                 Y  \n34                                   N                                 Y  \n35                                   N                                 N  \n36                                   N                                 N  \n37                                   N                                 Y  \n38                                   N                                 N  \n39                                   N                                 N  \n40                                   N                                 N  \n41                                   N                                 Y  \n42                                   N                                 N  \n43                                   N                                 N  \n44                                   N                                 Y  \n45                                   Y                                 Y  \n46                                   N                                 N  \n47                                   N                                 Y  \n48                                   N                                 N  \n49                                   N                                 N  ",
      "text/html": "<div>\n<style scoped>\n    .dataframe tbody tr th:only-of-type {\n        vertical-align: middle;\n    }\n\n    .dataframe tbody tr th {\n        vertical-align: top;\n    }\n\n    .dataframe thead th {\n        text-align: right;\n    }\n</style>\n<table border=\"1\" class=\"dataframe\">\n  <thead>\n    <tr style=\"text-align: right;\">\n      <th></th>\n      <th>Question</th>\n      <th>GPT3.5_unambiguous</th>\n      <th>GPT4_unambiguous</th>\n      <th>GPT3.5_revised_question</th>\n      <th>GPT4_revised_question</th>\n      <th>GPT3.5_revised_question_unambiguous</th>\n      <th>GPT4_revised_question_unambiguous</th>\n    </tr>\n  </thead>\n  <tbody>\n    <tr>\n      <th>0</th>\n      <td>The StackADT's pop operation:</td>\n      <td>N</td>\n      <td>N</td>\n      <td>What does the StackADT's pop operation do?\\n\\n...</td>\n      <td>What does the pop operation in the StackADT pe...</td>\n      <td>N</td>\n      <td>N</td>\n    </tr>\n    <tr>\n      <th>1</th>\n      <td>You see the expression n = 100000 in some code...</td>\n      <td>Y</td>\n      <td>Y</td>\n      <td>None</td>\n      <td>None</td>\n      <td>N</td>\n      <td>N</td>\n    </tr>\n    <tr>\n      <th>2</th>\n      <td>public BallPanel extends javax.swing.JPanel {\\...</td>\n      <td>N</td>\n      <td>N</td>\n      <td>Which of the following Java statements, when e...</td>\n      <td>In the provided BallPanel class, which extends...</td>\n      <td>N</td>\n      <td>N</td>\n    </tr>\n    <tr>\n      <th>3</th>\n      <td>Suppose s is an instance of a stack that can s...</td>\n      <td>N</td>\n      <td>Y</td>\n      <td>What is the value of variable z after the foll...</td>\n      <td>None</td>\n      <td>N</td>\n      <td>Y</td>\n    </tr>\n    <tr>\n      <th>4</th>\n      <td>Suppose you are trying to choose between an ar...</td>\n      <td>Y</td>\n      <td>Y</td>\n      <td>None</td>\n      <td>None</td>\n      <td>N</td>\n      <td>N</td>\n    </tr>\n    <tr>\n      <th>5</th>\n      <td>What will be outputted?\\nclass A{\\n      int f...</td>\n      <td>N</td>\n      <td>Y</td>\n      <td>What is the output of the following Java code ...</td>\n      <td>None</td>\n      <td>N</td>\n      <td>Y</td>\n    </tr>\n    <tr>\n      <th>6</th>\n      <td>Consider the following Java implementation of ...</td>\n      <td>N</td>\n      <td>Y</td>\n      <td>What is the output of the following Java code ...</td>\n      <td>None</td>\n      <td>N</td>\n      <td>Y</td>\n    </tr>\n    <tr>\n      <th>7</th>\n      <td>What wil the following code print, assuming th...</td>\n      <td>Y</td>\n      <td>Y</td>\n      <td>None</td>\n      <td>None</td>\n      <td>N</td>\n      <td>N</td>\n    </tr>\n    <tr>\n      <th>8</th>\n      <td>Read the following method skeleton and choose ...</td>\n      <td>N</td>\n      <td>N</td>\n      <td>Which expression correctly fills in the blank ...</td>\n      <td>The following method is designed to count the ...</td>\n      <td>N</td>\n      <td>N</td>\n    </tr>\n    <tr>\n      <th>9</th>\n      <td>You've got an algorithm that is O(log N). On t...</td>\n      <td>Y</td>\n      <td>N</td>\n      <td>None</td>\n      <td>Assume you have an algorithm with a complexity...</td>\n      <td>N</td>\n      <td>N</td>\n    </tr>\n    <tr>\n      <th>10</th>\n      <td>Two algorithms accomplish the same task on a c...</td>\n      <td>N</td>\n      <td>Y</td>\n      <td>Under what conditions does Algorithm A offer s...</td>\n      <td>None</td>\n      <td>N</td>\n      <td>Y</td>\n    </tr>\n    <tr>\n      <th>11</th>\n      <td>What does the following Java code print?\\nint ...</td>\n      <td>Y</td>\n      <td>Y</td>\n      <td>None</td>\n      <td>None</td>\n      <td>N</td>\n      <td>Y</td>\n    </tr>\n    <tr>\n      <th>12</th>\n      <td>What abstract data type is best suited to help...</td>\n      <td>Y</td>\n      <td>Y</td>\n      <td>None</td>\n      <td>None</td>\n      <td>N</td>\n      <td>Y</td>\n    </tr>\n    <tr>\n      <th>13</th>\n      <td>Locating a new node's insertion point in a bin...</td>\n      <td>N</td>\n      <td>N</td>\n      <td>At what point does the process of locating the...</td>\n      <td>\"When performing an insertion operation in a b...</td>\n      <td>N</td>\n      <td>N</td>\n    </tr>\n    <tr>\n      <th>14</th>\n      <td>If you did not have a base case in a recursive...</td>\n      <td>N</td>\n      <td>Y</td>\n      <td>What is the likely outcome if a recursive func...</td>\n      <td>None</td>\n      <td>N</td>\n      <td>Y</td>\n    </tr>\n    <tr>\n      <th>15</th>\n      <td>William has the hash function: hash function h...</td>\n      <td>Y</td>\n      <td>N</td>\n      <td>None</td>\n      <td>William implemented a hash function h(k) = (su...</td>\n      <td>N</td>\n      <td>N</td>\n    </tr>\n    <tr>\n      <th>16</th>\n      <td>What would the following line of code do with ...</td>\n      <td>N</td>\n      <td>N</td>\n      <td>What would be the outcome of the following lin...</td>\n      <td>What action will the following line of code pe...</td>\n      <td>N</td>\n      <td>N</td>\n    </tr>\n    <tr>\n      <th>17</th>\n      <td>Which of the following abstract datatypes woul...</td>\n      <td>N</td>\n      <td>Y</td>\n      <td>Which abstract datatype would best support the...</td>\n      <td>None</td>\n      <td>N</td>\n      <td>Y</td>\n    </tr>\n    <tr>\n      <th>18</th>\n      <td>Given the following Java class declaration:\\np...</td>\n      <td>Y</td>\n      <td>N</td>\n      <td>None</td>\n      <td>Consider the Java class T2int and the method c...</td>\n      <td>N</td>\n      <td>N</td>\n    </tr>\n    <tr>\n      <th>19</th>\n      <td>After the following syntactically correct code...</td>\n      <td>Y</td>\n      <td>N</td>\n      <td>None</td>\n      <td>After the execution of the given code block, w...</td>\n      <td>N</td>\n      <td>N</td>\n    </tr>\n    <tr>\n      <th>20</th>\n      <td>The following method, called maxRow(), is inte...</td>\n      <td>N</td>\n      <td>N</td>\n      <td>How should the blank be filled on Line 3 and L...</td>\n      <td>In this maxRow() method intended to find the i...</td>\n      <td>N</td>\n      <td>N</td>\n    </tr>\n    <tr>\n      <th>21</th>\n      <td>You know exactly how much data you need to sto...</td>\n      <td>N</td>\n      <td>Y</td>\n      <td>Which data structure is the most suitable for ...</td>\n      <td>None</td>\n      <td>N</td>\n      <td>N</td>\n    </tr>\n    <tr>\n      <th>22</th>\n      <td>Which of the following recommendations for tes...</td>\n      <td>N</td>\n      <td>Y</td>\n      <td>Which of the following recommendations would b...</td>\n      <td>None</td>\n      <td>N</td>\n      <td>Y</td>\n    </tr>\n    <tr>\n      <th>23</th>\n      <td>What will be printed by this code?\\n      publ...</td>\n      <td>Y</td>\n      <td>Y</td>\n      <td>None</td>\n      <td>None</td>\n      <td>N</td>\n      <td>Y</td>\n    </tr>\n    <tr>\n      <th>24</th>\n      <td>You need to sort an array but have no extra me...</td>\n      <td>N</td>\n      <td>Y</td>\n      <td>Which of the following sorting algorithms is N...</td>\n      <td>None</td>\n      <td>N</td>\n      <td>Y</td>\n    </tr>\n    <tr>\n      <th>25</th>\n      <td>What does the following Java code produce?\\nin...</td>\n      <td>Y</td>\n      <td>N</td>\n      <td>None</td>\n      <td>\"What will be the output of the following Java...</td>\n      <td>N</td>\n      <td>N</td>\n    </tr>\n    <tr>\n      <th>26</th>\n      <td>How many objects are created in the following ...</td>\n      <td>N</td>\n      <td>N</td>\n      <td>A) One\\nB) Two\\nC) Three\\nD) None of the above...</td>\n      <td>How many objects are generated by the given de...</td>\n      <td>N</td>\n      <td>N</td>\n    </tr>\n    <tr>\n      <th>27</th>\n      <td>Suppose you have a Java array of ints. What is...</td>\n      <td>Y</td>\n      <td>Y</td>\n      <td>None</td>\n      <td>None</td>\n      <td>N</td>\n      <td>Y</td>\n    </tr>\n    <tr>\n      <th>28</th>\n      <td>Suppose q is an instance of a queue that can s...</td>\n      <td>N</td>\n      <td>Y</td>\n      <td>After executing the following sequence of stat...</td>\n      <td>None</td>\n      <td>N</td>\n      <td>Y</td>\n    </tr>\n    <tr>\n      <th>29</th>\n      <td>You are writing a depth-first search on a plat...</td>\n      <td>Y</td>\n      <td>Y</td>\n      <td>None</td>\n      <td>None</td>\n      <td>N</td>\n      <td>Y</td>\n    </tr>\n    <tr>\n      <th>30</th>\n      <td>Suppose you've got a generic class:\\nclass Ros...</td>\n      <td>N</td>\n      <td>Y</td>\n      <td>What is the erasure type of the following gene...</td>\n      <td>None</td>\n      <td>N</td>\n      <td>Y</td>\n    </tr>\n    <tr>\n      <th>31</th>\n      <td>Read the following method skeleton and choose ...</td>\n      <td>N</td>\n      <td>N</td>\n      <td>Which expression should fill in the blank on l...</td>\n      <td>Given the provided method skeleton that takes ...</td>\n      <td>N</td>\n      <td>N</td>\n    </tr>\n    <tr>\n      <th>32</th>\n      <td>The Fibonacci sequence is 0, 1, 1, 2, 3, 5, 8,...</td>\n      <td>N</td>\n      <td>N</td>\n      <td>Which statement correctly completes the loop h...</td>\n      <td>What is the correct code to fill in the loop s...</td>\n      <td>N</td>\n      <td>N</td>\n    </tr>\n    <tr>\n      <th>33</th>\n      <td>After the assignments x = 27 and y = 12, what ...</td>\n      <td>N</td>\n      <td>Y</td>\n      <td>A) True\\nB) False\\nC) Error\\nD) None of the ab...</td>\n      <td>None</td>\n      <td>N</td>\n      <td>Y</td>\n    </tr>\n    <tr>\n      <th>34</th>\n      <td>The following method isSorted should return tr...</td>\n      <td>N</td>\n      <td>Y</td>\n      <td>What code should be added to the method isSort...</td>\n      <td>None</td>\n      <td>N</td>\n      <td>Y</td>\n    </tr>\n    <tr>\n      <th>35</th>\n      <td>Consider the following two simple Java classes...</td>\n      <td>N</td>\n      <td>N</td>\n      <td>Which of the following statements correctly id...</td>\n      <td>In the context of the provided Java classes: B...</td>\n      <td>N</td>\n      <td>N</td>\n    </tr>\n    <tr>\n      <th>36</th>\n      <td>C++ uses</td>\n      <td>N</td>\n      <td>N</td>\n      <td>Which language uses C++ for programming? \\n\\nA...</td>\n      <td>Which language utilizes C++?</td>\n      <td>N</td>\n      <td>N</td>\n    </tr>\n    <tr>\n      <th>37</th>\n      <td>Which of the following assertions about the ef...</td>\n      <td>N</td>\n      <td>Y</td>\n      <td>Which of the following statements accurately d...</td>\n      <td>None</td>\n      <td>N</td>\n      <td>Y</td>\n    </tr>\n    <tr>\n      <th>38</th>\n      <td>What will be outputted?\\nString input = \"Home ...</td>\n      <td>N</td>\n      <td>Y</td>\n      <td>What will be printed as output of the followin...</td>\n      <td>None</td>\n      <td>N</td>\n      <td>N</td>\n    </tr>\n    <tr>\n      <th>39</th>\n      <td>Assume that an object of the following class h...</td>\n      <td>N</td>\n      <td>Y</td>\n      <td>When an instance of the Unknown class is creat...</td>\n      <td>None</td>\n      <td>N</td>\n      <td>N</td>\n    </tr>\n    <tr>\n      <th>40</th>\n      <td>Consider the following class for a Ninja:\\npub...</td>\n      <td>N</td>\n      <td>N</td>\n      <td>Which of the following best describes the resu...</td>\n      <td>\"Considering two objects, Ninja n1 = new Ninja...</td>\n      <td>N</td>\n      <td>N</td>\n    </tr>\n    <tr>\n      <th>41</th>\n      <td>Suppose you are writing software for a helpdes...</td>\n      <td>N</td>\n      <td>Y</td>\n      <td>Which abstract datatype would best ensure that...</td>\n      <td>None</td>\n      <td>N</td>\n      <td>Y</td>\n    </tr>\n    <tr>\n      <th>42</th>\n      <td>Consider the following class definition:\\npubl...</td>\n      <td>N</td>\n      <td>N</td>\n      <td>Should the variable \"i\" in the methods foo1, f...</td>\n      <td>\"Should 'i' be changed to an instance variable...</td>\n      <td>N</td>\n      <td>N</td>\n    </tr>\n    <tr>\n      <th>43</th>\n      <td>The following code for a method \"minVal\" conta...</td>\n      <td>N</td>\n      <td>Y</td>\n      <td>Which line in the code for the \"minVal\" method...</td>\n      <td>None</td>\n      <td>N</td>\n      <td>N</td>\n    </tr>\n    <tr>\n      <th>44</th>\n      <td>Which problem is not P (assuming P!=NP)?</td>\n      <td>N</td>\n      <td>Y</td>\n      <td>Which of the following problems is not in the ...</td>\n      <td>None</td>\n      <td>N</td>\n      <td>Y</td>\n    </tr>\n    <tr>\n      <th>45</th>\n      <td>What effect does the statement Option Explicit...</td>\n      <td>Y</td>\n      <td>Y</td>\n      <td>None</td>\n      <td>None</td>\n      <td>Y</td>\n      <td>Y</td>\n    </tr>\n    <tr>\n      <th>46</th>\n      <td>Suppose you try to perform a binary search on ...</td>\n      <td>N</td>\n      <td>N</td>\n      <td>Which element in the unsorted array {1, 4, 3, ...</td>\n      <td>If a binary search is attempted on the unsorte...</td>\n      <td>N</td>\n      <td>N</td>\n    </tr>\n    <tr>\n      <th>47</th>\n      <td>Which of the following is true of a Java inter...</td>\n      <td>N</td>\n      <td>Y</td>\n      <td>A. It can contain both variable and method dec...</td>\n      <td>None</td>\n      <td>N</td>\n      <td>Y</td>\n    </tr>\n    <tr>\n      <th>48</th>\n      <td>Inserting a node into a heap is</td>\n      <td>N</td>\n      <td>N</td>\n      <td>A) adding a new element to the heap\\nB) removi...</td>\n      <td>What is the process involved in inserting a no...</td>\n      <td>N</td>\n      <td>N</td>\n    </tr>\n    <tr>\n      <th>49</th>\n      <td>Consider the following:\\npublic void foo (int ...</td>\n      <td>N</td>\n      <td>N</td>\n      <td>A. The parameter passed to the foo method\\nB. ...</td>\n      <td>In the context of the function 'public void fo...</td>\n      <td>N</td>\n      <td>N</td>\n    </tr>\n  </tbody>\n</table>\n</div>"
     },
     "execution_count": 113,
     "metadata": {},
     "output_type": "execute_result"
    }
   ],
   "source": [
    "df_50['GPT3.5_revised_question'] = revised_question_gpt3_5\n",
    "df_50['GPT4_revised_question'] = revised_question_gpt4\n",
    "df_50"
   ],
   "metadata": {
    "collapsed": false,
    "ExecuteTime": {
     "end_time": "2024-02-21T14:21:36.331606Z",
     "start_time": "2024-02-21T14:21:36.293594Z"
    }
   },
   "id": "e46dce571f401c72",
   "execution_count": 113
  },
  {
   "cell_type": "markdown",
   "source": [
    "#### feed that newly unambiguous question in Prompt "
   ],
   "metadata": {
    "collapsed": false
   },
   "id": "10cf9239380b504"
  },
  {
   "cell_type": "code",
   "outputs": [],
   "source": [
    "revised_question_gpt3_5 = []\n",
    "revised_question_gpt4 = []\n",
    "prompt = \"Is the question an unambiguous exam question that has only one answer? \"\n",
    "for i in range(len(df_50)):\n",
    "    if df_50['GPT3.5_revised_question'][i] != 'None':\n",
    "        question = prompt+df_50['GPT3.5_revised_question'][i]\n",
    "        messages = ask_question_open_router(question,\"openai/gpt-3.5-turbo\")\n",
    "        if \"YES\" in messages[0].upper():\n",
    "            revised_question_gpt3_5.append(\"Y\")\n",
    "        else:\n",
    "            revised_question_gpt3_5.append(\"N\")\n",
    "    else:\n",
    "        revised_question_gpt3_5.append(\"N\")\n",
    "    if df_50['GPT4_revised_question'][i] != 'None':\n",
    "        question = prompt+df_50['GPT4_revised_question'][i]\n",
    "        messages = ask_question_open_router(question,\"openai/gpt-4\")\n",
    "        if \"YES\" in messages[0].upper():\n",
    "            revised_question_gpt4.append(\"Y\")\n",
    "        else:\n",
    "            revised_question_gpt4.append(\"N\")\n",
    "    else:\n",
    "        revised_question_gpt4.append(\"N\")"
   ],
   "metadata": {
    "collapsed": false,
    "ExecuteTime": {
     "end_time": "2024-02-21T14:24:02.129776Z",
     "start_time": "2024-02-21T14:21:40.186915Z"
    }
   },
   "id": "fb687c37fdb34618",
   "execution_count": 114
  },
  {
   "cell_type": "code",
   "outputs": [
    {
     "name": "stdout",
     "output_type": "stream",
     "text": [
      "Percentage of GPT 3.5 unambiguous revised question 0.027777777777777776\n",
      "Percentage of GPT 4 unambiguous revised question 0.47619047619047616\n"
     ]
    }
   ],
   "source": [
    "print(\"Percentage of GPT 3.5 unambiguous revised question \" + str(revised_question_gpt3_5.count(\"Y\")/response_list.count(\"N\")))\n",
    "print(\"Percentage of GPT 4 unambiguous revised question \" + str(revised_question_gpt4.count(\"Y\")/response_list_gpt4.count(\"N\")))"
   ],
   "metadata": {
    "collapsed": false,
    "ExecuteTime": {
     "end_time": "2024-02-21T14:42:47.226415Z",
     "start_time": "2024-02-21T14:42:47.104004Z"
    }
   },
   "id": "9ce682f1075a1db6",
   "execution_count": 121
  },
  {
   "cell_type": "code",
   "outputs": [
    {
     "data": {
      "text/plain": "                                             Question GPT3.5_unambiguous  \\\n0                       The StackADT's pop operation:                  N   \n1   You see the expression n = 100000 in some code...                  Y   \n2   public BallPanel extends javax.swing.JPanel {\\...                  N   \n3   Suppose s is an instance of a stack that can s...                  N   \n4   Suppose you are trying to choose between an ar...                  Y   \n5   What will be outputted?\\nclass A{\\n      int f...                  N   \n6   Consider the following Java implementation of ...                  N   \n7   What wil the following code print, assuming th...                  Y   \n8   Read the following method skeleton and choose ...                  N   \n9   You've got an algorithm that is O(log N). On t...                  Y   \n10  Two algorithms accomplish the same task on a c...                  N   \n11  What does the following Java code print?\\nint ...                  Y   \n12  What abstract data type is best suited to help...                  Y   \n13  Locating a new node's insertion point in a bin...                  N   \n14  If you did not have a base case in a recursive...                  N   \n15  William has the hash function: hash function h...                  Y   \n16  What would the following line of code do with ...                  N   \n17  Which of the following abstract datatypes woul...                  N   \n18  Given the following Java class declaration:\\np...                  Y   \n19  After the following syntactically correct code...                  Y   \n20  The following method, called maxRow(), is inte...                  N   \n21  You know exactly how much data you need to sto...                  N   \n22  Which of the following recommendations for tes...                  N   \n23  What will be printed by this code?\\n      publ...                  Y   \n24  You need to sort an array but have no extra me...                  N   \n25  What does the following Java code produce?\\nin...                  Y   \n26  How many objects are created in the following ...                  N   \n27  Suppose you have a Java array of ints. What is...                  Y   \n28  Suppose q is an instance of a queue that can s...                  N   \n29  You are writing a depth-first search on a plat...                  Y   \n30  Suppose you've got a generic class:\\nclass Ros...                  N   \n31  Read the following method skeleton and choose ...                  N   \n32  The Fibonacci sequence is 0, 1, 1, 2, 3, 5, 8,...                  N   \n33  After the assignments x = 27 and y = 12, what ...                  N   \n34  The following method isSorted should return tr...                  N   \n35  Consider the following two simple Java classes...                  N   \n36                                           C++ uses                  N   \n37  Which of the following assertions about the ef...                  N   \n38  What will be outputted?\\nString input = \"Home ...                  N   \n39  Assume that an object of the following class h...                  N   \n40  Consider the following class for a Ninja:\\npub...                  N   \n41  Suppose you are writing software for a helpdes...                  N   \n42  Consider the following class definition:\\npubl...                  N   \n43  The following code for a method \"minVal\" conta...                  N   \n44           Which problem is not P (assuming P!=NP)?                  N   \n45  What effect does the statement Option Explicit...                  Y   \n46  Suppose you try to perform a binary search on ...                  N   \n47  Which of the following is true of a Java inter...                  N   \n48                    Inserting a node into a heap is                  N   \n49  Consider the following:\\npublic void foo (int ...                  N   \n\n   GPT4_unambiguous                            GPT3.5_revised_question  \\\n0                 N  What does the StackADT's pop operation do?\\n\\n...   \n1                 Y                                               None   \n2                 N  Which of the following Java statements, when e...   \n3                 Y  What is the value of variable z after the foll...   \n4                 Y                                               None   \n5                 Y  What is the output of the following Java code ...   \n6                 Y  What is the output of the following Java code ...   \n7                 Y                                               None   \n8                 N  Which expression correctly fills in the blank ...   \n9                 N                                               None   \n10                Y  Under what conditions does Algorithm A offer s...   \n11                Y                                               None   \n12                Y                                               None   \n13                N  At what point does the process of locating the...   \n14                Y  What is the likely outcome if a recursive func...   \n15                N                                               None   \n16                N  What would be the outcome of the following lin...   \n17                Y  Which abstract datatype would best support the...   \n18                N                                               None   \n19                N                                               None   \n20                N  How should the blank be filled on Line 3 and L...   \n21                Y  Which data structure is the most suitable for ...   \n22                Y  Which of the following recommendations would b...   \n23                Y                                               None   \n24                Y  Which of the following sorting algorithms is N...   \n25                N                                               None   \n26                N  A) One\\nB) Two\\nC) Three\\nD) None of the above...   \n27                Y                                               None   \n28                Y  After executing the following sequence of stat...   \n29                Y                                               None   \n30                Y  What is the erasure type of the following gene...   \n31                N  Which expression should fill in the blank on l...   \n32                N  Which statement correctly completes the loop h...   \n33                Y  A) True\\nB) False\\nC) Error\\nD) None of the ab...   \n34                Y  What code should be added to the method isSort...   \n35                N  Which of the following statements correctly id...   \n36                N  Which language uses C++ for programming? \\n\\nA...   \n37                Y  Which of the following statements accurately d...   \n38                Y  What will be printed as output of the followin...   \n39                Y  When an instance of the Unknown class is creat...   \n40                N  Which of the following best describes the resu...   \n41                Y  Which abstract datatype would best ensure that...   \n42                N  Should the variable \"i\" in the methods foo1, f...   \n43                Y  Which line in the code for the \"minVal\" method...   \n44                Y  Which of the following problems is not in the ...   \n45                Y                                               None   \n46                N  Which element in the unsorted array {1, 4, 3, ...   \n47                Y  A. It can contain both variable and method dec...   \n48                N  A) adding a new element to the heap\\nB) removi...   \n49                N  A. The parameter passed to the foo method\\nB. ...   \n\n                                GPT4_revised_question  \\\n0   What does the pop operation in the StackADT pe...   \n1                                                None   \n2   In the provided BallPanel class, which extends...   \n3                                                None   \n4                                                None   \n5                                                None   \n6                                                None   \n7                                                None   \n8   The following method is designed to count the ...   \n9   Assume you have an algorithm with a complexity...   \n10                                               None   \n11                                               None   \n12                                               None   \n13  \"When performing an insertion operation in a b...   \n14                                               None   \n15  William implemented a hash function h(k) = (su...   \n16  What action will the following line of code pe...   \n17                                               None   \n18  Consider the Java class T2int and the method c...   \n19  After the execution of the given code block, w...   \n20  In this maxRow() method intended to find the i...   \n21                                               None   \n22                                               None   \n23                                               None   \n24                                               None   \n25  \"What will be the output of the following Java...   \n26  How many objects are generated by the given de...   \n27                                               None   \n28                                               None   \n29                                               None   \n30                                               None   \n31  Given the provided method skeleton that takes ...   \n32  What is the correct code to fill in the loop s...   \n33                                               None   \n34                                               None   \n35  In the context of the provided Java classes: B...   \n36                       Which language utilizes C++?   \n37                                               None   \n38                                               None   \n39                                               None   \n40  \"Considering two objects, Ninja n1 = new Ninja...   \n41                                               None   \n42  \"Should 'i' be changed to an instance variable...   \n43                                               None   \n44                                               None   \n45                                               None   \n46  If a binary search is attempted on the unsorte...   \n47                                               None   \n48  What is the process involved in inserting a no...   \n49  In the context of the function 'public void fo...   \n\n   GPT3.5_revised_question_unambiguous GPT4_revised_question_unambiguous  \n0                                    N                                 Y  \n1                                    N                                 N  \n2                                    Y                                 Y  \n3                                    N                                 N  \n4                                    N                                 N  \n5                                    N                                 N  \n6                                    N                                 N  \n7                                    N                                 N  \n8                                    N                                 Y  \n9                                    N                                 N  \n10                                   N                                 N  \n11                                   N                                 N  \n12                                   N                                 N  \n13                                   N                                 Y  \n14                                   N                                 N  \n15                                   N                                 N  \n16                                   N                                 Y  \n17                                   N                                 N  \n18                                   N                                 Y  \n19                                   N                                 N  \n20                                   N                                 N  \n21                                   N                                 N  \n22                                   N                                 N  \n23                                   N                                 N  \n24                                   N                                 N  \n25                                   N                                 Y  \n26                                   N                                 Y  \n27                                   N                                 N  \n28                                   N                                 N  \n29                                   N                                 N  \n30                                   N                                 N  \n31                                   N                                 N  \n32                                   N                                 N  \n33                                   N                                 N  \n34                                   N                                 N  \n35                                   N                                 N  \n36                                   N                                 N  \n37                                   N                                 N  \n38                                   N                                 N  \n39                                   N                                 N  \n40                                   N                                 N  \n41                                   N                                 N  \n42                                   N                                 N  \n43                                   N                                 N  \n44                                   N                                 N  \n45                                   N                                 N  \n46                                   N                                 N  \n47                                   N                                 N  \n48                                   N                                 Y  \n49                                   N                                 Y  ",
      "text/html": "<div>\n<style scoped>\n    .dataframe tbody tr th:only-of-type {\n        vertical-align: middle;\n    }\n\n    .dataframe tbody tr th {\n        vertical-align: top;\n    }\n\n    .dataframe thead th {\n        text-align: right;\n    }\n</style>\n<table border=\"1\" class=\"dataframe\">\n  <thead>\n    <tr style=\"text-align: right;\">\n      <th></th>\n      <th>Question</th>\n      <th>GPT3.5_unambiguous</th>\n      <th>GPT4_unambiguous</th>\n      <th>GPT3.5_revised_question</th>\n      <th>GPT4_revised_question</th>\n      <th>GPT3.5_revised_question_unambiguous</th>\n      <th>GPT4_revised_question_unambiguous</th>\n    </tr>\n  </thead>\n  <tbody>\n    <tr>\n      <th>0</th>\n      <td>The StackADT's pop operation:</td>\n      <td>N</td>\n      <td>N</td>\n      <td>What does the StackADT's pop operation do?\\n\\n...</td>\n      <td>What does the pop operation in the StackADT pe...</td>\n      <td>N</td>\n      <td>Y</td>\n    </tr>\n    <tr>\n      <th>1</th>\n      <td>You see the expression n = 100000 in some code...</td>\n      <td>Y</td>\n      <td>Y</td>\n      <td>None</td>\n      <td>None</td>\n      <td>N</td>\n      <td>N</td>\n    </tr>\n    <tr>\n      <th>2</th>\n      <td>public BallPanel extends javax.swing.JPanel {\\...</td>\n      <td>N</td>\n      <td>N</td>\n      <td>Which of the following Java statements, when e...</td>\n      <td>In the provided BallPanel class, which extends...</td>\n      <td>Y</td>\n      <td>Y</td>\n    </tr>\n    <tr>\n      <th>3</th>\n      <td>Suppose s is an instance of a stack that can s...</td>\n      <td>N</td>\n      <td>Y</td>\n      <td>What is the value of variable z after the foll...</td>\n      <td>None</td>\n      <td>N</td>\n      <td>N</td>\n    </tr>\n    <tr>\n      <th>4</th>\n      <td>Suppose you are trying to choose between an ar...</td>\n      <td>Y</td>\n      <td>Y</td>\n      <td>None</td>\n      <td>None</td>\n      <td>N</td>\n      <td>N</td>\n    </tr>\n    <tr>\n      <th>5</th>\n      <td>What will be outputted?\\nclass A{\\n      int f...</td>\n      <td>N</td>\n      <td>Y</td>\n      <td>What is the output of the following Java code ...</td>\n      <td>None</td>\n      <td>N</td>\n      <td>N</td>\n    </tr>\n    <tr>\n      <th>6</th>\n      <td>Consider the following Java implementation of ...</td>\n      <td>N</td>\n      <td>Y</td>\n      <td>What is the output of the following Java code ...</td>\n      <td>None</td>\n      <td>N</td>\n      <td>N</td>\n    </tr>\n    <tr>\n      <th>7</th>\n      <td>What wil the following code print, assuming th...</td>\n      <td>Y</td>\n      <td>Y</td>\n      <td>None</td>\n      <td>None</td>\n      <td>N</td>\n      <td>N</td>\n    </tr>\n    <tr>\n      <th>8</th>\n      <td>Read the following method skeleton and choose ...</td>\n      <td>N</td>\n      <td>N</td>\n      <td>Which expression correctly fills in the blank ...</td>\n      <td>The following method is designed to count the ...</td>\n      <td>N</td>\n      <td>Y</td>\n    </tr>\n    <tr>\n      <th>9</th>\n      <td>You've got an algorithm that is O(log N). On t...</td>\n      <td>Y</td>\n      <td>N</td>\n      <td>None</td>\n      <td>Assume you have an algorithm with a complexity...</td>\n      <td>N</td>\n      <td>N</td>\n    </tr>\n    <tr>\n      <th>10</th>\n      <td>Two algorithms accomplish the same task on a c...</td>\n      <td>N</td>\n      <td>Y</td>\n      <td>Under what conditions does Algorithm A offer s...</td>\n      <td>None</td>\n      <td>N</td>\n      <td>N</td>\n    </tr>\n    <tr>\n      <th>11</th>\n      <td>What does the following Java code print?\\nint ...</td>\n      <td>Y</td>\n      <td>Y</td>\n      <td>None</td>\n      <td>None</td>\n      <td>N</td>\n      <td>N</td>\n    </tr>\n    <tr>\n      <th>12</th>\n      <td>What abstract data type is best suited to help...</td>\n      <td>Y</td>\n      <td>Y</td>\n      <td>None</td>\n      <td>None</td>\n      <td>N</td>\n      <td>N</td>\n    </tr>\n    <tr>\n      <th>13</th>\n      <td>Locating a new node's insertion point in a bin...</td>\n      <td>N</td>\n      <td>N</td>\n      <td>At what point does the process of locating the...</td>\n      <td>\"When performing an insertion operation in a b...</td>\n      <td>N</td>\n      <td>Y</td>\n    </tr>\n    <tr>\n      <th>14</th>\n      <td>If you did not have a base case in a recursive...</td>\n      <td>N</td>\n      <td>Y</td>\n      <td>What is the likely outcome if a recursive func...</td>\n      <td>None</td>\n      <td>N</td>\n      <td>N</td>\n    </tr>\n    <tr>\n      <th>15</th>\n      <td>William has the hash function: hash function h...</td>\n      <td>Y</td>\n      <td>N</td>\n      <td>None</td>\n      <td>William implemented a hash function h(k) = (su...</td>\n      <td>N</td>\n      <td>N</td>\n    </tr>\n    <tr>\n      <th>16</th>\n      <td>What would the following line of code do with ...</td>\n      <td>N</td>\n      <td>N</td>\n      <td>What would be the outcome of the following lin...</td>\n      <td>What action will the following line of code pe...</td>\n      <td>N</td>\n      <td>Y</td>\n    </tr>\n    <tr>\n      <th>17</th>\n      <td>Which of the following abstract datatypes woul...</td>\n      <td>N</td>\n      <td>Y</td>\n      <td>Which abstract datatype would best support the...</td>\n      <td>None</td>\n      <td>N</td>\n      <td>N</td>\n    </tr>\n    <tr>\n      <th>18</th>\n      <td>Given the following Java class declaration:\\np...</td>\n      <td>Y</td>\n      <td>N</td>\n      <td>None</td>\n      <td>Consider the Java class T2int and the method c...</td>\n      <td>N</td>\n      <td>Y</td>\n    </tr>\n    <tr>\n      <th>19</th>\n      <td>After the following syntactically correct code...</td>\n      <td>Y</td>\n      <td>N</td>\n      <td>None</td>\n      <td>After the execution of the given code block, w...</td>\n      <td>N</td>\n      <td>N</td>\n    </tr>\n    <tr>\n      <th>20</th>\n      <td>The following method, called maxRow(), is inte...</td>\n      <td>N</td>\n      <td>N</td>\n      <td>How should the blank be filled on Line 3 and L...</td>\n      <td>In this maxRow() method intended to find the i...</td>\n      <td>N</td>\n      <td>N</td>\n    </tr>\n    <tr>\n      <th>21</th>\n      <td>You know exactly how much data you need to sto...</td>\n      <td>N</td>\n      <td>Y</td>\n      <td>Which data structure is the most suitable for ...</td>\n      <td>None</td>\n      <td>N</td>\n      <td>N</td>\n    </tr>\n    <tr>\n      <th>22</th>\n      <td>Which of the following recommendations for tes...</td>\n      <td>N</td>\n      <td>Y</td>\n      <td>Which of the following recommendations would b...</td>\n      <td>None</td>\n      <td>N</td>\n      <td>N</td>\n    </tr>\n    <tr>\n      <th>23</th>\n      <td>What will be printed by this code?\\n      publ...</td>\n      <td>Y</td>\n      <td>Y</td>\n      <td>None</td>\n      <td>None</td>\n      <td>N</td>\n      <td>N</td>\n    </tr>\n    <tr>\n      <th>24</th>\n      <td>You need to sort an array but have no extra me...</td>\n      <td>N</td>\n      <td>Y</td>\n      <td>Which of the following sorting algorithms is N...</td>\n      <td>None</td>\n      <td>N</td>\n      <td>N</td>\n    </tr>\n    <tr>\n      <th>25</th>\n      <td>What does the following Java code produce?\\nin...</td>\n      <td>Y</td>\n      <td>N</td>\n      <td>None</td>\n      <td>\"What will be the output of the following Java...</td>\n      <td>N</td>\n      <td>Y</td>\n    </tr>\n    <tr>\n      <th>26</th>\n      <td>How many objects are created in the following ...</td>\n      <td>N</td>\n      <td>N</td>\n      <td>A) One\\nB) Two\\nC) Three\\nD) None of the above...</td>\n      <td>How many objects are generated by the given de...</td>\n      <td>N</td>\n      <td>Y</td>\n    </tr>\n    <tr>\n      <th>27</th>\n      <td>Suppose you have a Java array of ints. What is...</td>\n      <td>Y</td>\n      <td>Y</td>\n      <td>None</td>\n      <td>None</td>\n      <td>N</td>\n      <td>N</td>\n    </tr>\n    <tr>\n      <th>28</th>\n      <td>Suppose q is an instance of a queue that can s...</td>\n      <td>N</td>\n      <td>Y</td>\n      <td>After executing the following sequence of stat...</td>\n      <td>None</td>\n      <td>N</td>\n      <td>N</td>\n    </tr>\n    <tr>\n      <th>29</th>\n      <td>You are writing a depth-first search on a plat...</td>\n      <td>Y</td>\n      <td>Y</td>\n      <td>None</td>\n      <td>None</td>\n      <td>N</td>\n      <td>N</td>\n    </tr>\n    <tr>\n      <th>30</th>\n      <td>Suppose you've got a generic class:\\nclass Ros...</td>\n      <td>N</td>\n      <td>Y</td>\n      <td>What is the erasure type of the following gene...</td>\n      <td>None</td>\n      <td>N</td>\n      <td>N</td>\n    </tr>\n    <tr>\n      <th>31</th>\n      <td>Read the following method skeleton and choose ...</td>\n      <td>N</td>\n      <td>N</td>\n      <td>Which expression should fill in the blank on l...</td>\n      <td>Given the provided method skeleton that takes ...</td>\n      <td>N</td>\n      <td>N</td>\n    </tr>\n    <tr>\n      <th>32</th>\n      <td>The Fibonacci sequence is 0, 1, 1, 2, 3, 5, 8,...</td>\n      <td>N</td>\n      <td>N</td>\n      <td>Which statement correctly completes the loop h...</td>\n      <td>What is the correct code to fill in the loop s...</td>\n      <td>N</td>\n      <td>N</td>\n    </tr>\n    <tr>\n      <th>33</th>\n      <td>After the assignments x = 27 and y = 12, what ...</td>\n      <td>N</td>\n      <td>Y</td>\n      <td>A) True\\nB) False\\nC) Error\\nD) None of the ab...</td>\n      <td>None</td>\n      <td>N</td>\n      <td>N</td>\n    </tr>\n    <tr>\n      <th>34</th>\n      <td>The following method isSorted should return tr...</td>\n      <td>N</td>\n      <td>Y</td>\n      <td>What code should be added to the method isSort...</td>\n      <td>None</td>\n      <td>N</td>\n      <td>N</td>\n    </tr>\n    <tr>\n      <th>35</th>\n      <td>Consider the following two simple Java classes...</td>\n      <td>N</td>\n      <td>N</td>\n      <td>Which of the following statements correctly id...</td>\n      <td>In the context of the provided Java classes: B...</td>\n      <td>N</td>\n      <td>N</td>\n    </tr>\n    <tr>\n      <th>36</th>\n      <td>C++ uses</td>\n      <td>N</td>\n      <td>N</td>\n      <td>Which language uses C++ for programming? \\n\\nA...</td>\n      <td>Which language utilizes C++?</td>\n      <td>N</td>\n      <td>N</td>\n    </tr>\n    <tr>\n      <th>37</th>\n      <td>Which of the following assertions about the ef...</td>\n      <td>N</td>\n      <td>Y</td>\n      <td>Which of the following statements accurately d...</td>\n      <td>None</td>\n      <td>N</td>\n      <td>N</td>\n    </tr>\n    <tr>\n      <th>38</th>\n      <td>What will be outputted?\\nString input = \"Home ...</td>\n      <td>N</td>\n      <td>Y</td>\n      <td>What will be printed as output of the followin...</td>\n      <td>None</td>\n      <td>N</td>\n      <td>N</td>\n    </tr>\n    <tr>\n      <th>39</th>\n      <td>Assume that an object of the following class h...</td>\n      <td>N</td>\n      <td>Y</td>\n      <td>When an instance of the Unknown class is creat...</td>\n      <td>None</td>\n      <td>N</td>\n      <td>N</td>\n    </tr>\n    <tr>\n      <th>40</th>\n      <td>Consider the following class for a Ninja:\\npub...</td>\n      <td>N</td>\n      <td>N</td>\n      <td>Which of the following best describes the resu...</td>\n      <td>\"Considering two objects, Ninja n1 = new Ninja...</td>\n      <td>N</td>\n      <td>N</td>\n    </tr>\n    <tr>\n      <th>41</th>\n      <td>Suppose you are writing software for a helpdes...</td>\n      <td>N</td>\n      <td>Y</td>\n      <td>Which abstract datatype would best ensure that...</td>\n      <td>None</td>\n      <td>N</td>\n      <td>N</td>\n    </tr>\n    <tr>\n      <th>42</th>\n      <td>Consider the following class definition:\\npubl...</td>\n      <td>N</td>\n      <td>N</td>\n      <td>Should the variable \"i\" in the methods foo1, f...</td>\n      <td>\"Should 'i' be changed to an instance variable...</td>\n      <td>N</td>\n      <td>N</td>\n    </tr>\n    <tr>\n      <th>43</th>\n      <td>The following code for a method \"minVal\" conta...</td>\n      <td>N</td>\n      <td>Y</td>\n      <td>Which line in the code for the \"minVal\" method...</td>\n      <td>None</td>\n      <td>N</td>\n      <td>N</td>\n    </tr>\n    <tr>\n      <th>44</th>\n      <td>Which problem is not P (assuming P!=NP)?</td>\n      <td>N</td>\n      <td>Y</td>\n      <td>Which of the following problems is not in the ...</td>\n      <td>None</td>\n      <td>N</td>\n      <td>N</td>\n    </tr>\n    <tr>\n      <th>45</th>\n      <td>What effect does the statement Option Explicit...</td>\n      <td>Y</td>\n      <td>Y</td>\n      <td>None</td>\n      <td>None</td>\n      <td>N</td>\n      <td>N</td>\n    </tr>\n    <tr>\n      <th>46</th>\n      <td>Suppose you try to perform a binary search on ...</td>\n      <td>N</td>\n      <td>N</td>\n      <td>Which element in the unsorted array {1, 4, 3, ...</td>\n      <td>If a binary search is attempted on the unsorte...</td>\n      <td>N</td>\n      <td>N</td>\n    </tr>\n    <tr>\n      <th>47</th>\n      <td>Which of the following is true of a Java inter...</td>\n      <td>N</td>\n      <td>Y</td>\n      <td>A. It can contain both variable and method dec...</td>\n      <td>None</td>\n      <td>N</td>\n      <td>N</td>\n    </tr>\n    <tr>\n      <th>48</th>\n      <td>Inserting a node into a heap is</td>\n      <td>N</td>\n      <td>N</td>\n      <td>A) adding a new element to the heap\\nB) removi...</td>\n      <td>What is the process involved in inserting a no...</td>\n      <td>N</td>\n      <td>Y</td>\n    </tr>\n    <tr>\n      <th>49</th>\n      <td>Consider the following:\\npublic void foo (int ...</td>\n      <td>N</td>\n      <td>N</td>\n      <td>A. The parameter passed to the foo method\\nB. ...</td>\n      <td>In the context of the function 'public void fo...</td>\n      <td>N</td>\n      <td>Y</td>\n    </tr>\n  </tbody>\n</table>\n</div>"
     },
     "execution_count": 118,
     "metadata": {},
     "output_type": "execute_result"
    }
   ],
   "source": [
    "df_50['GPT3.5_revised_question_unambiguous'] = revised_question_gpt3_5\n",
    "df_50['GPT4_revised_question_unambiguous'] = revised_question_gpt4\n",
    "df_50"
   ],
   "metadata": {
    "collapsed": false,
    "ExecuteTime": {
     "end_time": "2024-02-21T14:30:14.685226Z",
     "start_time": "2024-02-21T14:30:14.671326Z"
    }
   },
   "id": "35b857243e2d77a",
   "execution_count": 118
  },
  {
   "cell_type": "code",
   "outputs": [
    {
     "data": {
      "text/plain": "Question                               Read the following method skeleton and choose ...\nGPT3.5_unambiguous                                                                     N\nGPT4_unambiguous                                                                       N\nGPT3.5_revised_question                Which expression correctly fills in the blank ...\nGPT4_revised_question                  The following method is designed to count the ...\nGPT3.5_revised_question_unambiguous                                                    N\nGPT4_revised_question_unambiguous                                                      Y\nName: 8, dtype: object"
     },
     "execution_count": 124,
     "metadata": {},
     "output_type": "execute_result"
    }
   ],
   "source": [
    "df_50.iloc[8]"
   ],
   "metadata": {
    "collapsed": false,
    "ExecuteTime": {
     "end_time": "2024-02-21T15:37:37.079746Z",
     "start_time": "2024-02-21T15:37:36.967893Z"
    }
   },
   "id": "ca08615272afe4e6",
   "execution_count": 124
  },
  {
   "cell_type": "code",
   "outputs": [],
   "source": [],
   "metadata": {
    "collapsed": false
   },
   "id": "34361f540207e939"
  }
 ],
 "metadata": {
  "kernelspec": {
   "display_name": "Python 3 (ipykernel)",
   "language": "python",
   "name": "python3"
  },
  "language_info": {
   "codemirror_mode": {
    "name": "ipython",
    "version": 3
   },
   "file_extension": ".py",
   "mimetype": "text/x-python",
   "name": "python",
   "nbconvert_exporter": "python",
   "pygments_lexer": "ipython3",
   "version": "3.10.9"
  }
 },
 "nbformat": 4,
 "nbformat_minor": 5
}
