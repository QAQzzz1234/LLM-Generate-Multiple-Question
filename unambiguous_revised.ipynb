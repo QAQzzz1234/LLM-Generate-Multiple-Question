{
 "cells": [
  {
   "cell_type": "markdown",
   "id": "92d450978a0fd1af",
   "metadata": {},
   "source": [
    "#### Data Preprocessing"
   ]
  },
  {
   "cell_type": "code",
   "execution_count": 48,
   "id": "30e6176e",
   "metadata": {
    "ExecuteTime": {
     "end_time": "2024-07-24T04:10:59.190218Z",
     "start_time": "2024-07-24T04:10:59.187252Z"
    }
   },
   "outputs": [],
   "source": [
    "import pandas as pd\n",
    "import os\n",
    "from openpyxl import load_workbook"
   ]
  },
  {
   "cell_type": "code",
   "execution_count": 49,
   "id": "c9ddfedb",
   "metadata": {
    "ExecuteTime": {
     "end_time": "2024-07-24T04:10:59.410710Z",
     "start_time": "2024-07-24T04:10:59.307193Z"
    }
   },
   "outputs": [],
   "source": [
    "df = pd.read_csv(\"questions.csv\")"
   ]
  },
  {
   "cell_type": "code",
   "execution_count": 50,
   "id": "b24df538",
   "metadata": {
    "ExecuteTime": {
     "end_time": "2024-07-24T04:10:59.423424Z",
     "start_time": "2024-07-24T04:10:59.414016Z"
    }
   },
   "outputs": [],
   "source": [
    "from bs4 import BeautifulSoup"
   ]
  },
  {
   "cell_type": "code",
   "execution_count": 51,
   "id": "42b90774",
   "metadata": {
    "ExecuteTime": {
     "end_time": "2024-07-24T04:10:59.727099Z",
     "start_time": "2024-07-24T04:10:59.425506Z"
    }
   },
   "outputs": [],
   "source": [
    "def my_get_text(html_code):\n",
    "    soup = BeautifulSoup(html_code)\n",
    "    return soup.get_text().strip()\n",
    "question_cleaned = df['Question'].apply(my_get_text)"
   ]
  },
  {
   "cell_type": "code",
   "execution_count": 52,
   "id": "390955e6",
   "metadata": {
    "ExecuteTime": {
     "end_time": "2024-07-24T04:10:59.773534Z",
     "start_time": "2024-07-24T04:10:59.729942Z"
    }
   },
   "outputs": [],
   "source": [
    "df_noimage_mask = df[~df['Question'].str.contains(\"img\")]"
   ]
  },
  {
   "cell_type": "code",
   "execution_count": 53,
   "id": "3a23b9a3",
   "metadata": {
    "ExecuteTime": {
     "end_time": "2024-07-24T04:11:00.046959Z",
     "start_time": "2024-07-24T04:10:59.775004Z"
    }
   },
   "outputs": [],
   "source": [
    "question_cleaned_noimg = df_noimage_mask['Question'].apply(my_get_text)"
   ]
  },
  {
   "cell_type": "markdown",
   "id": "dcbc49e8d27a9b58",
   "metadata": {},
   "source": [
    "\n",
    "#### Open Router Question Maker"
   ]
  },
  {
   "cell_type": "code",
   "execution_count": 68,
   "id": "a4a0a66b",
   "metadata": {
    "ExecuteTime": {
     "end_time": "2024-07-26T03:27:22.164721Z",
     "start_time": "2024-07-26T03:27:22.136154Z"
    }
   },
   "outputs": [],
   "source": [
    "import requests\n",
    "import json\n",
    "# api_key = \"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\"\n",
    "api_key = \"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\""
   ]
  },
  {
   "cell_type": "code",
   "execution_count": 55,
   "id": "b20be57969764df8",
   "metadata": {
    "ExecuteTime": {
     "end_time": "2024-07-24T04:11:00.071411Z",
     "start_time": "2024-07-24T04:11:00.053792Z"
    }
   },
   "outputs": [],
   "source": [
    "df_50_question = question_cleaned_noimg.sample(n=50,random_state=1)\n",
    "df_50_question.reset_index(drop=True, inplace=True)"
   ]
  },
  {
   "cell_type": "code",
   "outputs": [],
   "source": [
    "df_50_question.to_csv(\"50_questions.csv\",index=False)"
   ],
   "metadata": {
    "collapsed": false,
    "ExecuteTime": {
     "end_time": "2024-08-07T03:18:37.194258Z",
     "start_time": "2024-08-07T03:18:37.087069Z"
    }
   },
   "id": "4b547ee008e70be8",
   "execution_count": 75
  },
  {
   "cell_type": "markdown",
   "id": "c9fb03f21f9b31c7",
   "metadata": {},
   "source": [
    "#### API request for specific model "
   ]
  },
  {
   "cell_type": "code",
   "execution_count": 69,
   "id": "2169d96f4fcdd96b",
   "metadata": {
    "ExecuteTime": {
     "end_time": "2024-07-26T03:27:27.470661Z",
     "start_time": "2024-07-26T03:27:27.457686Z"
    }
   },
   "outputs": [],
   "source": [
    "def ask_question_open_router(question,model):\n",
    "    response = requests.post(\n",
    "  url=\"https://openrouter.ai/api/v1/chat/completions\",\n",
    "  headers={\n",
    "    \"Authorization\": f\"Bearer {api_key}\",\n",
    "    \"seed\": \"42\",\n",
    "  },\n",
    "  data=json.dumps({\n",
    "    \"model\": model, \n",
    "    \"messages\": [\n",
    "      {\"role\": \"user\", \"content\": question }\n",
    "    ]\n",
    "  })\n",
    ")\n",
    "    response_data = response.json()\n",
    "    messages = [choice['message']['content'] for choice in response_data['choices']]\n",
    "    return messages"
   ]
  },
  {
   "cell_type": "code",
   "outputs": [
    {
     "name": "stdout",
     "output_type": "stream",
     "text": [
      "Generating answers for google/gemini-pro...\n",
      "Generating answers for mistralai/mixtral-8x7b-instruct:nitro...\n",
      "Generating answers for mistralai/mistral-7b-instruct:nitro...\n",
      "Completed generating answers for all models.\n"
     ]
    }
   ],
   "source": [
    "models = [\n",
    "    \"openai/gpt-3.5-turbo\",\n",
    "    \"openai/gpt-4\",\n",
    "    \"meta-llama/llama-2-70b-chat\",\n",
    "    \"mistralai/mistral-7b-instruct\",\n",
    "    \"anthropic/claude-3-opus\",\n",
    "    \"google/gemini-pro\",\n",
    "    \"mistralai/mixtral-8x7b-instruct:nitro\",\n",
    "    \"mistralai/mistral-7b-instruct:nitro\"\n",
    "]\n",
    "# Iterate through each model\n",
    "for model in models:\n",
    "    # Create an empty DataFrame to store the results for each model\n",
    "    result = pd.DataFrame(index=range(50), columns=[\"Q1\", \"Q2\", \"Q3\", \"Q4\"])\n",
    "    print(f\"Generating answers for {model}...\")\n",
    "\n",
    "    # Generate answers for Q1\n",
    "    for i in range(50):\n",
    "        question = (\"Based on the following multiple-choice question, generate three plausible distractors \"\n",
    "                    \"and one correct answer. Mark the correct answer with an (X), and no explanation \")+ df_50_question[i]\n",
    "        messages = ask_question_open_router(question, model)\n",
    "        result.at[i, 'Q1'] = messages[0]\n",
    "\n",
    "    # Evaluate if the question is unambiguous for Q2\n",
    "    for i in range(50):\n",
    "        question = \"Is the question an unambiguous exam question that has only one answer? \" + df_50_question[i]\n",
    "        messages = ask_question_open_router(question, model)\n",
    "        result.at[i, 'Q2'] = \"Y\" if \"YES\" in messages[0].upper() else \"N\"\n",
    "\n",
    "    # Rephrase ambiguous questions for Q3\n",
    "    for i in range(50):\n",
    "        if result.at[i, 'Q2'] == \"N\":\n",
    "            question = \"How would you rephrase the question to be unambiguous and suitable for a Multiple choice question on an exam? \" + df_50_question[i]\n",
    "            messages = ask_question_open_router(question, model)\n",
    "            result.at[i, 'Q3'] = messages[0]\n",
    "        else:\n",
    "            result.at[i, 'Q3'] = \"None\"\n",
    "\n",
    "    # Generate new answers for rephrased questions for Q4\n",
    "    for i in range(50):\n",
    "        if result.at[i, 'Q3'] != \"None\":\n",
    "            question = ((\"Based on the following multiple-choice question, generate three \"\n",
    "                        \"plausible distractors and one correct answer. Mark the correct answer with an (X), and no explanation \")+ df_50_question[i])\n",
    "            messages = ask_question_open_router(question, model)\n",
    "            result.at[i, 'Q4'] = messages[0]\n",
    "        else:\n",
    "            result.at[i, 'Q4'] = \"None\"\n",
    "\n",
    "    \n",
    "    file_path = os.path.join(output_dir, f\"{model.split('/')[1]}.xlsx\")\n",
    "    result.to_excel(file_path, index=False)\n",
    "\n",
    "    # Adjust column widths\n",
    "    wb = load_workbook(file_path)\n",
    "    ws = wb.active\n",
    "\n",
    "    for column in ws.columns:\n",
    "        max_length = 0\n",
    "        column_letter = column[0].column_letter  # Get the column letter\n",
    "        for cell in column:\n",
    "            try:\n",
    "                if cell.value:\n",
    "                    max_length = max(max_length, len(str(cell.value)))\n",
    "            except:\n",
    "                pass\n",
    "        adjusted_width = (max_length + 2) * 1.2  # Add some padding\n",
    "        ws.column_dimensions[column_letter].width = adjusted_width\n",
    "\n",
    "    for row in ws.iter_rows():\n",
    "        max_height = 0\n",
    "        for cell in row:\n",
    "            if cell.value:\n",
    "                lines = str(cell.value).split('\\n')\n",
    "                cell_height = len(lines) * 15  # Approximate row height per line\n",
    "                if cell_height > max_height:\n",
    "                    max_height = cell_height\n",
    "        ws.row_dimensions[row[0].row].height = max_height\n",
    "\n",
    "    wb.save(file_path)\n",
    "\n",
    "print(\"Completed generating answers for all models.\")\n"
   ],
   "metadata": {
    "collapsed": false,
    "ExecuteTime": {
     "end_time": "2024-07-26T03:50:28.662282Z",
     "start_time": "2024-07-26T03:27:28.589570Z"
    }
   },
   "id": "1ca76e1afafc2abf",
   "execution_count": 70
  },
  {
   "cell_type": "code",
   "outputs": [],
   "source": [
    "claude3 = pd.read_excel(\"checked/claude3.xlsx\")\n",
    "gemini = pd.read_excel(\"checked/gemini.xlsx\")\n",
    "gpt3 = pd.read_excel(\"checked/gpt3.5.xlsx\")\n",
    "gpt4 = pd.read_excel(\"checked/gpt4.xlsx\")\n",
    "llama = pd.read_excel(\"checked/llama.xlsx\")\n",
    "mistral7bi = pd.read_excel(\"checked/mistral7binstruct.xlsx\")\n",
    "mistral7bin = pd.read_excel(\"checked/mistral7binstructnitro.xlsx\")\n",
    "mistral8x7bin = pd.read_excel(\"checked/mistral8x7binstructnitro.xlsx\")\n"
   ],
   "metadata": {
    "collapsed": false,
    "ExecuteTime": {
     "end_time": "2024-08-16T06:46:00.059196Z",
     "start_time": "2024-08-16T06:45:59.905267Z"
    }
   },
   "id": "29e6d60135da021",
   "execution_count": 96
  },
  {
   "cell_type": "code",
   "outputs": [
    {
     "data": {
      "text/plain": "   Q1 Q2   Q3   Q4\n0   1  N  1.0  1.0\n1   0  N  1.0  0.0\n2   1  N  1.0  1.0\n3   0  Y  NaN  NaN\n4   1  Y  NaN  NaN",
      "text/html": "<div>\n<style scoped>\n    .dataframe tbody tr th:only-of-type {\n        vertical-align: middle;\n    }\n\n    .dataframe tbody tr th {\n        vertical-align: top;\n    }\n\n    .dataframe thead th {\n        text-align: right;\n    }\n</style>\n<table border=\"1\" class=\"dataframe\">\n  <thead>\n    <tr style=\"text-align: right;\">\n      <th></th>\n      <th>Q1</th>\n      <th>Q2</th>\n      <th>Q3</th>\n      <th>Q4</th>\n    </tr>\n  </thead>\n  <tbody>\n    <tr>\n      <th>0</th>\n      <td>1</td>\n      <td>N</td>\n      <td>1.0</td>\n      <td>1.0</td>\n    </tr>\n    <tr>\n      <th>1</th>\n      <td>0</td>\n      <td>N</td>\n      <td>1.0</td>\n      <td>0.0</td>\n    </tr>\n    <tr>\n      <th>2</th>\n      <td>1</td>\n      <td>N</td>\n      <td>1.0</td>\n      <td>1.0</td>\n    </tr>\n    <tr>\n      <th>3</th>\n      <td>0</td>\n      <td>Y</td>\n      <td>NaN</td>\n      <td>NaN</td>\n    </tr>\n    <tr>\n      <th>4</th>\n      <td>1</td>\n      <td>Y</td>\n      <td>NaN</td>\n      <td>NaN</td>\n    </tr>\n  </tbody>\n</table>\n</div>"
     },
     "execution_count": 100,
     "metadata": {},
     "output_type": "execute_result"
    }
   ],
   "source": [
    "claude3.head()"
   ],
   "metadata": {
    "collapsed": false,
    "ExecuteTime": {
     "end_time": "2024-08-16T06:50:43.589484Z",
     "start_time": "2024-08-16T06:50:43.580776Z"
    }
   },
   "id": "6e26cb8f9288b830",
   "execution_count": 100
  },
  {
   "cell_type": "code",
   "outputs": [
    {
     "data": {
      "text/plain": "  claude3              gemini              gpt3.5     ... mistral7bi       \\\n       Q1 Q2   Q3   Q4     Q1 Q2   Q3   Q4     Q1 Q2  ...         Q3   Q4   \n0       1  N  1.0  1.0      1  N  1.0  1.0      0  N  ...        NaN  NaN   \n1       0  N  1.0  0.0      0  N  1.0  0.0      0  Y  ...        1.0  0.0   \n2       1  N  1.0  1.0      1  N  1.0  1.0      0  N  ...        1.0  1.0   \n3       0  Y  NaN  NaN      0  N  1.0  0.0      1  N  ...        1.0  0.0   \n4       1  Y  NaN  NaN      1  N  1.0  1.0      1  Y  ...        1.0  1.0   \n\n  mistral7bin              mistral8x7bin               \n           Q1 Q2   Q3   Q4            Q1 Q2   Q3   Q4  \n0           1  N  1.0  1.0             1  N  1.0  1.0  \n1           1  N  1.0  1.0             0  Y  NaN  NaN  \n2           1  N  1.0  1.0             1  N  1.0  1.0  \n3           0  N  1.0  0.0             0  Y  NaN  NaN  \n4           1  N  1.0  1.0             1  Y  NaN  NaN  \n\n[5 rows x 32 columns]",
      "text/html": "<div>\n<style scoped>\n    .dataframe tbody tr th:only-of-type {\n        vertical-align: middle;\n    }\n\n    .dataframe tbody tr th {\n        vertical-align: top;\n    }\n\n    .dataframe thead tr th {\n        text-align: left;\n    }\n</style>\n<table border=\"1\" class=\"dataframe\">\n  <thead>\n    <tr>\n      <th></th>\n      <th colspan=\"4\" halign=\"left\">claude3</th>\n      <th colspan=\"4\" halign=\"left\">gemini</th>\n      <th colspan=\"2\" halign=\"left\">gpt3.5</th>\n      <th>...</th>\n      <th colspan=\"2\" halign=\"left\">mistral7bi</th>\n      <th colspan=\"4\" halign=\"left\">mistral7bin</th>\n      <th colspan=\"4\" halign=\"left\">mistral8x7bin</th>\n    </tr>\n    <tr>\n      <th></th>\n      <th>Q1</th>\n      <th>Q2</th>\n      <th>Q3</th>\n      <th>Q4</th>\n      <th>Q1</th>\n      <th>Q2</th>\n      <th>Q3</th>\n      <th>Q4</th>\n      <th>Q1</th>\n      <th>Q2</th>\n      <th>...</th>\n      <th>Q3</th>\n      <th>Q4</th>\n      <th>Q1</th>\n      <th>Q2</th>\n      <th>Q3</th>\n      <th>Q4</th>\n      <th>Q1</th>\n      <th>Q2</th>\n      <th>Q3</th>\n      <th>Q4</th>\n    </tr>\n  </thead>\n  <tbody>\n    <tr>\n      <th>0</th>\n      <td>1</td>\n      <td>N</td>\n      <td>1.0</td>\n      <td>1.0</td>\n      <td>1</td>\n      <td>N</td>\n      <td>1.0</td>\n      <td>1.0</td>\n      <td>0</td>\n      <td>N</td>\n      <td>...</td>\n      <td>NaN</td>\n      <td>NaN</td>\n      <td>1</td>\n      <td>N</td>\n      <td>1.0</td>\n      <td>1.0</td>\n      <td>1</td>\n      <td>N</td>\n      <td>1.0</td>\n      <td>1.0</td>\n    </tr>\n    <tr>\n      <th>1</th>\n      <td>0</td>\n      <td>N</td>\n      <td>1.0</td>\n      <td>0.0</td>\n      <td>0</td>\n      <td>N</td>\n      <td>1.0</td>\n      <td>0.0</td>\n      <td>0</td>\n      <td>Y</td>\n      <td>...</td>\n      <td>1.0</td>\n      <td>0.0</td>\n      <td>1</td>\n      <td>N</td>\n      <td>1.0</td>\n      <td>1.0</td>\n      <td>0</td>\n      <td>Y</td>\n      <td>NaN</td>\n      <td>NaN</td>\n    </tr>\n    <tr>\n      <th>2</th>\n      <td>1</td>\n      <td>N</td>\n      <td>1.0</td>\n      <td>1.0</td>\n      <td>1</td>\n      <td>N</td>\n      <td>1.0</td>\n      <td>1.0</td>\n      <td>0</td>\n      <td>N</td>\n      <td>...</td>\n      <td>1.0</td>\n      <td>1.0</td>\n      <td>1</td>\n      <td>N</td>\n      <td>1.0</td>\n      <td>1.0</td>\n      <td>1</td>\n      <td>N</td>\n      <td>1.0</td>\n      <td>1.0</td>\n    </tr>\n    <tr>\n      <th>3</th>\n      <td>0</td>\n      <td>Y</td>\n      <td>NaN</td>\n      <td>NaN</td>\n      <td>0</td>\n      <td>N</td>\n      <td>1.0</td>\n      <td>0.0</td>\n      <td>1</td>\n      <td>N</td>\n      <td>...</td>\n      <td>1.0</td>\n      <td>0.0</td>\n      <td>0</td>\n      <td>N</td>\n      <td>1.0</td>\n      <td>0.0</td>\n      <td>0</td>\n      <td>Y</td>\n      <td>NaN</td>\n      <td>NaN</td>\n    </tr>\n    <tr>\n      <th>4</th>\n      <td>1</td>\n      <td>Y</td>\n      <td>NaN</td>\n      <td>NaN</td>\n      <td>1</td>\n      <td>N</td>\n      <td>1.0</td>\n      <td>1.0</td>\n      <td>1</td>\n      <td>Y</td>\n      <td>...</td>\n      <td>1.0</td>\n      <td>1.0</td>\n      <td>1</td>\n      <td>N</td>\n      <td>1.0</td>\n      <td>1.0</td>\n      <td>1</td>\n      <td>Y</td>\n      <td>NaN</td>\n      <td>NaN</td>\n    </tr>\n  </tbody>\n</table>\n<p>5 rows × 32 columns</p>\n</div>"
     },
     "execution_count": 99,
     "metadata": {},
     "output_type": "execute_result"
    }
   ],
   "source": [
    "# create a multiple models dataframe\n",
    "models = [claude3, gemini, gpt3, gpt4, llama, mistral7bi, mistral7bin, mistral8x7bin]\n",
    "model_names = [\"claude3\", \"gemini\", \"gpt3.5\", \"gpt4\", \"llama\", \"mistral7bi\", \"mistral7bin\", \"mistral8x7bin\"]"
   ],
   "metadata": {
    "collapsed": false,
    "ExecuteTime": {
     "end_time": "2024-08-16T06:47:15.190428Z",
     "start_time": "2024-08-16T06:47:15.160039Z"
    }
   },
   "id": "31a727bdc188a3a8",
   "execution_count": 99
  },
  {
   "cell_type": "code",
   "outputs": [
    {
     "data": {
      "text/plain": "              % Correct % ambiguous %correct after revised\nclaude3            0.64        0.58               0.793103\ngemini             0.56        0.86               0.674419\ngpt3.5             0.64        0.74               0.540541\ngpt4                0.7        0.44               0.818182\nllama              0.62         0.9               0.666667\nmistral7bi          0.5        0.92                    0.5\nmistral7bin        0.56        0.98               0.612245\nmistral8x7bin      0.62        0.68               0.676471",
      "text/html": "<div>\n<style scoped>\n    .dataframe tbody tr th:only-of-type {\n        vertical-align: middle;\n    }\n\n    .dataframe tbody tr th {\n        vertical-align: top;\n    }\n\n    .dataframe thead th {\n        text-align: right;\n    }\n</style>\n<table border=\"1\" class=\"dataframe\">\n  <thead>\n    <tr style=\"text-align: right;\">\n      <th></th>\n      <th>% Correct</th>\n      <th>% ambiguous</th>\n      <th>%correct after revised</th>\n    </tr>\n  </thead>\n  <tbody>\n    <tr>\n      <th>claude3</th>\n      <td>0.64</td>\n      <td>0.58</td>\n      <td>0.793103</td>\n    </tr>\n    <tr>\n      <th>gemini</th>\n      <td>0.56</td>\n      <td>0.86</td>\n      <td>0.674419</td>\n    </tr>\n    <tr>\n      <th>gpt3.5</th>\n      <td>0.64</td>\n      <td>0.74</td>\n      <td>0.540541</td>\n    </tr>\n    <tr>\n      <th>gpt4</th>\n      <td>0.7</td>\n      <td>0.44</td>\n      <td>0.818182</td>\n    </tr>\n    <tr>\n      <th>llama</th>\n      <td>0.62</td>\n      <td>0.9</td>\n      <td>0.666667</td>\n    </tr>\n    <tr>\n      <th>mistral7bi</th>\n      <td>0.5</td>\n      <td>0.92</td>\n      <td>0.5</td>\n    </tr>\n    <tr>\n      <th>mistral7bin</th>\n      <td>0.56</td>\n      <td>0.98</td>\n      <td>0.612245</td>\n    </tr>\n    <tr>\n      <th>mistral8x7bin</th>\n      <td>0.62</td>\n      <td>0.68</td>\n      <td>0.676471</td>\n    </tr>\n  </tbody>\n</table>\n</div>"
     },
     "execution_count": 111,
     "metadata": {},
     "output_type": "execute_result"
    }
   ],
   "source": [
    "model_correct = pd.DataFrame(index=model_names,columns=['% Correct','% ambiguous','%correct after revised'])\n",
    "\n",
    "for i in model_names:\n",
    "    model_correct.at[i,'% Correct'] = models[model_names.index(i)]['Q1'].sum()/50\n",
    "    model_correct.at[i,'% ambiguous'] = models[model_names.index(i)]['Q2'].value_counts(normalize=True)['N']\n",
    "    model_correct.at[i,'%correct after revised'] = models[model_names.index(i)]['Q4'].sum()/models[model_names.index(i)]['Q2'].value_counts()['N']\n",
    "\n",
    "model_correct\n"
   ],
   "metadata": {
    "collapsed": false,
    "ExecuteTime": {
     "end_time": "2024-08-16T06:58:07.445808Z",
     "start_time": "2024-08-16T06:58:07.425430Z"
    }
   },
   "id": "ce8725a12be72bc3",
   "execution_count": 111
  },
  {
   "cell_type": "code",
   "outputs": [
    {
     "ename": "TypeError",
     "evalue": "Axes.boxplot() got an unexpected keyword argument 'y'",
     "output_type": "error",
     "traceback": [
      "\u001B[0;31m---------------------------------------------------------------------------\u001B[0m",
      "\u001B[0;31mTypeError\u001B[0m                                 Traceback (most recent call last)",
      "Cell \u001B[0;32mIn[162], line 21\u001B[0m\n\u001B[1;32m     10\u001B[0m Question_Accuracy\u001B[38;5;241m.\u001B[39mdrop(columns\u001B[38;5;241m=\u001B[39mmodel_names,inplace\u001B[38;5;241m=\u001B[39m\u001B[38;5;28;01mTrue\u001B[39;00m)\n\u001B[1;32m     14\u001B[0m \u001B[38;5;66;03m# fig, ax1 = plt.subplots(figsize=(10,5))\u001B[39;00m\n\u001B[1;32m     15\u001B[0m \u001B[38;5;66;03m# ax2 = ax1.twinx()\u001B[39;00m\n\u001B[1;32m     16\u001B[0m \u001B[38;5;66;03m# Question_Accuracy['Average'].plot(kind='line',color='red',ax=ax1)\u001B[39;00m\n\u001B[1;32m     17\u001B[0m \u001B[38;5;66;03m# Question_Accuracy['unambiguous'].plot(kind='bar',color='blue',ax=ax2)\u001B[39;00m\n\u001B[1;32m     18\u001B[0m \u001B[38;5;66;03m# ax1.set_ylabel('Average Accuracy')\u001B[39;00m\n\u001B[1;32m     19\u001B[0m \u001B[38;5;66;03m# ax2.set_ylabel('Unambiguous Questions')\u001B[39;00m\n\u001B[0;32m---> 21\u001B[0m Question_Accuracy\u001B[38;5;241m.\u001B[39mboxplot(y\u001B[38;5;241m=\u001B[39m\u001B[38;5;124m'\u001B[39m\u001B[38;5;124mAverage\u001B[39m\u001B[38;5;124m'\u001B[39m,x\u001B[38;5;241m=\u001B[39m\u001B[38;5;124m'\u001B[39m\u001B[38;5;124munambiguous\u001B[39m\u001B[38;5;124m'\u001B[39m)\n",
      "File \u001B[0;32m~/anaconda3/lib/python3.11/site-packages/pandas/plotting/_core.py:507\u001B[0m, in \u001B[0;36mboxplot_frame\u001B[0;34m(self, column, by, ax, fontsize, rot, grid, figsize, layout, return_type, backend, **kwargs)\u001B[0m\n\u001B[1;32m    490\u001B[0m \u001B[38;5;129m@Substitution\u001B[39m(data\u001B[38;5;241m=\u001B[39m\u001B[38;5;124m\"\u001B[39m\u001B[38;5;124m\"\u001B[39m, backend\u001B[38;5;241m=\u001B[39m_backend_doc)\n\u001B[1;32m    491\u001B[0m \u001B[38;5;129m@Appender\u001B[39m(_boxplot_doc)\n\u001B[1;32m    492\u001B[0m \u001B[38;5;28;01mdef\u001B[39;00m \u001B[38;5;21mboxplot_frame\u001B[39m(\n\u001B[0;32m   (...)\u001B[0m\n\u001B[1;32m    504\u001B[0m     \u001B[38;5;241m*\u001B[39m\u001B[38;5;241m*\u001B[39mkwargs,\n\u001B[1;32m    505\u001B[0m ):\n\u001B[1;32m    506\u001B[0m     plot_backend \u001B[38;5;241m=\u001B[39m _get_plot_backend(backend)\n\u001B[0;32m--> 507\u001B[0m     \u001B[38;5;28;01mreturn\u001B[39;00m plot_backend\u001B[38;5;241m.\u001B[39mboxplot_frame(\n\u001B[1;32m    508\u001B[0m         \u001B[38;5;28mself\u001B[39m,\n\u001B[1;32m    509\u001B[0m         column\u001B[38;5;241m=\u001B[39mcolumn,\n\u001B[1;32m    510\u001B[0m         by\u001B[38;5;241m=\u001B[39mby,\n\u001B[1;32m    511\u001B[0m         ax\u001B[38;5;241m=\u001B[39max,\n\u001B[1;32m    512\u001B[0m         fontsize\u001B[38;5;241m=\u001B[39mfontsize,\n\u001B[1;32m    513\u001B[0m         rot\u001B[38;5;241m=\u001B[39mrot,\n\u001B[1;32m    514\u001B[0m         grid\u001B[38;5;241m=\u001B[39mgrid,\n\u001B[1;32m    515\u001B[0m         figsize\u001B[38;5;241m=\u001B[39mfigsize,\n\u001B[1;32m    516\u001B[0m         layout\u001B[38;5;241m=\u001B[39mlayout,\n\u001B[1;32m    517\u001B[0m         return_type\u001B[38;5;241m=\u001B[39mreturn_type,\n\u001B[1;32m    518\u001B[0m         \u001B[38;5;241m*\u001B[39m\u001B[38;5;241m*\u001B[39mkwargs,\n\u001B[1;32m    519\u001B[0m     )\n",
      "File \u001B[0;32m~/anaconda3/lib/python3.11/site-packages/pandas/plotting/_matplotlib/boxplot.py:469\u001B[0m, in \u001B[0;36mboxplot_frame\u001B[0;34m(self, column, by, ax, fontsize, rot, grid, figsize, layout, return_type, **kwds)\u001B[0m\n\u001B[1;32m    454\u001B[0m \u001B[38;5;28;01mdef\u001B[39;00m \u001B[38;5;21mboxplot_frame\u001B[39m(\n\u001B[1;32m    455\u001B[0m     \u001B[38;5;28mself\u001B[39m,\n\u001B[1;32m    456\u001B[0m     column\u001B[38;5;241m=\u001B[39m\u001B[38;5;28;01mNone\u001B[39;00m,\n\u001B[0;32m   (...)\u001B[0m\n\u001B[1;32m    465\u001B[0m     \u001B[38;5;241m*\u001B[39m\u001B[38;5;241m*\u001B[39mkwds,\n\u001B[1;32m    466\u001B[0m ):\n\u001B[1;32m    467\u001B[0m     \u001B[38;5;28;01mimport\u001B[39;00m \u001B[38;5;21;01mmatplotlib\u001B[39;00m\u001B[38;5;21;01m.\u001B[39;00m\u001B[38;5;21;01mpyplot\u001B[39;00m \u001B[38;5;28;01mas\u001B[39;00m \u001B[38;5;21;01mplt\u001B[39;00m\n\u001B[0;32m--> 469\u001B[0m     ax \u001B[38;5;241m=\u001B[39m boxplot(\n\u001B[1;32m    470\u001B[0m         \u001B[38;5;28mself\u001B[39m,\n\u001B[1;32m    471\u001B[0m         column\u001B[38;5;241m=\u001B[39mcolumn,\n\u001B[1;32m    472\u001B[0m         by\u001B[38;5;241m=\u001B[39mby,\n\u001B[1;32m    473\u001B[0m         ax\u001B[38;5;241m=\u001B[39max,\n\u001B[1;32m    474\u001B[0m         fontsize\u001B[38;5;241m=\u001B[39mfontsize,\n\u001B[1;32m    475\u001B[0m         grid\u001B[38;5;241m=\u001B[39mgrid,\n\u001B[1;32m    476\u001B[0m         rot\u001B[38;5;241m=\u001B[39mrot,\n\u001B[1;32m    477\u001B[0m         figsize\u001B[38;5;241m=\u001B[39mfigsize,\n\u001B[1;32m    478\u001B[0m         layout\u001B[38;5;241m=\u001B[39mlayout,\n\u001B[1;32m    479\u001B[0m         return_type\u001B[38;5;241m=\u001B[39mreturn_type,\n\u001B[1;32m    480\u001B[0m         \u001B[38;5;241m*\u001B[39m\u001B[38;5;241m*\u001B[39mkwds,\n\u001B[1;32m    481\u001B[0m     )\n\u001B[1;32m    482\u001B[0m     plt\u001B[38;5;241m.\u001B[39mdraw_if_interactive()\n\u001B[1;32m    483\u001B[0m     \u001B[38;5;28;01mreturn\u001B[39;00m ax\n",
      "File \u001B[0;32m~/anaconda3/lib/python3.11/site-packages/pandas/plotting/_matplotlib/boxplot.py:448\u001B[0m, in \u001B[0;36mboxplot\u001B[0;34m(data, column, by, ax, fontsize, rot, grid, figsize, layout, return_type, **kwds)\u001B[0m\n\u001B[1;32m    445\u001B[0m     \u001B[38;5;28;01melse\u001B[39;00m:\n\u001B[1;32m    446\u001B[0m         data \u001B[38;5;241m=\u001B[39m data[columns]\n\u001B[0;32m--> 448\u001B[0m     result \u001B[38;5;241m=\u001B[39m plot_group(columns, data\u001B[38;5;241m.\u001B[39mvalues\u001B[38;5;241m.\u001B[39mT, ax, \u001B[38;5;241m*\u001B[39m\u001B[38;5;241m*\u001B[39mkwds)\n\u001B[1;32m    449\u001B[0m     ax\u001B[38;5;241m.\u001B[39mgrid(grid)\n\u001B[1;32m    451\u001B[0m \u001B[38;5;28;01mreturn\u001B[39;00m result\n",
      "File \u001B[0;32m~/anaconda3/lib/python3.11/site-packages/pandas/plotting/_matplotlib/boxplot.py:378\u001B[0m, in \u001B[0;36mboxplot.<locals>.plot_group\u001B[0;34m(keys, values, ax, **kwds)\u001B[0m\n\u001B[1;32m    376\u001B[0m keys \u001B[38;5;241m=\u001B[39m [pprint_thing(x) \u001B[38;5;28;01mfor\u001B[39;00m x \u001B[38;5;129;01min\u001B[39;00m keys]\n\u001B[1;32m    377\u001B[0m values \u001B[38;5;241m=\u001B[39m [np\u001B[38;5;241m.\u001B[39masarray(remove_na_arraylike(v), dtype\u001B[38;5;241m=\u001B[39m\u001B[38;5;28mobject\u001B[39m) \u001B[38;5;28;01mfor\u001B[39;00m v \u001B[38;5;129;01min\u001B[39;00m values]\n\u001B[0;32m--> 378\u001B[0m bp \u001B[38;5;241m=\u001B[39m ax\u001B[38;5;241m.\u001B[39mboxplot(values, \u001B[38;5;241m*\u001B[39m\u001B[38;5;241m*\u001B[39mkwds)\n\u001B[1;32m    379\u001B[0m \u001B[38;5;28;01mif\u001B[39;00m fontsize \u001B[38;5;129;01mis\u001B[39;00m \u001B[38;5;129;01mnot\u001B[39;00m \u001B[38;5;28;01mNone\u001B[39;00m:\n\u001B[1;32m    380\u001B[0m     ax\u001B[38;5;241m.\u001B[39mtick_params(axis\u001B[38;5;241m=\u001B[39m\u001B[38;5;124m\"\u001B[39m\u001B[38;5;124mboth\u001B[39m\u001B[38;5;124m\"\u001B[39m, labelsize\u001B[38;5;241m=\u001B[39mfontsize)\n",
      "File \u001B[0;32m~/anaconda3/lib/python3.11/site-packages/matplotlib/__init__.py:1446\u001B[0m, in \u001B[0;36m_preprocess_data.<locals>.inner\u001B[0;34m(ax, data, *args, **kwargs)\u001B[0m\n\u001B[1;32m   1443\u001B[0m \u001B[38;5;129m@functools\u001B[39m\u001B[38;5;241m.\u001B[39mwraps(func)\n\u001B[1;32m   1444\u001B[0m \u001B[38;5;28;01mdef\u001B[39;00m \u001B[38;5;21minner\u001B[39m(ax, \u001B[38;5;241m*\u001B[39margs, data\u001B[38;5;241m=\u001B[39m\u001B[38;5;28;01mNone\u001B[39;00m, \u001B[38;5;241m*\u001B[39m\u001B[38;5;241m*\u001B[39mkwargs):\n\u001B[1;32m   1445\u001B[0m     \u001B[38;5;28;01mif\u001B[39;00m data \u001B[38;5;129;01mis\u001B[39;00m \u001B[38;5;28;01mNone\u001B[39;00m:\n\u001B[0;32m-> 1446\u001B[0m         \u001B[38;5;28;01mreturn\u001B[39;00m func(ax, \u001B[38;5;241m*\u001B[39m\u001B[38;5;28mmap\u001B[39m(sanitize_sequence, args), \u001B[38;5;241m*\u001B[39m\u001B[38;5;241m*\u001B[39mkwargs)\n\u001B[1;32m   1448\u001B[0m     bound \u001B[38;5;241m=\u001B[39m new_sig\u001B[38;5;241m.\u001B[39mbind(ax, \u001B[38;5;241m*\u001B[39margs, \u001B[38;5;241m*\u001B[39m\u001B[38;5;241m*\u001B[39mkwargs)\n\u001B[1;32m   1449\u001B[0m     auto_label \u001B[38;5;241m=\u001B[39m (bound\u001B[38;5;241m.\u001B[39marguments\u001B[38;5;241m.\u001B[39mget(label_namer)\n\u001B[1;32m   1450\u001B[0m                   \u001B[38;5;129;01mor\u001B[39;00m bound\u001B[38;5;241m.\u001B[39mkwargs\u001B[38;5;241m.\u001B[39mget(label_namer))\n",
      "\u001B[0;31mTypeError\u001B[0m: Axes.boxplot() got an unexpected keyword argument 'y'"
     ]
    },
    {
     "data": {
      "text/plain": "<Figure size 640x480 with 1 Axes>",
      "image/png": "[encoded data removed]"
     },
     "metadata": {},
     "output_type": "display_data"
    }
   ],
   "source": [
    "Question_Accuracy = pd.DataFrame(columns=model_names)\n",
    "\n",
    "for i in model_names:\n",
    "    Question_Accuracy[i] = models[model_names.index(i)]['Q1']\n",
    "df = pd.DataFrame(columns=model_names)\n",
    "for i in model_names:\n",
    "    df[i] = models[model_names.index(i)]['Q2'].apply(lambda x: 1 if x == 'N' else 0)\n",
    "Question_Accuracy['Average'] = Question_Accuracy.mean(axis=1)\n",
    "Question_Accuracy['unambiguous'] = df.sum(axis=1)\n",
    "Question_Accuracy.drop(columns=model_names,inplace=True)\n",
    "\n",
    "\n",
    "\n",
    "# fig, ax1 = plt.subplots(figsize=(10,5))\n",
    "# ax2 = ax1.twinx()\n",
    "# Question_Accuracy['Average'].plot(kind='line',color='red',ax=ax1)\n",
    "# Question_Accuracy['unambiguous'].plot(kind='bar',color='blue',ax=ax2)\n",
    "# ax1.set_ylabel('Average Accuracy')\n",
    "# ax2.set_ylabel('Unambiguous Questions')\n",
    "\n",
    "Question_Accuracy.boxplot(y='Average',x='unambiguous')\n"
   ],
   "metadata": {
    "collapsed": false,
    "ExecuteTime": {
     "end_time": "2024-08-16T14:12:30.778457Z",
     "start_time": "2024-08-16T14:12:29.970158Z"
    }
   },
   "id": "6d180205f4c85d64",
   "execution_count": 162
  }
 ],
 "metadata": {
  "kernelspec": {
   "display_name": "Python 3 (ipykernel)",
   "language": "python",
   "name": "python3"
  },
  "language_info": {
   "codemirror_mode": {
    "name": "ipython",
    "version": 3
   },
   "file_extension": ".py",
   "mimetype": "text/x-python",
   "name": "python",
   "nbconvert_exporter": "python",
   "pygments_lexer": "ipython3",
   "version": "3.11.5"
  }
 },
 "nbformat": 4,
 "nbformat_minor": 5
}
