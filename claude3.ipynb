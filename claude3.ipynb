{
 "cells": [
  {
   "cell_type": "code",
   "execution_count": 1,
   "id": "initial_id",
   "metadata": {
    "collapsed": true,
    "ExecuteTime": {
     "end_time": "2024-06-21T22:16:26.678486Z",
     "start_time": "2024-06-21T22:16:26.060284Z"
    }
   },
   "outputs": [
    {
     "data": {
      "text/plain": "   Unnamed: 0                                           Question  \\\n0           0                      The StackADT's pop operation:   \n1           1  You see the expression n = 100000 in some code...   \n2           2  public BallPanel extends javax.swing.JPanel {\\...   \n3           3  Suppose s is an instance of a stack that can s...   \n4           4  Suppose you are trying to choose between an ar...   \n\n                                openai/gpt-3.5-turbo  \\\n0  A) removes the bottom item from the stack\\nB) ...   \n1  A) char\\nB) boolean\\nC) float\\nD) double\\n\\nCo...   \n2  A) System.out.println(_balls[0].getColor()); \\...   \n3        A. Finland (X)\\n\\nB. is\\n\\nC. my\\n\\nD. home   \n4    A) Queue\\nB) Stack\\nC) Heap\\nD) Linked list (X)   \n\n                                        openai/gpt-4  \\\n0  A) Returns the element at the top of the stack...   \n1             A) int\\nB) long\\nC) float\\nD) char (X)   \n2  A) this._balls[5].getColor()\\nB) _balls[25].ge...   \n3      A) \"is\"\\nB) \"Finland\"\\nC) \"home\"\\nD) \"my\" (X)   \n4    A) Stack\\nB) Queue\\nC) Array\\nD) X) Linked List   \n\n                         meta-llama/llama-2-70b-chat  \\\n0  Which of the following statements best describ...   \n1  A) int\\nB) long\\nC) float\\nD) double\\n\\n(X) B)...   \n2  A) `_balls[0].getColor()` (X)\\nB) `getBall(0)....   \n3  A) \"Finland\"\\nB) \"is\"\\nC) \"my\"\\nD) \"home\"\\n\\n(...   \n4  A) Array\\nB) Linked List\\nC) Vector\\nD) Stack\\...   \n\n                       mistralai/mistral-7b-instruct  \n0  1. Retrieves the top element from the stack\\n2...  \n1  A) An integer (X)\\nB) A string\\nC) A boolean\\n...  \n2  a) `_balls[i].setColor(_color);`\\nb) `Ball[] a...  \n3  1. (X) The value of z after executing these st...  \n4  1. Arrays\\n2. Linked List\\n3. Stack\\n4. Queue\\...  ",
      "text/html": "<div>\n<style scoped>\n    .dataframe tbody tr th:only-of-type {\n        vertical-align: middle;\n    }\n\n    .dataframe tbody tr th {\n        vertical-align: top;\n    }\n\n    .dataframe thead th {\n        text-align: right;\n    }\n</style>\n<table border=\"1\" class=\"dataframe\">\n  <thead>\n    <tr style=\"text-align: right;\">\n      <th></th>\n      <th>Unnamed: 0</th>\n      <th>Question</th>\n      <th>openai/gpt-3.5-turbo</th>\n      <th>openai/gpt-4</th>\n      <th>meta-llama/llama-2-70b-chat</th>\n      <th>mistralai/mistral-7b-instruct</th>\n    </tr>\n  </thead>\n  <tbody>\n    <tr>\n      <th>0</th>\n      <td>0</td>\n      <td>The StackADT's pop operation:</td>\n      <td>A) removes the bottom item from the stack\\nB) ...</td>\n      <td>A) Returns the element at the top of the stack...</td>\n      <td>Which of the following statements best describ...</td>\n      <td>1. Retrieves the top element from the stack\\n2...</td>\n    </tr>\n    <tr>\n      <th>1</th>\n      <td>1</td>\n      <td>You see the expression n = 100000 in some code...</td>\n      <td>A) char\\nB) boolean\\nC) float\\nD) double\\n\\nCo...</td>\n      <td>A) int\\nB) long\\nC) float\\nD) char (X)</td>\n      <td>A) int\\nB) long\\nC) float\\nD) double\\n\\n(X) B)...</td>\n      <td>A) An integer (X)\\nB) A string\\nC) A boolean\\n...</td>\n    </tr>\n    <tr>\n      <th>2</th>\n      <td>2</td>\n      <td>public BallPanel extends javax.swing.JPanel {\\...</td>\n      <td>A) System.out.println(_balls[0].getColor()); \\...</td>\n      <td>A) this._balls[5].getColor()\\nB) _balls[25].ge...</td>\n      <td>A) `_balls[0].getColor()` (X)\\nB) `getBall(0)....</td>\n      <td>a) `_balls[i].setColor(_color);`\\nb) `Ball[] a...</td>\n    </tr>\n    <tr>\n      <th>3</th>\n      <td>3</td>\n      <td>Suppose s is an instance of a stack that can s...</td>\n      <td>A. Finland (X)\\n\\nB. is\\n\\nC. my\\n\\nD. home</td>\n      <td>A) \"is\"\\nB) \"Finland\"\\nC) \"home\"\\nD) \"my\" (X)</td>\n      <td>A) \"Finland\"\\nB) \"is\"\\nC) \"my\"\\nD) \"home\"\\n\\n(...</td>\n      <td>1. (X) The value of z after executing these st...</td>\n    </tr>\n    <tr>\n      <th>4</th>\n      <td>4</td>\n      <td>Suppose you are trying to choose between an ar...</td>\n      <td>A) Queue\\nB) Stack\\nC) Heap\\nD) Linked list (X)</td>\n      <td>A) Stack\\nB) Queue\\nC) Array\\nD) X) Linked List</td>\n      <td>A) Array\\nB) Linked List\\nC) Vector\\nD) Stack\\...</td>\n      <td>1. Arrays\\n2. Linked List\\n3. Stack\\n4. Queue\\...</td>\n    </tr>\n  </tbody>\n</table>\n</div>"
     },
     "execution_count": 1,
     "metadata": {},
     "output_type": "execute_result"
    }
   ],
   "source": [
    "import pandas as pd\n",
    "df = pd.read_csv(\"question_reproduce.csv\")\n",
    "df.head()"
   ]
  },
  {
   "cell_type": "code",
   "outputs": [],
   "source": [
    "import requests\n",
    "\n",
    "import json\n",
    "api_key = \"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\"\n",
    "#api_key = \"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\"\n",
    "\n",
    "\n",
    "def ask_question_open_router(question,model):\n",
    "    response = requests.post(\n",
    "  url=\"https://openrouter.ai/api/v1/chat/completions\",\n",
    "  headers={\n",
    "    \"Authorization\": f\"Bearer {api_key}\"\n",
    "  },\n",
    "  data=json.dumps({\n",
    "    \"model\": model, \n",
    "    \"messages\": [\n",
    "      {\"role\": \"user\", \"content\": question }\n",
    "    ]\n",
    "  })\n",
    ")\n",
    "    response_data = response.json()\n",
    "    #print(response_data)\n",
    "    messages = [choice['message']['content'] for choice in response_data['choices']]\n",
    "    return messages"
   ],
   "metadata": {
    "collapsed": false,
    "ExecuteTime": {
     "end_time": "2024-06-28T14:27:28.382331Z",
     "start_time": "2024-06-28T14:27:28.373040Z"
    }
   },
   "id": "5eca9d76f9beea95",
   "execution_count": 25
  },
  {
   "cell_type": "code",
   "outputs": [],
   "source": [
    "Prompt = \"Based on the following multiple-choice question, generate three plausible distractors and one correct answer. Mark the correct answer with an (X), and no explanation\"\n",
    "\n",
    "model = \"anthropic/claude-3-opus\"\n",
    "#model = \"openai/gpt-3.5-turbo\"\n",
    "answer = []\n",
    "for i in range(50):\n",
    "    question = Prompt + df['Question'][i]\n",
    "    messages = ask_question_open_router(question,model)\n",
    "    answer.append(messages[0])\n",
    "df[model] = answer"
   ],
   "metadata": {
    "collapsed": false,
    "ExecuteTime": {
     "end_time": "2024-06-28T14:31:00.674741Z",
     "start_time": "2024-06-28T14:27:29.723464Z"
    }
   },
   "id": "e31e65b871ac2b3c",
   "execution_count": 26
  },
  {
   "cell_type": "code",
   "outputs": [
    {
     "data": {
      "text/plain": "   Unnamed: 0                                           Question  \\\n0           0                      The StackADT's pop operation:   \n1           1  You see the expression n = 100000 in some code...   \n2           2  public BallPanel extends javax.swing.JPanel {\\...   \n3           3  Suppose s is an instance of a stack that can s...   \n4           4  Suppose you are trying to choose between an ar...   \n\n                                openai/gpt-3.5-turbo  \\\n0  A) removes the bottom item from the stack\\nB) ...   \n1  A) char\\nB) boolean\\nC) float\\nD) double\\n\\nCo...   \n2  A) System.out.println(_balls[0].getColor()); \\...   \n3        A. Finland (X)\\n\\nB. is\\n\\nC. my\\n\\nD. home   \n4    A) Queue\\nB) Stack\\nC) Heap\\nD) Linked list (X)   \n\n                                        openai/gpt-4  \\\n0  A) Returns the element at the top of the stack...   \n1             A) int\\nB) long\\nC) float\\nD) char (X)   \n2  A) this._balls[5].getColor()\\nB) _balls[25].ge...   \n3      A) \"is\"\\nB) \"Finland\"\\nC) \"home\"\\nD) \"my\" (X)   \n4    A) Stack\\nB) Queue\\nC) Array\\nD) X) Linked List   \n\n                         meta-llama/llama-2-70b-chat  \\\n0  Which of the following statements best describ...   \n1  A) int\\nB) long\\nC) float\\nD) double\\n\\n(X) B)...   \n2  A) `_balls[0].getColor()` (X)\\nB) `getBall(0)....   \n3  A) \"Finland\"\\nB) \"is\"\\nC) \"my\"\\nD) \"home\"\\n\\n(...   \n4  A) Array\\nB) Linked List\\nC) Vector\\nD) Stack\\...   \n\n                       mistralai/mistral-7b-instruct  \\\n0  1. Retrieves the top element from the stack\\n2...   \n1  A) An integer (X)\\nB) A string\\nC) A boolean\\n...   \n2  a) `_balls[i].setColor(_color);`\\nb) `Ball[] a...   \n3  1. (X) The value of z after executing these st...   \n4  1. Arrays\\n2. Linked List\\n3. Stack\\n4. Queue\\...   \n\n                             anthropic/claude-3-opus claude-3_unambiguous  \n0  A. removes the item least recently added to th...                    N  \n1           A. int\\nB. long\\nC. float\\nD. double (X)                    N  \n2  A. _balls[0].getColor(); (X)\\nB. _balls[10].ge...                    N  \n3      A. \"is\"\\nB. \"my\"\\nC. \"home\" (X)\\nD. \"Finland\"                    Y  \n4  A. Array\\nB. Linked List (X)\\nC. Both Array an...                    Y  ",
      "text/html": "<div>\n<style scoped>\n    .dataframe tbody tr th:only-of-type {\n        vertical-align: middle;\n    }\n\n    .dataframe tbody tr th {\n        vertical-align: top;\n    }\n\n    .dataframe thead th {\n        text-align: right;\n    }\n</style>\n<table border=\"1\" class=\"dataframe\">\n  <thead>\n    <tr style=\"text-align: right;\">\n      <th></th>\n      <th>Unnamed: 0</th>\n      <th>Question</th>\n      <th>openai/gpt-3.5-turbo</th>\n      <th>openai/gpt-4</th>\n      <th>meta-llama/llama-2-70b-chat</th>\n      <th>mistralai/mistral-7b-instruct</th>\n      <th>anthropic/claude-3-opus</th>\n      <th>claude-3_unambiguous</th>\n    </tr>\n  </thead>\n  <tbody>\n    <tr>\n      <th>0</th>\n      <td>0</td>\n      <td>The StackADT's pop operation:</td>\n      <td>A) removes the bottom item from the stack\\nB) ...</td>\n      <td>A) Returns the element at the top of the stack...</td>\n      <td>Which of the following statements best describ...</td>\n      <td>1. Retrieves the top element from the stack\\n2...</td>\n      <td>A. removes the item least recently added to th...</td>\n      <td>N</td>\n    </tr>\n    <tr>\n      <th>1</th>\n      <td>1</td>\n      <td>You see the expression n = 100000 in some code...</td>\n      <td>A) char\\nB) boolean\\nC) float\\nD) double\\n\\nCo...</td>\n      <td>A) int\\nB) long\\nC) float\\nD) char (X)</td>\n      <td>A) int\\nB) long\\nC) float\\nD) double\\n\\n(X) B)...</td>\n      <td>A) An integer (X)\\nB) A string\\nC) A boolean\\n...</td>\n      <td>A. int\\nB. long\\nC. float\\nD. double (X)</td>\n      <td>N</td>\n    </tr>\n    <tr>\n      <th>2</th>\n      <td>2</td>\n      <td>public BallPanel extends javax.swing.JPanel {\\...</td>\n      <td>A) System.out.println(_balls[0].getColor()); \\...</td>\n      <td>A) this._balls[5].getColor()\\nB) _balls[25].ge...</td>\n      <td>A) `_balls[0].getColor()` (X)\\nB) `getBall(0)....</td>\n      <td>a) `_balls[i].setColor(_color);`\\nb) `Ball[] a...</td>\n      <td>A. _balls[0].getColor(); (X)\\nB. _balls[10].ge...</td>\n      <td>N</td>\n    </tr>\n    <tr>\n      <th>3</th>\n      <td>3</td>\n      <td>Suppose s is an instance of a stack that can s...</td>\n      <td>A. Finland (X)\\n\\nB. is\\n\\nC. my\\n\\nD. home</td>\n      <td>A) \"is\"\\nB) \"Finland\"\\nC) \"home\"\\nD) \"my\" (X)</td>\n      <td>A) \"Finland\"\\nB) \"is\"\\nC) \"my\"\\nD) \"home\"\\n\\n(...</td>\n      <td>1. (X) The value of z after executing these st...</td>\n      <td>A. \"is\"\\nB. \"my\"\\nC. \"home\" (X)\\nD. \"Finland\"</td>\n      <td>Y</td>\n    </tr>\n    <tr>\n      <th>4</th>\n      <td>4</td>\n      <td>Suppose you are trying to choose between an ar...</td>\n      <td>A) Queue\\nB) Stack\\nC) Heap\\nD) Linked list (X)</td>\n      <td>A) Stack\\nB) Queue\\nC) Array\\nD) X) Linked List</td>\n      <td>A) Array\\nB) Linked List\\nC) Vector\\nD) Stack\\...</td>\n      <td>1. Arrays\\n2. Linked List\\n3. Stack\\n4. Queue\\...</td>\n      <td>A. Array\\nB. Linked List (X)\\nC. Both Array an...</td>\n      <td>Y</td>\n    </tr>\n  </tbody>\n</table>\n</div>"
     },
     "execution_count": 30,
     "metadata": {},
     "output_type": "execute_result"
    }
   ],
   "source": [
    "df.head()"
   ],
   "metadata": {
    "collapsed": false,
    "ExecuteTime": {
     "end_time": "2024-06-29T01:12:13.958788Z",
     "start_time": "2024-06-29T01:12:13.946272Z"
    }
   },
   "id": "c64de451eb367323",
   "execution_count": 30
  },
  {
   "cell_type": "code",
   "outputs": [
    {
     "name": "stderr",
     "output_type": "stream",
     "text": [
      "/var/folders/xv/h732dll50fl063qy50ybgwnw0000gn/T/ipykernel_34652/1900672387.py:9: SettingWithCopyWarning: \n",
      "A value is trying to be set on a copy of a slice from a DataFrame\n",
      "\n",
      "See the caveats in the documentation: https://pandas.pydata.org/pandas-docs/stable/user_guide/indexing.html#returning-a-view-versus-a-copy\n",
      "  df['claude-3_unambiguous'][i] = \"N\"\n",
      "/var/folders/xv/h732dll50fl063qy50ybgwnw0000gn/T/ipykernel_34652/1900672387.py:9: SettingWithCopyWarning: \n",
      "A value is trying to be set on a copy of a slice from a DataFrame\n",
      "\n",
      "See the caveats in the documentation: https://pandas.pydata.org/pandas-docs/stable/user_guide/indexing.html#returning-a-view-versus-a-copy\n",
      "  df['claude-3_unambiguous'][i] = \"N\"\n",
      "/var/folders/xv/h732dll50fl063qy50ybgwnw0000gn/T/ipykernel_34652/1900672387.py:9: SettingWithCopyWarning: \n",
      "A value is trying to be set on a copy of a slice from a DataFrame\n",
      "\n",
      "See the caveats in the documentation: https://pandas.pydata.org/pandas-docs/stable/user_guide/indexing.html#returning-a-view-versus-a-copy\n",
      "  df['claude-3_unambiguous'][i] = \"N\"\n",
      "/var/folders/xv/h732dll50fl063qy50ybgwnw0000gn/T/ipykernel_34652/1900672387.py:7: SettingWithCopyWarning: \n",
      "A value is trying to be set on a copy of a slice from a DataFrame\n",
      "\n",
      "See the caveats in the documentation: https://pandas.pydata.org/pandas-docs/stable/user_guide/indexing.html#returning-a-view-versus-a-copy\n",
      "  df['claude-3_unambiguous'][i] = \"Y\"\n",
      "/var/folders/xv/h732dll50fl063qy50ybgwnw0000gn/T/ipykernel_34652/1900672387.py:7: SettingWithCopyWarning: \n",
      "A value is trying to be set on a copy of a slice from a DataFrame\n",
      "\n",
      "See the caveats in the documentation: https://pandas.pydata.org/pandas-docs/stable/user_guide/indexing.html#returning-a-view-versus-a-copy\n",
      "  df['claude-3_unambiguous'][i] = \"Y\"\n",
      "/var/folders/xv/h732dll50fl063qy50ybgwnw0000gn/T/ipykernel_34652/1900672387.py:7: SettingWithCopyWarning: \n",
      "A value is trying to be set on a copy of a slice from a DataFrame\n",
      "\n",
      "See the caveats in the documentation: https://pandas.pydata.org/pandas-docs/stable/user_guide/indexing.html#returning-a-view-versus-a-copy\n",
      "  df['claude-3_unambiguous'][i] = \"Y\"\n",
      "/var/folders/xv/h732dll50fl063qy50ybgwnw0000gn/T/ipykernel_34652/1900672387.py:9: SettingWithCopyWarning: \n",
      "A value is trying to be set on a copy of a slice from a DataFrame\n",
      "\n",
      "See the caveats in the documentation: https://pandas.pydata.org/pandas-docs/stable/user_guide/indexing.html#returning-a-view-versus-a-copy\n",
      "  df['claude-3_unambiguous'][i] = \"N\"\n",
      "/var/folders/xv/h732dll50fl063qy50ybgwnw0000gn/T/ipykernel_34652/1900672387.py:9: SettingWithCopyWarning: \n",
      "A value is trying to be set on a copy of a slice from a DataFrame\n",
      "\n",
      "See the caveats in the documentation: https://pandas.pydata.org/pandas-docs/stable/user_guide/indexing.html#returning-a-view-versus-a-copy\n",
      "  df['claude-3_unambiguous'][i] = \"N\"\n",
      "/var/folders/xv/h732dll50fl063qy50ybgwnw0000gn/T/ipykernel_34652/1900672387.py:9: SettingWithCopyWarning: \n",
      "A value is trying to be set on a copy of a slice from a DataFrame\n",
      "\n",
      "See the caveats in the documentation: https://pandas.pydata.org/pandas-docs/stable/user_guide/indexing.html#returning-a-view-versus-a-copy\n",
      "  df['claude-3_unambiguous'][i] = \"N\"\n",
      "/var/folders/xv/h732dll50fl063qy50ybgwnw0000gn/T/ipykernel_34652/1900672387.py:9: SettingWithCopyWarning: \n",
      "A value is trying to be set on a copy of a slice from a DataFrame\n",
      "\n",
      "See the caveats in the documentation: https://pandas.pydata.org/pandas-docs/stable/user_guide/indexing.html#returning-a-view-versus-a-copy\n",
      "  df['claude-3_unambiguous'][i] = \"N\"\n",
      "/var/folders/xv/h732dll50fl063qy50ybgwnw0000gn/T/ipykernel_34652/1900672387.py:7: SettingWithCopyWarning: \n",
      "A value is trying to be set on a copy of a slice from a DataFrame\n",
      "\n",
      "See the caveats in the documentation: https://pandas.pydata.org/pandas-docs/stable/user_guide/indexing.html#returning-a-view-versus-a-copy\n",
      "  df['claude-3_unambiguous'][i] = \"Y\"\n",
      "/var/folders/xv/h732dll50fl063qy50ybgwnw0000gn/T/ipykernel_34652/1900672387.py:7: SettingWithCopyWarning: \n",
      "A value is trying to be set on a copy of a slice from a DataFrame\n",
      "\n",
      "See the caveats in the documentation: https://pandas.pydata.org/pandas-docs/stable/user_guide/indexing.html#returning-a-view-versus-a-copy\n",
      "  df['claude-3_unambiguous'][i] = \"Y\"\n",
      "/var/folders/xv/h732dll50fl063qy50ybgwnw0000gn/T/ipykernel_34652/1900672387.py:7: SettingWithCopyWarning: \n",
      "A value is trying to be set on a copy of a slice from a DataFrame\n",
      "\n",
      "See the caveats in the documentation: https://pandas.pydata.org/pandas-docs/stable/user_guide/indexing.html#returning-a-view-versus-a-copy\n",
      "  df['claude-3_unambiguous'][i] = \"Y\"\n",
      "/var/folders/xv/h732dll50fl063qy50ybgwnw0000gn/T/ipykernel_34652/1900672387.py:9: SettingWithCopyWarning: \n",
      "A value is trying to be set on a copy of a slice from a DataFrame\n",
      "\n",
      "See the caveats in the documentation: https://pandas.pydata.org/pandas-docs/stable/user_guide/indexing.html#returning-a-view-versus-a-copy\n",
      "  df['claude-3_unambiguous'][i] = \"N\"\n",
      "/var/folders/xv/h732dll50fl063qy50ybgwnw0000gn/T/ipykernel_34652/1900672387.py:7: SettingWithCopyWarning: \n",
      "A value is trying to be set on a copy of a slice from a DataFrame\n",
      "\n",
      "See the caveats in the documentation: https://pandas.pydata.org/pandas-docs/stable/user_guide/indexing.html#returning-a-view-versus-a-copy\n",
      "  df['claude-3_unambiguous'][i] = \"Y\"\n",
      "/var/folders/xv/h732dll50fl063qy50ybgwnw0000gn/T/ipykernel_34652/1900672387.py:9: SettingWithCopyWarning: \n",
      "A value is trying to be set on a copy of a slice from a DataFrame\n",
      "\n",
      "See the caveats in the documentation: https://pandas.pydata.org/pandas-docs/stable/user_guide/indexing.html#returning-a-view-versus-a-copy\n",
      "  df['claude-3_unambiguous'][i] = \"N\"\n",
      "/var/folders/xv/h732dll50fl063qy50ybgwnw0000gn/T/ipykernel_34652/1900672387.py:7: SettingWithCopyWarning: \n",
      "A value is trying to be set on a copy of a slice from a DataFrame\n",
      "\n",
      "See the caveats in the documentation: https://pandas.pydata.org/pandas-docs/stable/user_guide/indexing.html#returning-a-view-versus-a-copy\n",
      "  df['claude-3_unambiguous'][i] = \"Y\"\n",
      "/var/folders/xv/h732dll50fl063qy50ybgwnw0000gn/T/ipykernel_34652/1900672387.py:9: SettingWithCopyWarning: \n",
      "A value is trying to be set on a copy of a slice from a DataFrame\n",
      "\n",
      "See the caveats in the documentation: https://pandas.pydata.org/pandas-docs/stable/user_guide/indexing.html#returning-a-view-versus-a-copy\n",
      "  df['claude-3_unambiguous'][i] = \"N\"\n",
      "/var/folders/xv/h732dll50fl063qy50ybgwnw0000gn/T/ipykernel_34652/1900672387.py:9: SettingWithCopyWarning: \n",
      "A value is trying to be set on a copy of a slice from a DataFrame\n",
      "\n",
      "See the caveats in the documentation: https://pandas.pydata.org/pandas-docs/stable/user_guide/indexing.html#returning-a-view-versus-a-copy\n",
      "  df['claude-3_unambiguous'][i] = \"N\"\n",
      "/var/folders/xv/h732dll50fl063qy50ybgwnw0000gn/T/ipykernel_34652/1900672387.py:9: SettingWithCopyWarning: \n",
      "A value is trying to be set on a copy of a slice from a DataFrame\n",
      "\n",
      "See the caveats in the documentation: https://pandas.pydata.org/pandas-docs/stable/user_guide/indexing.html#returning-a-view-versus-a-copy\n",
      "  df['claude-3_unambiguous'][i] = \"N\"\n",
      "/var/folders/xv/h732dll50fl063qy50ybgwnw0000gn/T/ipykernel_34652/1900672387.py:9: SettingWithCopyWarning: \n",
      "A value is trying to be set on a copy of a slice from a DataFrame\n",
      "\n",
      "See the caveats in the documentation: https://pandas.pydata.org/pandas-docs/stable/user_guide/indexing.html#returning-a-view-versus-a-copy\n",
      "  df['claude-3_unambiguous'][i] = \"N\"\n",
      "/var/folders/xv/h732dll50fl063qy50ybgwnw0000gn/T/ipykernel_34652/1900672387.py:9: SettingWithCopyWarning: \n",
      "A value is trying to be set on a copy of a slice from a DataFrame\n",
      "\n",
      "See the caveats in the documentation: https://pandas.pydata.org/pandas-docs/stable/user_guide/indexing.html#returning-a-view-versus-a-copy\n",
      "  df['claude-3_unambiguous'][i] = \"N\"\n",
      "/var/folders/xv/h732dll50fl063qy50ybgwnw0000gn/T/ipykernel_34652/1900672387.py:9: SettingWithCopyWarning: \n",
      "A value is trying to be set on a copy of a slice from a DataFrame\n",
      "\n",
      "See the caveats in the documentation: https://pandas.pydata.org/pandas-docs/stable/user_guide/indexing.html#returning-a-view-versus-a-copy\n",
      "  df['claude-3_unambiguous'][i] = \"N\"\n",
      "/var/folders/xv/h732dll50fl063qy50ybgwnw0000gn/T/ipykernel_34652/1900672387.py:7: SettingWithCopyWarning: \n",
      "A value is trying to be set on a copy of a slice from a DataFrame\n",
      "\n",
      "See the caveats in the documentation: https://pandas.pydata.org/pandas-docs/stable/user_guide/indexing.html#returning-a-view-versus-a-copy\n",
      "  df['claude-3_unambiguous'][i] = \"Y\"\n",
      "/var/folders/xv/h732dll50fl063qy50ybgwnw0000gn/T/ipykernel_34652/1900672387.py:9: SettingWithCopyWarning: \n",
      "A value is trying to be set on a copy of a slice from a DataFrame\n",
      "\n",
      "See the caveats in the documentation: https://pandas.pydata.org/pandas-docs/stable/user_guide/indexing.html#returning-a-view-versus-a-copy\n",
      "  df['claude-3_unambiguous'][i] = \"N\"\n",
      "/var/folders/xv/h732dll50fl063qy50ybgwnw0000gn/T/ipykernel_34652/1900672387.py:9: SettingWithCopyWarning: \n",
      "A value is trying to be set on a copy of a slice from a DataFrame\n",
      "\n",
      "See the caveats in the documentation: https://pandas.pydata.org/pandas-docs/stable/user_guide/indexing.html#returning-a-view-versus-a-copy\n",
      "  df['claude-3_unambiguous'][i] = \"N\"\n",
      "/var/folders/xv/h732dll50fl063qy50ybgwnw0000gn/T/ipykernel_34652/1900672387.py:9: SettingWithCopyWarning: \n",
      "A value is trying to be set on a copy of a slice from a DataFrame\n",
      "\n",
      "See the caveats in the documentation: https://pandas.pydata.org/pandas-docs/stable/user_guide/indexing.html#returning-a-view-versus-a-copy\n",
      "  df['claude-3_unambiguous'][i] = \"N\"\n",
      "/var/folders/xv/h732dll50fl063qy50ybgwnw0000gn/T/ipykernel_34652/1900672387.py:7: SettingWithCopyWarning: \n",
      "A value is trying to be set on a copy of a slice from a DataFrame\n",
      "\n",
      "See the caveats in the documentation: https://pandas.pydata.org/pandas-docs/stable/user_guide/indexing.html#returning-a-view-versus-a-copy\n",
      "  df['claude-3_unambiguous'][i] = \"Y\"\n",
      "/var/folders/xv/h732dll50fl063qy50ybgwnw0000gn/T/ipykernel_34652/1900672387.py:7: SettingWithCopyWarning: \n",
      "A value is trying to be set on a copy of a slice from a DataFrame\n",
      "\n",
      "See the caveats in the documentation: https://pandas.pydata.org/pandas-docs/stable/user_guide/indexing.html#returning-a-view-versus-a-copy\n",
      "  df['claude-3_unambiguous'][i] = \"Y\"\n",
      "/var/folders/xv/h732dll50fl063qy50ybgwnw0000gn/T/ipykernel_34652/1900672387.py:7: SettingWithCopyWarning: \n",
      "A value is trying to be set on a copy of a slice from a DataFrame\n",
      "\n",
      "See the caveats in the documentation: https://pandas.pydata.org/pandas-docs/stable/user_guide/indexing.html#returning-a-view-versus-a-copy\n",
      "  df['claude-3_unambiguous'][i] = \"Y\"\n",
      "/var/folders/xv/h732dll50fl063qy50ybgwnw0000gn/T/ipykernel_34652/1900672387.py:7: SettingWithCopyWarning: \n",
      "A value is trying to be set on a copy of a slice from a DataFrame\n",
      "\n",
      "See the caveats in the documentation: https://pandas.pydata.org/pandas-docs/stable/user_guide/indexing.html#returning-a-view-versus-a-copy\n",
      "  df['claude-3_unambiguous'][i] = \"Y\"\n",
      "/var/folders/xv/h732dll50fl063qy50ybgwnw0000gn/T/ipykernel_34652/1900672387.py:9: SettingWithCopyWarning: \n",
      "A value is trying to be set on a copy of a slice from a DataFrame\n",
      "\n",
      "See the caveats in the documentation: https://pandas.pydata.org/pandas-docs/stable/user_guide/indexing.html#returning-a-view-versus-a-copy\n",
      "  df['claude-3_unambiguous'][i] = \"N\"\n",
      "/var/folders/xv/h732dll50fl063qy50ybgwnw0000gn/T/ipykernel_34652/1900672387.py:9: SettingWithCopyWarning: \n",
      "A value is trying to be set on a copy of a slice from a DataFrame\n",
      "\n",
      "See the caveats in the documentation: https://pandas.pydata.org/pandas-docs/stable/user_guide/indexing.html#returning-a-view-versus-a-copy\n",
      "  df['claude-3_unambiguous'][i] = \"N\"\n",
      "/var/folders/xv/h732dll50fl063qy50ybgwnw0000gn/T/ipykernel_34652/1900672387.py:7: SettingWithCopyWarning: \n",
      "A value is trying to be set on a copy of a slice from a DataFrame\n",
      "\n",
      "See the caveats in the documentation: https://pandas.pydata.org/pandas-docs/stable/user_guide/indexing.html#returning-a-view-versus-a-copy\n",
      "  df['claude-3_unambiguous'][i] = \"Y\"\n",
      "/var/folders/xv/h732dll50fl063qy50ybgwnw0000gn/T/ipykernel_34652/1900672387.py:9: SettingWithCopyWarning: \n",
      "A value is trying to be set on a copy of a slice from a DataFrame\n",
      "\n",
      "See the caveats in the documentation: https://pandas.pydata.org/pandas-docs/stable/user_guide/indexing.html#returning-a-view-versus-a-copy\n",
      "  df['claude-3_unambiguous'][i] = \"N\"\n",
      "/var/folders/xv/h732dll50fl063qy50ybgwnw0000gn/T/ipykernel_34652/1900672387.py:9: SettingWithCopyWarning: \n",
      "A value is trying to be set on a copy of a slice from a DataFrame\n",
      "\n",
      "See the caveats in the documentation: https://pandas.pydata.org/pandas-docs/stable/user_guide/indexing.html#returning-a-view-versus-a-copy\n",
      "  df['claude-3_unambiguous'][i] = \"N\"\n",
      "/var/folders/xv/h732dll50fl063qy50ybgwnw0000gn/T/ipykernel_34652/1900672387.py:9: SettingWithCopyWarning: \n",
      "A value is trying to be set on a copy of a slice from a DataFrame\n",
      "\n",
      "See the caveats in the documentation: https://pandas.pydata.org/pandas-docs/stable/user_guide/indexing.html#returning-a-view-versus-a-copy\n",
      "  df['claude-3_unambiguous'][i] = \"N\"\n",
      "/var/folders/xv/h732dll50fl063qy50ybgwnw0000gn/T/ipykernel_34652/1900672387.py:9: SettingWithCopyWarning: \n",
      "A value is trying to be set on a copy of a slice from a DataFrame\n",
      "\n",
      "See the caveats in the documentation: https://pandas.pydata.org/pandas-docs/stable/user_guide/indexing.html#returning-a-view-versus-a-copy\n",
      "  df['claude-3_unambiguous'][i] = \"N\"\n",
      "/var/folders/xv/h732dll50fl063qy50ybgwnw0000gn/T/ipykernel_34652/1900672387.py:9: SettingWithCopyWarning: \n",
      "A value is trying to be set on a copy of a slice from a DataFrame\n",
      "\n",
      "See the caveats in the documentation: https://pandas.pydata.org/pandas-docs/stable/user_guide/indexing.html#returning-a-view-versus-a-copy\n",
      "  df['claude-3_unambiguous'][i] = \"N\"\n",
      "/var/folders/xv/h732dll50fl063qy50ybgwnw0000gn/T/ipykernel_34652/1900672387.py:7: SettingWithCopyWarning: \n",
      "A value is trying to be set on a copy of a slice from a DataFrame\n",
      "\n",
      "See the caveats in the documentation: https://pandas.pydata.org/pandas-docs/stable/user_guide/indexing.html#returning-a-view-versus-a-copy\n",
      "  df['claude-3_unambiguous'][i] = \"Y\"\n",
      "/var/folders/xv/h732dll50fl063qy50ybgwnw0000gn/T/ipykernel_34652/1900672387.py:7: SettingWithCopyWarning: \n",
      "A value is trying to be set on a copy of a slice from a DataFrame\n",
      "\n",
      "See the caveats in the documentation: https://pandas.pydata.org/pandas-docs/stable/user_guide/indexing.html#returning-a-view-versus-a-copy\n",
      "  df['claude-3_unambiguous'][i] = \"Y\"\n",
      "/var/folders/xv/h732dll50fl063qy50ybgwnw0000gn/T/ipykernel_34652/1900672387.py:7: SettingWithCopyWarning: \n",
      "A value is trying to be set on a copy of a slice from a DataFrame\n",
      "\n",
      "See the caveats in the documentation: https://pandas.pydata.org/pandas-docs/stable/user_guide/indexing.html#returning-a-view-versus-a-copy\n",
      "  df['claude-3_unambiguous'][i] = \"Y\"\n",
      "/var/folders/xv/h732dll50fl063qy50ybgwnw0000gn/T/ipykernel_34652/1900672387.py:9: SettingWithCopyWarning: \n",
      "A value is trying to be set on a copy of a slice from a DataFrame\n",
      "\n",
      "See the caveats in the documentation: https://pandas.pydata.org/pandas-docs/stable/user_guide/indexing.html#returning-a-view-versus-a-copy\n",
      "  df['claude-3_unambiguous'][i] = \"N\"\n",
      "/var/folders/xv/h732dll50fl063qy50ybgwnw0000gn/T/ipykernel_34652/1900672387.py:7: SettingWithCopyWarning: \n",
      "A value is trying to be set on a copy of a slice from a DataFrame\n",
      "\n",
      "See the caveats in the documentation: https://pandas.pydata.org/pandas-docs/stable/user_guide/indexing.html#returning-a-view-versus-a-copy\n",
      "  df['claude-3_unambiguous'][i] = \"Y\"\n",
      "/var/folders/xv/h732dll50fl063qy50ybgwnw0000gn/T/ipykernel_34652/1900672387.py:9: SettingWithCopyWarning: \n",
      "A value is trying to be set on a copy of a slice from a DataFrame\n",
      "\n",
      "See the caveats in the documentation: https://pandas.pydata.org/pandas-docs/stable/user_guide/indexing.html#returning-a-view-versus-a-copy\n",
      "  df['claude-3_unambiguous'][i] = \"N\"\n",
      "/var/folders/xv/h732dll50fl063qy50ybgwnw0000gn/T/ipykernel_34652/1900672387.py:7: SettingWithCopyWarning: \n",
      "A value is trying to be set on a copy of a slice from a DataFrame\n",
      "\n",
      "See the caveats in the documentation: https://pandas.pydata.org/pandas-docs/stable/user_guide/indexing.html#returning-a-view-versus-a-copy\n",
      "  df['claude-3_unambiguous'][i] = \"Y\"\n",
      "/var/folders/xv/h732dll50fl063qy50ybgwnw0000gn/T/ipykernel_34652/1900672387.py:9: SettingWithCopyWarning: \n",
      "A value is trying to be set on a copy of a slice from a DataFrame\n",
      "\n",
      "See the caveats in the documentation: https://pandas.pydata.org/pandas-docs/stable/user_guide/indexing.html#returning-a-view-versus-a-copy\n",
      "  df['claude-3_unambiguous'][i] = \"N\"\n",
      "/var/folders/xv/h732dll50fl063qy50ybgwnw0000gn/T/ipykernel_34652/1900672387.py:9: SettingWithCopyWarning: \n",
      "A value is trying to be set on a copy of a slice from a DataFrame\n",
      "\n",
      "See the caveats in the documentation: https://pandas.pydata.org/pandas-docs/stable/user_guide/indexing.html#returning-a-view-versus-a-copy\n",
      "  df['claude-3_unambiguous'][i] = \"N\"\n",
      "/var/folders/xv/h732dll50fl063qy50ybgwnw0000gn/T/ipykernel_34652/1900672387.py:9: SettingWithCopyWarning: \n",
      "A value is trying to be set on a copy of a slice from a DataFrame\n",
      "\n",
      "See the caveats in the documentation: https://pandas.pydata.org/pandas-docs/stable/user_guide/indexing.html#returning-a-view-versus-a-copy\n",
      "  df['claude-3_unambiguous'][i] = \"N\"\n",
      "/var/folders/xv/h732dll50fl063qy50ybgwnw0000gn/T/ipykernel_34652/1900672387.py:9: SettingWithCopyWarning: \n",
      "A value is trying to be set on a copy of a slice from a DataFrame\n",
      "\n",
      "See the caveats in the documentation: https://pandas.pydata.org/pandas-docs/stable/user_guide/indexing.html#returning-a-view-versus-a-copy\n",
      "  df['claude-3_unambiguous'][i] = \"N\"\n"
     ]
    }
   ],
   "source": [
    "Prompt = \"Is the question an unambiguous exam question that has only one answer?, answer with YES or NO\"\n",
    "df['claude-3_unambiguous'] = \"\"\n",
    "for i in range(50):\n",
    "    question = Prompt + df['Question'][i]\n",
    "    messages = ask_question_open_router(question,\"anthropic/claude-3-opus\")\n",
    "    if \"YES\" in messages[0].upper():\n",
    "        df['claude-3_unambiguous'][i] = \"Y\"\n",
    "    else:\n",
    "        df['claude-3_unambiguous'][i] = \"N\""
   ],
   "metadata": {
    "collapsed": false,
    "ExecuteTime": {
     "end_time": "2024-06-29T01:08:53.925295Z",
     "start_time": "2024-06-29T01:02:31.139670Z"
    }
   },
   "id": "a6f60870a799c017",
   "execution_count": 29
  },
  {
   "cell_type": "code",
   "outputs": [],
   "source": [
    "prompt = \"How would you rephrase the question to be unambiguous and suitable for a Multiple choice question on an exam? \"\n",
    "revised_question_claude3 = []\n",
    "for i in range(len(df)):\n",
    "    if df['claude-3_unambiguous'][i] == 'N':\n",
    "        question = prompt+df['Question'][i]\n",
    "        messages = ask_question_open_router(question,\"anthropic/claude-3-opus\")\n",
    "        revised_question_claude3.append(messages[0])\n",
    "    else:\n",
    "        revised_question_claude3.append(\"None\")\n",
    "df['claude-3_revised_question'] = revised_question_claude3"
   ],
   "metadata": {
    "collapsed": false,
    "ExecuteTime": {
     "end_time": "2024-06-29T01:18:47.367865Z",
     "start_time": "2024-06-29T01:12:36.837395Z"
    }
   },
   "id": "97b50d8511abf3b0",
   "execution_count": 31
  },
  {
   "cell_type": "code",
   "outputs": [],
   "source": [
    "Prompt = \"Based on the following multiple-choice question, generate three plausible distractors and one correct answer. Mark the correct answer with an (X), and no explanation\"\n",
    "\n",
    "answer = []\n",
    "for i in range(50):\n",
    "    question = Prompt + df['claude-3_revised_question'][i]\n",
    "    messages = ask_question_open_router(question,model)\n",
    "    answer.append(messages[0])\n",
    "df[\"claude-3_revised_question_answer\"] = answer"
   ],
   "metadata": {
    "collapsed": false,
    "ExecuteTime": {
     "end_time": "2024-06-29T01:22:51.436218Z",
     "start_time": "2024-06-29T01:18:47.369581Z"
    }
   },
   "id": "35e6c8466eb4d37f",
   "execution_count": 32
  },
  {
   "cell_type": "code",
   "outputs": [
    {
     "data": {
      "text/plain": "Unnamed: 0                          31\nQuestion                            31\nopenai/gpt-3.5-turbo                31\nopenai/gpt-4                        31\nmeta-llama/llama-2-70b-chat         31\nmistralai/mistral-7b-instruct       31\nanthropic/claude-3-opus             31\nclaude-3_unambiguous                31\nclaude-3_revised_question           31\nclaude-3_revised_question_answer    31\ndtype: int64"
     },
     "execution_count": 36,
     "metadata": {},
     "output_type": "execute_result"
    }
   ],
   "source": [
    "df[df['claude-3_unambiguous'] == 'N'].count()"
   ],
   "metadata": {
    "collapsed": false,
    "ExecuteTime": {
     "end_time": "2024-07-12T01:38:05.341397Z",
     "start_time": "2024-07-12T01:38:05.300983Z"
    }
   },
   "id": "3d827a9617895dc3",
   "execution_count": 36
  },
  {
   "cell_type": "code",
   "outputs": [
    {
     "data": {
      "text/plain": "   Unnamed: 0                                           Question  \\\n0           0                      The StackADT's pop operation:   \n1           1  You see the expression n = 100000 in some code...   \n2           2  public BallPanel extends javax.swing.JPanel {\\...   \n3           3  Suppose s is an instance of a stack that can s...   \n4           4  Suppose you are trying to choose between an ar...   \n\n                                openai/gpt-3.5-turbo  \\\n0  A) removes the bottom item from the stack\\nB) ...   \n1  A) char\\nB) boolean\\nC) float\\nD) double\\n\\nCo...   \n2  A) System.out.println(_balls[0].getColor()); \\...   \n3        A. Finland (X)\\n\\nB. is\\n\\nC. my\\n\\nD. home   \n4    A) Queue\\nB) Stack\\nC) Heap\\nD) Linked list (X)   \n\n                                        openai/gpt-4  \\\n0  A) Returns the element at the top of the stack...   \n1             A) int\\nB) long\\nC) float\\nD) char (X)   \n2  A) this._balls[5].getColor()\\nB) _balls[25].ge...   \n3      A) \"is\"\\nB) \"Finland\"\\nC) \"home\"\\nD) \"my\" (X)   \n4    A) Stack\\nB) Queue\\nC) Array\\nD) X) Linked List   \n\n                         meta-llama/llama-2-70b-chat  \\\n0  Which of the following statements best describ...   \n1  A) int\\nB) long\\nC) float\\nD) double\\n\\n(X) B)...   \n2  A) `_balls[0].getColor()` (X)\\nB) `getBall(0)....   \n3  A) \"Finland\"\\nB) \"is\"\\nC) \"my\"\\nD) \"home\"\\n\\n(...   \n4  A) Array\\nB) Linked List\\nC) Vector\\nD) Stack\\...   \n\n                       mistralai/mistral-7b-instruct  \\\n0  1. Retrieves the top element from the stack\\n2...   \n1  A) An integer (X)\\nB) A string\\nC) A boolean\\n...   \n2  a) `_balls[i].setColor(_color);`\\nb) `Ball[] a...   \n3  1. (X) The value of z after executing these st...   \n4  1. Arrays\\n2. Linked List\\n3. Stack\\n4. Queue\\...   \n\n                             anthropic/claude-3-opus claude-3_unambiguous  \\\n0  A. removes the item least recently added to th...                    N   \n1           A. int\\nB. long\\nC. float\\nD. double (X)                    N   \n2  A. _balls[0].getColor(); (X)\\nB. _balls[10].ge...                    N   \n3      A. \"is\"\\nB. \"my\"\\nC. \"home\" (X)\\nD. \"Finland\"                    Y   \n4  A. Array\\nB. Linked List (X)\\nC. Both Array an...                    Y   \n\n                           claude-3_revised_question  \\\n0  To rephrase the question as an unambiguous mul...   \n1  To rephrase the question as an unambiguous mul...   \n2  To rephrase the question as a clear and unambi...   \n3                                               None   \n4                                               None   \n\n                    claude-3_revised_question_answer  \n0  Which of the following statements accurately d...  \n1             A. short\\nB. byte\\nC. char\\nD. int (X)  \n2  Question:\\nGiven the following code snippet:\\n...  \n3  I apologize for the confusion, but I'm not abl...  \n4  I apologize for the confusion, but it seems li...  ",
      "text/html": "<div>\n<style scoped>\n    .dataframe tbody tr th:only-of-type {\n        vertical-align: middle;\n    }\n\n    .dataframe tbody tr th {\n        vertical-align: top;\n    }\n\n    .dataframe thead th {\n        text-align: right;\n    }\n</style>\n<table border=\"1\" class=\"dataframe\">\n  <thead>\n    <tr style=\"text-align: right;\">\n      <th></th>\n      <th>Unnamed: 0</th>\n      <th>Question</th>\n      <th>openai/gpt-3.5-turbo</th>\n      <th>openai/gpt-4</th>\n      <th>meta-llama/llama-2-70b-chat</th>\n      <th>mistralai/mistral-7b-instruct</th>\n      <th>anthropic/claude-3-opus</th>\n      <th>claude-3_unambiguous</th>\n      <th>claude-3_revised_question</th>\n      <th>claude-3_revised_question_answer</th>\n    </tr>\n  </thead>\n  <tbody>\n    <tr>\n      <th>0</th>\n      <td>0</td>\n      <td>The StackADT's pop operation:</td>\n      <td>A) removes the bottom item from the stack\\nB) ...</td>\n      <td>A) Returns the element at the top of the stack...</td>\n      <td>Which of the following statements best describ...</td>\n      <td>1. Retrieves the top element from the stack\\n2...</td>\n      <td>A. removes the item least recently added to th...</td>\n      <td>N</td>\n      <td>To rephrase the question as an unambiguous mul...</td>\n      <td>Which of the following statements accurately d...</td>\n    </tr>\n    <tr>\n      <th>1</th>\n      <td>1</td>\n      <td>You see the expression n = 100000 in some code...</td>\n      <td>A) char\\nB) boolean\\nC) float\\nD) double\\n\\nCo...</td>\n      <td>A) int\\nB) long\\nC) float\\nD) char (X)</td>\n      <td>A) int\\nB) long\\nC) float\\nD) double\\n\\n(X) B)...</td>\n      <td>A) An integer (X)\\nB) A string\\nC) A boolean\\n...</td>\n      <td>A. int\\nB. long\\nC. float\\nD. double (X)</td>\n      <td>N</td>\n      <td>To rephrase the question as an unambiguous mul...</td>\n      <td>A. short\\nB. byte\\nC. char\\nD. int (X)</td>\n    </tr>\n    <tr>\n      <th>2</th>\n      <td>2</td>\n      <td>public BallPanel extends javax.swing.JPanel {\\...</td>\n      <td>A) System.out.println(_balls[0].getColor()); \\...</td>\n      <td>A) this._balls[5].getColor()\\nB) _balls[25].ge...</td>\n      <td>A) `_balls[0].getColor()` (X)\\nB) `getBall(0)....</td>\n      <td>a) `_balls[i].setColor(_color);`\\nb) `Ball[] a...</td>\n      <td>A. _balls[0].getColor(); (X)\\nB. _balls[10].ge...</td>\n      <td>N</td>\n      <td>To rephrase the question as a clear and unambi...</td>\n      <td>Question:\\nGiven the following code snippet:\\n...</td>\n    </tr>\n    <tr>\n      <th>3</th>\n      <td>3</td>\n      <td>Suppose s is an instance of a stack that can s...</td>\n      <td>A. Finland (X)\\n\\nB. is\\n\\nC. my\\n\\nD. home</td>\n      <td>A) \"is\"\\nB) \"Finland\"\\nC) \"home\"\\nD) \"my\" (X)</td>\n      <td>A) \"Finland\"\\nB) \"is\"\\nC) \"my\"\\nD) \"home\"\\n\\n(...</td>\n      <td>1. (X) The value of z after executing these st...</td>\n      <td>A. \"is\"\\nB. \"my\"\\nC. \"home\" (X)\\nD. \"Finland\"</td>\n      <td>Y</td>\n      <td>None</td>\n      <td>I apologize for the confusion, but I'm not abl...</td>\n    </tr>\n    <tr>\n      <th>4</th>\n      <td>4</td>\n      <td>Suppose you are trying to choose between an ar...</td>\n      <td>A) Queue\\nB) Stack\\nC) Heap\\nD) Linked list (X)</td>\n      <td>A) Stack\\nB) Queue\\nC) Array\\nD) X) Linked List</td>\n      <td>A) Array\\nB) Linked List\\nC) Vector\\nD) Stack\\...</td>\n      <td>1. Arrays\\n2. Linked List\\n3. Stack\\n4. Queue\\...</td>\n      <td>A. Array\\nB. Linked List (X)\\nC. Both Array an...</td>\n      <td>Y</td>\n      <td>None</td>\n      <td>I apologize for the confusion, but it seems li...</td>\n    </tr>\n  </tbody>\n</table>\n</div>"
     },
     "execution_count": 39,
     "metadata": {},
     "output_type": "execute_result"
    }
   ],
   "source": [
    "df.head()"
   ],
   "metadata": {
    "collapsed": false,
    "ExecuteTime": {
     "end_time": "2024-07-12T01:42:56.890144Z",
     "start_time": "2024-07-12T01:42:56.877606Z"
    }
   },
   "id": "3b26585aa8810e31",
   "execution_count": 39
  },
  {
   "cell_type": "code",
   "outputs": [],
   "source": [
    "claude_3 = df[['Question','anthropic/claude-3-opus','claude-3_unambiguous','claude-3_revised_question','claude-3_revised_question_answer']]"
   ],
   "metadata": {
    "collapsed": false,
    "ExecuteTime": {
     "end_time": "2024-07-12T01:43:28.110728Z",
     "start_time": "2024-07-12T01:43:28.100843Z"
    }
   },
   "id": "6f576253d0d1aaa3",
   "execution_count": 40
  },
  {
   "cell_type": "code",
   "outputs": [],
   "source": [
    "claude_3.to_csv(\"claude_3.csv\",index=False)"
   ],
   "metadata": {
    "collapsed": false,
    "ExecuteTime": {
     "end_time": "2024-07-12T01:43:58.875352Z",
     "start_time": "2024-07-12T01:43:58.755009Z"
    }
   },
   "id": "9010be6f887533d6",
   "execution_count": 42
  },
  {
   "cell_type": "code",
   "outputs": [
    {
     "data": {
      "text/plain": "0.06451612903225806"
     },
     "execution_count": 46,
     "metadata": {},
     "output_type": "execute_result"
    }
   ],
   "source": [
    "2/31\n"
   ],
   "metadata": {
    "collapsed": false,
    "ExecuteTime": {
     "end_time": "2024-07-12T03:23:37.636225Z",
     "start_time": "2024-07-12T03:23:37.629325Z"
    }
   },
   "id": "d6b23a8b54f3db8a",
   "execution_count": 46
  }
 ],
 "metadata": {
  "kernelspec": {
   "display_name": "Python 3",
   "language": "python",
   "name": "python3"
  },
  "language_info": {
   "codemirror_mode": {
    "name": "ipython",
    "version": 2
   },
   "file_extension": ".py",
   "mimetype": "text/x-python",
   "name": "python",
   "nbconvert_exporter": "python",
   "pygments_lexer": "ipython2",
   "version": "2.7.6"
  }
 },
 "nbformat": 4,
 "nbformat_minor": 5
}
