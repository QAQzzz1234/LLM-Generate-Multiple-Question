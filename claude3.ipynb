{
 "cells": [
  {
   "cell_type": "code",
   "execution_count": 1,
   "id": "initial_id",
   "metadata": {
    "collapsed": true,
    "ExecuteTime": {
     "end_time": "2024-06-21T22:16:26.678486Z",
     "start_time": "2024-06-21T22:16:26.060284Z"
    }
   },
   "outputs": [
    {
     "data": {
      "text/plain": "   Unnamed: 0                                           Question  \\\n0           0                      The StackADT's pop operation:   \n1           1  You see the expression n = 100000 in some code...   \n2           2  public BallPanel extends javax.swing.JPanel {\\...   \n3           3  Suppose s is an instance of a stack that can s...   \n4           4  Suppose you are trying to choose between an ar...   \n\n                                openai/gpt-3.5-turbo  \\\n0  A) removes the bottom item from the stack\\nB) ...   \n1  A) char\\nB) boolean\\nC) float\\nD) double\\n\\nCo...   \n2  A) System.out.println(_balls[0].getColor()); \\...   \n3        A. Finland (X)\\n\\nB. is\\n\\nC. my\\n\\nD. home   \n4    A) Queue\\nB) Stack\\nC) Heap\\nD) Linked list (X)   \n\n                                        openai/gpt-4  \\\n0  A) Returns the element at the top of the stack...   \n1             A) int\\nB) long\\nC) float\\nD) char (X)   \n2  A) this._balls[5].getColor()\\nB) _balls[25].ge...   \n3      A) \"is\"\\nB) \"Finland\"\\nC) \"home\"\\nD) \"my\" (X)   \n4    A) Stack\\nB) Queue\\nC) Array\\nD) X) Linked List   \n\n                         meta-llama/llama-2-70b-chat  \\\n0  Which of the following statements best describ...   \n1  A) int\\nB) long\\nC) float\\nD) double\\n\\n(X) B)...   \n2  A) `_balls[0].getColor()` (X)\\nB) `getBall(0)....   \n3  A) \"Finland\"\\nB) \"is\"\\nC) \"my\"\\nD) \"home\"\\n\\n(...   \n4  A) Array\\nB) Linked List\\nC) Vector\\nD) Stack\\...   \n\n                       mistralai/mistral-7b-instruct  \n0  1. Retrieves the top element from the stack\\n2...  \n1  A) An integer (X)\\nB) A string\\nC) A boolean\\n...  \n2  a) `_balls[i].setColor(_color);`\\nb) `Ball[] a...  \n3  1. (X) The value of z after executing these st...  \n4  1. Arrays\\n2. Linked List\\n3. Stack\\n4. Queue\\...  ",
      "text/html": "<div>\n<style scoped>\n    .dataframe tbody tr th:only-of-type {\n        vertical-align: middle;\n    }\n\n    .dataframe tbody tr th {\n        vertical-align: top;\n    }\n\n    .dataframe thead th {\n        text-align: right;\n    }\n</style>\n<table border=\"1\" class=\"dataframe\">\n  <thead>\n    <tr style=\"text-align: right;\">\n      <th></th>\n      <th>Unnamed: 0</th>\n      <th>Question</th>\n      <th>openai/gpt-3.5-turbo</th>\n      <th>openai/gpt-4</th>\n      <th>meta-llama/llama-2-70b-chat</th>\n      <th>mistralai/mistral-7b-instruct</th>\n    </tr>\n  </thead>\n  <tbody>\n    <tr>\n      <th>0</th>\n      <td>0</td>\n      <td>The StackADT's pop operation:</td>\n      <td>A) removes the bottom item from the stack\\nB) ...</td>\n      <td>A) Returns the element at the top of the stack...</td>\n      <td>Which of the following statements best describ...</td>\n      <td>1. Retrieves the top element from the stack\\n2...</td>\n    </tr>\n    <tr>\n      <th>1</th>\n      <td>1</td>\n      <td>You see the expression n = 100000 in some code...</td>\n      <td>A) char\\nB) boolean\\nC) float\\nD) double\\n\\nCo...</td>\n      <td>A) int\\nB) long\\nC) float\\nD) char (X)</td>\n      <td>A) int\\nB) long\\nC) float\\nD) double\\n\\n(X) B)...</td>\n      <td>A) An integer (X)\\nB) A string\\nC) A boolean\\n...</td>\n    </tr>\n    <tr>\n      <th>2</th>\n      <td>2</td>\n      <td>public BallPanel extends javax.swing.JPanel {\\...</td>\n      <td>A) System.out.println(_balls[0].getColor()); \\...</td>\n      <td>A) this._balls[5].getColor()\\nB) _balls[25].ge...</td>\n      <td>A) `_balls[0].getColor()` (X)\\nB) `getBall(0)....</td>\n      <td>a) `_balls[i].setColor(_color);`\\nb) `Ball[] a...</td>\n    </tr>\n    <tr>\n      <th>3</th>\n      <td>3</td>\n      <td>Suppose s is an instance of a stack that can s...</td>\n      <td>A. Finland (X)\\n\\nB. is\\n\\nC. my\\n\\nD. home</td>\n      <td>A) \"is\"\\nB) \"Finland\"\\nC) \"home\"\\nD) \"my\" (X)</td>\n      <td>A) \"Finland\"\\nB) \"is\"\\nC) \"my\"\\nD) \"home\"\\n\\n(...</td>\n      <td>1. (X) The value of z after executing these st...</td>\n    </tr>\n    <tr>\n      <th>4</th>\n      <td>4</td>\n      <td>Suppose you are trying to choose between an ar...</td>\n      <td>A) Queue\\nB) Stack\\nC) Heap\\nD) Linked list (X)</td>\n      <td>A) Stack\\nB) Queue\\nC) Array\\nD) X) Linked List</td>\n      <td>A) Array\\nB) Linked List\\nC) Vector\\nD) Stack\\...</td>\n      <td>1. Arrays\\n2. Linked List\\n3. Stack\\n4. Queue\\...</td>\n    </tr>\n  </tbody>\n</table>\n</div>"
     },
     "execution_count": 1,
     "metadata": {},
     "output_type": "execute_result"
    }
   ],
   "source": [
    "import pandas as pd\n",
    "df = pd.read_csv(\"question_reproduce.csv\")\n",
    "df.head()"
   ]
  },
  {
   "cell_type": "code",
   "outputs": [],
   "source": [
    "import requests\n",
    "import json\n",
    "api_key = \"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\"\n",
    "#\"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\"\n",
    "\n",
    "\n",
    "def ask_question_open_router(question,model):\n",
    "    response = requests.post(\n",
    "  url=\"https://openrouter.ai/api/v1/chat/completions\",\n",
    "  headers={\n",
    "    \"Authorization\": f\"Bearer {api_key}\"\n",
    "  },\n",
    "  data=json.dumps({\n",
    "    \"model\": model, \n",
    "    \"messages\": [\n",
    "      {\"role\": \"user\", \"content\": question }\n",
    "    ]\n",
    "  })\n",
    ")\n",
    "    response_data = response.json()\n",
    "    messages = [choice['message']['content'] for choice in response_data['choices']]\n",
    "    return messages"
   ],
   "metadata": {
    "collapsed": false,
    "ExecuteTime": {
     "end_time": "2024-06-21T22:16:29.327435Z",
     "start_time": "2024-06-21T22:16:29.239304Z"
    }
   },
   "id": "5eca9d76f9beea95",
   "execution_count": 2
  },
  {
   "cell_type": "code",
   "outputs": [
    {
     "ename": "KeyError",
     "evalue": "'choices'",
     "output_type": "error",
     "traceback": [
      "\u001B[0;31m---------------------------------------------------------------------------\u001B[0m",
      "\u001B[0;31mKeyError\u001B[0m                                  Traceback (most recent call last)",
      "Cell \u001B[0;32mIn[3], line 7\u001B[0m\n\u001B[1;32m      5\u001B[0m \u001B[38;5;28;01mfor\u001B[39;00m i \u001B[38;5;129;01min\u001B[39;00m \u001B[38;5;28mrange\u001B[39m(\u001B[38;5;241m50\u001B[39m):\n\u001B[1;32m      6\u001B[0m     question \u001B[38;5;241m=\u001B[39m Prompt \u001B[38;5;241m+\u001B[39m df[\u001B[38;5;124m'\u001B[39m\u001B[38;5;124mQuestion\u001B[39m\u001B[38;5;124m'\u001B[39m][i]\n\u001B[0;32m----> 7\u001B[0m     messages \u001B[38;5;241m=\u001B[39m ask_question_open_router(question,model)\n\u001B[1;32m      8\u001B[0m     answer\u001B[38;5;241m.\u001B[39mappend(messages[\u001B[38;5;241m0\u001B[39m])\n\u001B[1;32m      9\u001B[0m df[model] \u001B[38;5;241m=\u001B[39m answer\n",
      "Cell \u001B[0;32mIn[2], line 21\u001B[0m, in \u001B[0;36mask_question_open_router\u001B[0;34m(question, model)\u001B[0m\n\u001B[1;32m      8\u001B[0m     response \u001B[38;5;241m=\u001B[39m requests\u001B[38;5;241m.\u001B[39mpost(\n\u001B[1;32m      9\u001B[0m   url\u001B[38;5;241m=\u001B[39m\u001B[38;5;124m\"\u001B[39m\u001B[38;5;124mhttps://openrouter.ai/api/v1/chat/completions\u001B[39m\u001B[38;5;124m\"\u001B[39m,\n\u001B[1;32m     10\u001B[0m   headers\u001B[38;5;241m=\u001B[39m{\n\u001B[0;32m   (...)\u001B[0m\n\u001B[1;32m     18\u001B[0m   })\n\u001B[1;32m     19\u001B[0m )\n\u001B[1;32m     20\u001B[0m     response_data \u001B[38;5;241m=\u001B[39m response\u001B[38;5;241m.\u001B[39mjson()\n\u001B[0;32m---> 21\u001B[0m     messages \u001B[38;5;241m=\u001B[39m [choice[\u001B[38;5;124m'\u001B[39m\u001B[38;5;124mmessage\u001B[39m\u001B[38;5;124m'\u001B[39m][\u001B[38;5;124m'\u001B[39m\u001B[38;5;124mcontent\u001B[39m\u001B[38;5;124m'\u001B[39m] \u001B[38;5;28;01mfor\u001B[39;00m choice \u001B[38;5;129;01min\u001B[39;00m response_data[\u001B[38;5;124m'\u001B[39m\u001B[38;5;124mchoices\u001B[39m\u001B[38;5;124m'\u001B[39m]]\n\u001B[1;32m     22\u001B[0m     \u001B[38;5;28;01mreturn\u001B[39;00m messages\n",
      "\u001B[0;31mKeyError\u001B[0m: 'choices'"
     ]
    }
   ],
   "source": [
    "Prompt = \"Based on the following multiple-choice question, generate three plausible distractors and one correct answer. Mark the correct answer with an (X), and no explanation\"\n",
    "\n",
    "model = \"anthropic/claude-3-opus\"\n",
    "answer = []\n",
    "for i in range(50):\n",
    "    question = Prompt + df['Question'][i]\n",
    "    messages = ask_question_open_router(question,model)\n",
    "    answer.append(messages[0])\n",
    "df[model] = answer"
   ],
   "metadata": {
    "collapsed": false,
    "ExecuteTime": {
     "end_time": "2024-06-21T22:16:33.028911Z",
     "start_time": "2024-06-21T22:16:31.986092Z"
    }
   },
   "id": "e31e65b871ac2b3c",
   "execution_count": 3
  },
  {
   "cell_type": "code",
   "outputs": [],
   "source": [
    "Prompt = \"Is the question an unambiguous exam question that has only one answer?, answer with YES or NO\"\n",
    "for i in range(50):\n",
    "    question = Prompt + df['Question'][i]\n",
    "    messages = ask_question_open_router(question,\"anthropic/claude-3-opus\")\n",
    "    if \"YES\" in messages[0].upper():\n",
    "        df['claude-3_unambiguous'][i] = \"Y\"\n",
    "    else:\n",
    "        df['claude-3_unambiguous'][i] = \"N\""
   ],
   "metadata": {
    "collapsed": false
   },
   "id": "a6f60870a799c017"
  },
  {
   "cell_type": "code",
   "outputs": [],
   "source": [
    "prompt = \"How would you rephrase the question to be unambiguous and suitable for a Multiple choice question on an exam? \"\n",
    "revised_question_claude3 = []\n",
    "for i in range(len(df)):\n",
    "    if df['claude-3_unambiguous'][i] == 'N':\n",
    "        question = prompt+df['Question'][i]\n",
    "        messages = ask_question_open_router(question,\"anthropic/claude-3-opus\")\n",
    "        revised_question_claude3.append(messages[0])\n",
    "    else:\n",
    "        revised_question_claude3.append(\"None\")\n",
    "df['claude-3_revised_question'] = revised_question_claude3"
   ],
   "metadata": {
    "collapsed": false
   },
   "id": "97b50d8511abf3b0"
  },
  {
   "cell_type": "code",
   "outputs": [],
   "source": [
    "Prompt = \"Based on the following multiple-choice question, generate three plausible distractors and one correct answer. Mark the correct answer with an (X), and no explanation\"\n",
    "\n",
    "answer = []\n",
    "for i in range(50):\n",
    "    question = Prompt + df['claude-3_revised_question'][i]\n",
    "    messages = ask_question_open_router(question,model)\n",
    "    answer.append(messages[0])\n",
    "df[\"claude-3_revised_question_answer\"] = answer"
   ],
   "metadata": {
    "collapsed": false
   },
   "id": "35e6c8466eb4d37f"
  }
 ],
 "metadata": {
  "kernelspec": {
   "display_name": "Python 3",
   "language": "python",
   "name": "python3"
  },
  "language_info": {
   "codemirror_mode": {
    "name": "ipython",
    "version": 2
   },
   "file_extension": ".py",
   "mimetype": "text/x-python",
   "name": "python",
   "nbconvert_exporter": "python",
   "pygments_lexer": "ipython2",
   "version": "2.7.6"
  }
 },
 "nbformat": 4,
 "nbformat_minor": 5
}
